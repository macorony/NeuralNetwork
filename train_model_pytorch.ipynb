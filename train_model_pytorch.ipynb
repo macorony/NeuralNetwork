{
  "nbformat": 4,
  "nbformat_minor": 0,
  "metadata": {
    "colab": {
      "provenance": [],
      "mount_file_id": "https://github.com/macorony/NeuralNetwork/blob/main/train_model_pytorch.ipynb",
      "authorship_tag": "ABX9TyOX32VWgda8xownPQ2pIBLu",
      "include_colab_link": true
    },
    "kernelspec": {
      "name": "python3",
      "display_name": "Python 3"
    },
    "language_info": {
      "name": "python"
    }
  },
  "cells": [
    {
      "cell_type": "markdown",
      "metadata": {
        "id": "view-in-github",
        "colab_type": "text"
      },
      "source": [
        "<a href=\"https://colab.research.google.com/github/macorony/NeuralNetwork/blob/main/train_model_pytorch.ipynb\" target=\"_parent\"><img src=\"https://colab.research.google.com/assets/colab-badge.svg\" alt=\"Open In Colab\"/></a>"
      ]
    },
    {
      "cell_type": "code",
      "execution_count": 34,
      "metadata": {
        "id": "oU1Y3QLfxmvi"
      },
      "outputs": [],
      "source": [
        "import torch\n",
        "import torchvision\n",
        "import torchvision.transforms as transforms\n",
        "import torch.nn as nn\n",
        "import torch.nn.functional as F\n",
        "import numpy as np\n",
        "import matplotlib.pyplot as plt\n",
        "from torch.utils.tensorboard import SummaryWriter\n",
        "from datetime import datetime"
      ]
    },
    {
      "cell_type": "code",
      "source": [
        "device = ('cuda' if torch.cuda.is_available() else \"cpu\")\n",
        "print(device)"
      ],
      "metadata": {
        "colab": {
          "base_uri": "https://localhost:8080/"
        },
        "id": "QySPPrWw5Q9_",
        "outputId": "29514176-e979-4648-8981-a7d5ed682678"
      },
      "execution_count": 3,
      "outputs": [
        {
          "output_type": "stream",
          "name": "stdout",
          "text": [
            "cpu\n"
          ]
        }
      ]
    },
    {
      "cell_type": "code",
      "source": [
        "classes = ['airplane', 'automobile', 'bird', 'cat', 'deer', 'dog', 'frog', 'horse', 'ship', 'truck']\n",
        "[classes[i] for i in [1,2,3]]"
      ],
      "metadata": {
        "id": "C71xXsq-_Buq",
        "outputId": "2f0c6d86-213b-4252-cea7-878f977ebebe",
        "colab": {
          "base_uri": "https://localhost:8080/"
        }
      },
      "execution_count": 4,
      "outputs": [
        {
          "output_type": "execute_result",
          "data": {
            "text/plain": [
              "['automobile', 'bird', 'cat']"
            ]
          },
          "metadata": {},
          "execution_count": 4
        }
      ]
    },
    {
      "cell_type": "code",
      "source": [
        "transform = transforms.Compose([transforms.ToTensor()])"
      ],
      "metadata": {
        "id": "x2dVnXsykEgp"
      },
      "execution_count": 5,
      "outputs": []
    },
    {
      "cell_type": "code",
      "source": [
        "train_data = torchvision.datasets.CIFAR10('./data', train=True, download=True, transform=transform)\n",
        "test_data = torchvision.datasets.CIFAR10('./data', train=False, download=True, transform=transform)"
      ],
      "metadata": {
        "colab": {
          "base_uri": "https://localhost:8080/"
        },
        "id": "2M-kQe4vycS8",
        "outputId": "7bddcb36-a70d-4741-92ef-71f0293e1262"
      },
      "execution_count": 6,
      "outputs": [
        {
          "output_type": "stream",
          "name": "stdout",
          "text": [
            "Downloading https://www.cs.toronto.edu/~kriz/cifar-10-python.tar.gz to ./data/cifar-10-python.tar.gz\n"
          ]
        },
        {
          "output_type": "stream",
          "name": "stderr",
          "text": [
            "100%|██████████| 170498071/170498071 [00:03<00:00, 49132601.56it/s]\n"
          ]
        },
        {
          "output_type": "stream",
          "name": "stdout",
          "text": [
            "Extracting ./data/cifar-10-python.tar.gz to ./data\n",
            "Files already downloaded and verified\n"
          ]
        }
      ]
    },
    {
      "cell_type": "code",
      "source": [
        "train_loader = torch.utils.data.DataLoader(train_data, batch_size=4, shuffle=True, num_workers=2)\n",
        "test_loader =  torch.utils.data.DataLoader(test_data, batch_size=4, shuffle=True, num_workers=2)"
      ],
      "metadata": {
        "id": "D8cH8e83zp3B"
      },
      "execution_count": 7,
      "outputs": []
    },
    {
      "cell_type": "code",
      "source": [
        "for i, data in enumerate(train_loader):\n",
        "  print(train_loader)\n",
        "  dummy_data = data\n",
        "  break"
      ],
      "metadata": {
        "colab": {
          "base_uri": "https://localhost:8080/"
        },
        "id": "ME6zL1xcvJ0a",
        "outputId": "da22abcf-e0de-4439-8fcf-9418b95bc2f3"
      },
      "execution_count": 8,
      "outputs": [
        {
          "output_type": "stream",
          "name": "stdout",
          "text": [
            "<torch.utils.data.dataloader.DataLoader object at 0x7d4cbe2e9030>\n"
          ]
        }
      ]
    },
    {
      "cell_type": "code",
      "source": [
        "dummy_data[0].shape"
      ],
      "metadata": {
        "colab": {
          "base_uri": "https://localhost:8080/"
        },
        "id": "0uanaI2OvjUK",
        "outputId": "f026324b-ae8c-4574-e8ef-a8fbea4e84ae"
      },
      "execution_count": 9,
      "outputs": [
        {
          "output_type": "execute_result",
          "data": {
            "text/plain": [
              "torch.Size([4, 3, 32, 32])"
            ]
          },
          "metadata": {},
          "execution_count": 9
        }
      ]
    },
    {
      "cell_type": "code",
      "source": [
        "def loader_show(dataloader):\n",
        "  images, labels = next(iter(train_loader))\n",
        "  grid = torchvision.utils.make_grid(images)\n",
        "  plt.imshow(grid.permute(1,2,0))\n",
        "  print([classes[i] for i in labels])\n",
        "  plt.show()"
      ],
      "metadata": {
        "id": "JXKRs0k96ngD"
      },
      "execution_count": 10,
      "outputs": []
    },
    {
      "cell_type": "code",
      "source": [
        "for _ in range(4):\n",
        "  loader_show(train_loader)"
      ],
      "metadata": {
        "colab": {
          "base_uri": "https://localhost:8080/",
          "height": 790
        },
        "id": "3bBKHWfg9FLW",
        "outputId": "f3d0d299-884e-4882-ced6-d6aa0e405148"
      },
      "execution_count": 11,
      "outputs": [
        {
          "output_type": "stream",
          "name": "stdout",
          "text": [
            "['airplane', 'horse', 'horse', 'bird']\n"
          ]
        },
        {
          "output_type": "display_data",
          "data": {
            "text/plain": [
              "<Figure size 640x480 with 1 Axes>"
            ],
            "image/png": "[encoded data removed]"
          },
          "metadata": {}
        },
        {
          "output_type": "stream",
          "name": "stdout",
          "text": [
            "['bird', 'horse', 'horse', 'dog']\n"
          ]
        },
        {
          "output_type": "display_data",
          "data": {
            "text/plain": [
              "<Figure size 640x480 with 1 Axes>"
            ],
            "image/png": "[encoded data removed]"
          },
          "metadata": {}
        },
        {
          "output_type": "stream",
          "name": "stdout",
          "text": [
            "['automobile', 'automobile', 'horse', 'automobile']\n"
          ]
        },
        {
          "output_type": "display_data",
          "data": {
            "text/plain": [
              "<Figure size 640x480 with 1 Axes>"
            ],
            "image/png": "[encoded data removed]"
          },
          "metadata": {}
        },
        {
          "output_type": "stream",
          "name": "stdout",
          "text": [
            "['cat', 'ship', 'cat', 'bird']\n"
          ]
        },
        {
          "output_type": "display_data",
          "data": {
            "text/plain": [
              "<Figure size 640x480 with 1 Axes>"
            ],
            "image/png": "[encoded data removed]"
          },
          "metadata": {}
        }
      ]
    },
    {
      "cell_type": "markdown",
      "source": [
        "## Model"
      ],
      "metadata": {
        "id": "i2cntp37ifev"
      }
    },
    {
      "cell_type": "code",
      "source": [
        "class NNmodel(nn.Module):\n",
        "  def __init__(self):\n",
        "    super(NNmodel, self).__init__()\n",
        "    self.conv1 = nn.Conv2d(3, 6, 5)\n",
        "    self.pool = nn.MaxPool2d(2, 2)\n",
        "    self.conv2 = nn.Conv2d(6, 16, 5)\n",
        "    self.fc1 = nn.Linear(400, 120)\n",
        "    self.fc2 = nn.Linear(120, 80)\n",
        "    self.fc3 = nn.Linear(80, 10)\n",
        "\n",
        "  def forward(self, input):\n",
        "    x = self.pool(F.relu(self.conv1(input)))\n",
        "    x = self.pool(F.relu(self.conv2(x)))\n",
        "    x = torch.flatten(x,1)\n",
        "    x = F.relu(self.fc1(x))\n",
        "    x = F.relu(self.fc2(x))\n",
        "    output = self.fc3(x)\n",
        "    return output\n",
        "\n",
        "model = NNmodel()\n",
        "print(model)"
      ],
      "metadata": {
        "colab": {
          "base_uri": "https://localhost:8080/"
        },
        "id": "bQyk5hHwEZn2",
        "outputId": "0d5a86b6-8429-4fc2-d849-3a65bd36113c"
      },
      "execution_count": 12,
      "outputs": [
        {
          "output_type": "stream",
          "name": "stdout",
          "text": [
            "NNmodel(\n",
            "  (conv1): Conv2d(3, 6, kernel_size=(5, 5), stride=(1, 1))\n",
            "  (pool): MaxPool2d(kernel_size=2, stride=2, padding=0, dilation=1, ceil_mode=False)\n",
            "  (conv2): Conv2d(6, 16, kernel_size=(5, 5), stride=(1, 1))\n",
            "  (fc1): Linear(in_features=400, out_features=120, bias=True)\n",
            "  (fc2): Linear(in_features=120, out_features=80, bias=True)\n",
            "  (fc3): Linear(in_features=80, out_features=10, bias=True)\n",
            ")\n"
          ]
        }
      ]
    },
    {
      "cell_type": "markdown",
      "source": [
        "## Loss function"
      ],
      "metadata": {
        "id": "zpvPMcChiqle"
      }
    },
    {
      "cell_type": "code",
      "source": [
        "loss_fun = nn.CrossEntropyLoss()"
      ],
      "metadata": {
        "id": "Ho7DmvaMlJCS"
      },
      "execution_count": 13,
      "outputs": []
    },
    {
      "cell_type": "code",
      "source": [
        "# a dummy test for loss function\n",
        "images, labels = next(iter(train_loader))\n",
        "dummy_label = torch.arange(0, 4)\n",
        "dummy_output = model(images)\n",
        "print(dummy_label.shape)\n",
        "print(dummy_output.shape)\n",
        "loss = loss_fun(dummy_output, dummy_label)\n",
        "print(loss.item())"
      ],
      "metadata": {
        "id": "AIJwBlUUmFB9",
        "colab": {
          "base_uri": "https://localhost:8080/"
        },
        "outputId": "a8dd9600-1ffb-40ca-cd47-9712004f1928"
      },
      "execution_count": 14,
      "outputs": [
        {
          "output_type": "stream",
          "name": "stdout",
          "text": [
            "torch.Size([4])\n",
            "torch.Size([4, 10])\n",
            "2.2757787704467773\n"
          ]
        }
      ]
    },
    {
      "cell_type": "markdown",
      "source": [
        "## Optimizer"
      ],
      "metadata": {
        "id": "stLy3PDPs7Dq"
      }
    },
    {
      "cell_type": "code",
      "source": [
        "optimizer = torch.optim.SGD(model.parameters(), lr=0.001, momentum=0.9)"
      ],
      "metadata": {
        "id": "UcNbV3UgoJYT"
      },
      "execution_count": 15,
      "outputs": []
    },
    {
      "cell_type": "code",
      "source": [
        "model"
      ],
      "metadata": {
        "colab": {
          "base_uri": "https://localhost:8080/"
        },
        "id": "u72nzgr58IlY",
        "outputId": "620d45fb-eb5d-47d1-e4e8-121275d2cb33"
      },
      "execution_count": 16,
      "outputs": [
        {
          "output_type": "execute_result",
          "data": {
            "text/plain": [
              "NNmodel(\n",
              "  (conv1): Conv2d(3, 6, kernel_size=(5, 5), stride=(1, 1))\n",
              "  (pool): MaxPool2d(kernel_size=2, stride=2, padding=0, dilation=1, ceil_mode=False)\n",
              "  (conv2): Conv2d(6, 16, kernel_size=(5, 5), stride=(1, 1))\n",
              "  (fc1): Linear(in_features=400, out_features=120, bias=True)\n",
              "  (fc2): Linear(in_features=120, out_features=80, bias=True)\n",
              "  (fc3): Linear(in_features=80, out_features=10, bias=True)\n",
              ")"
            ]
          },
          "metadata": {},
          "execution_count": 16
        }
      ]
    },
    {
      "cell_type": "markdown",
      "source": [
        "## Training"
      ],
      "metadata": {
        "id": "-ireLiIgt-mW"
      }
    },
    {
      "cell_type": "code",
      "source": [
        "for epoch in range(1):\n",
        "  running_loss = 0.0\n",
        "  for i, data in enumerate(train_loader):\n",
        "    inputs, labels = data\n",
        "    # zero gradient for every batch\n",
        "    optimizer.zero_grad()\n",
        "\n",
        "    outputs = model(inputs)\n",
        "\n",
        "    loss = loss_fun(outputs, labels)\n",
        "\n",
        "    loss.backward()\n",
        "\n",
        "    optimizer.step()\n",
        "\n",
        "    running_loss += loss.item()\n",
        "    if i % 2000 == 1999:\n",
        "      print(f\"[{epoch + 1}, {i + 1: 5d}] loss: {running_loss / 2000:.3f}\")\n",
        "      running_loss = 0.0"
      ],
      "metadata": {
        "colab": {
          "base_uri": "https://localhost:8080/"
        },
        "id": "Dh7DYD6lzPMl",
        "outputId": "18dc54ea-9fb9-4591-b4d3-912d3e304466"
      },
      "execution_count": 17,
      "outputs": [
        {
          "output_type": "stream",
          "name": "stdout",
          "text": [
            "[1,  2000] loss: 2.242\n",
            "[1,  4000] loss: 2.027\n",
            "[1,  6000] loss: 1.858\n",
            "[1,  8000] loss: 1.720\n",
            "[1,  10000] loss: 1.623\n",
            "[1,  12000] loss: 1.581\n"
          ]
        }
      ]
    },
    {
      "cell_type": "code",
      "source": [
        "Path = '/content/drive/MyDrive/file_transmission/cifar10_net.pth'\n",
        "torch.save(model.state_dict(), Path)"
      ],
      "metadata": {
        "id": "a7tpMvnduC3e"
      },
      "execution_count": 18,
      "outputs": []
    },
    {
      "cell_type": "code",
      "source": [
        "# a simple test\n",
        "loader_show(test_loader)"
      ],
      "metadata": {
        "colab": {
          "base_uri": "https://localhost:8080/",
          "height": 210
        },
        "id": "o175hJBSuC5c",
        "outputId": "a8439445-ecf1-4b9e-c117-b56bf5f18a5a"
      },
      "execution_count": 19,
      "outputs": [
        {
          "output_type": "stream",
          "name": "stdout",
          "text": [
            "['truck', 'automobile', 'bird', 'horse']\n"
          ]
        },
        {
          "output_type": "display_data",
          "data": {
            "text/plain": [
              "<Figure size 640x480 with 1 Axes>"
            ],
            "image/png": "[encoded data removed]"
          },
          "metadata": {}
        }
      ]
    },
    {
      "cell_type": "code",
      "source": [
        "correct = 0\n",
        "total = 0\n",
        "\n",
        "with torch.no_grad():\n",
        "  for data in test_loader:\n",
        "    images, labels = data\n",
        "    outputs = model(images)\n",
        "    _, predicted = torch.max(outputs.data, 1)\n",
        "    total += labels.size(0)\n",
        "    correct += (predicted == labels).sum().item()"
      ],
      "metadata": {
        "id": "P2RDe8Hz_19c"
      },
      "execution_count": 20,
      "outputs": []
    },
    {
      "cell_type": "code",
      "source": [
        "print(f'The accuracy of the model is {100 * correct/total}%')"
      ],
      "metadata": {
        "colab": {
          "base_uri": "https://localhost:8080/"
        },
        "id": "1NAko-mRCm6D",
        "outputId": "bbb29bbf-7578-4d9b-b0ab-e28c84311f78"
      },
      "execution_count": 21,
      "outputs": [
        {
          "output_type": "stream",
          "name": "stdout",
          "text": [
            "The accuracy of the model is 45.81%\n"
          ]
        }
      ]
    },
    {
      "cell_type": "code",
      "source": [
        "correct_pred = {classname:0 for classname in classes}\n",
        "total_pred = {classname:0 for classname in classes}\n",
        "with torch.no_grad():\n",
        "  for data in test_loader:\n",
        "    images, labels = data\n",
        "    outputs = model(images)\n",
        "    _, predicted = torch.max(outputs, 1)\n",
        "    for i, item in enumerate(predicted==labels):\n",
        "      label = classes[labels[i].item()]\n",
        "      total_pred[label] = total_pred.get(label, 0) + 1\n",
        "      if item == True:\n",
        "        correct_name = classes[predicted[i].item()]\n",
        "        correct_pred[correct_name] = correct_pred.get(correct_name, 0) + 1"
      ],
      "metadata": {
        "id": "AP-vFxMl_vmy"
      },
      "execution_count": 22,
      "outputs": []
    },
    {
      "cell_type": "code",
      "source": [
        "print(total_pred)\n",
        "print(correct_pred)"
      ],
      "metadata": {
        "colab": {
          "base_uri": "https://localhost:8080/"
        },
        "id": "fo0DOs01kfSi",
        "outputId": "13540112-6045-486b-b6af-59684941719d"
      },
      "execution_count": 23,
      "outputs": [
        {
          "output_type": "stream",
          "name": "stdout",
          "text": [
            "{'airplane': 1000, 'automobile': 1000, 'bird': 1000, 'cat': 1000, 'deer': 1000, 'dog': 1000, 'frog': 1000, 'horse': 1000, 'ship': 1000, 'truck': 1000}\n",
            "{'airplane': 427, 'automobile': 703, 'bird': 291, 'cat': 246, 'deer': 309, 'dog': 357, 'frog': 662, 'horse': 469, 'ship': 589, 'truck': 528}\n"
          ]
        }
      ]
    },
    {
      "cell_type": "code",
      "source": [
        "accuracy = dict()\n",
        "for key, total, correct in zip(total_pred.keys(), total_pred.values(), correct_pred.values()):\n",
        "  accuracy[key] = correct / total\n",
        "print(accuracy)"
      ],
      "metadata": {
        "colab": {
          "base_uri": "https://localhost:8080/"
        },
        "id": "yeHBwBeuo-Fi",
        "outputId": "a5eb8451-ffad-46ff-eb86-1466aa78ea60"
      },
      "execution_count": 25,
      "outputs": [
        {
          "output_type": "stream",
          "name": "stdout",
          "text": [
            "{'airplane': 0.427, 'automobile': 0.703, 'bird': 0.291, 'cat': 0.246, 'deer': 0.309, 'dog': 0.357, 'frog': 0.662, 'horse': 0.469, 'ship': 0.589, 'truck': 0.528}\n"
          ]
        }
      ]
    },
    {
      "cell_type": "markdown",
      "source": [],
      "metadata": {
        "id": "dLH6i799cqvA"
      }
    },
    {
      "cell_type": "code",
      "source": [
        "def train_one_epoch(epoch_idx, tb_writer):\n",
        "  running_loss = 0.0\n",
        "  last_loss = 0.0\n",
        "  for i, data in enumerate(train_loader):\n",
        "    inputs, labels = data\n",
        "    optimizer.zero_grad()\n",
        "    outputs = model(inputs)\n",
        "    loss = loss_fun(outputs, labels)\n",
        "    loss.backward()\n",
        "    optimizer.step()\n",
        "    running_loss += loss.item()\n",
        "    if i % 1000 == 999:\n",
        "      last_loss = running_loss / 1000\n",
        "      print(f'batch {i} loss: {last_loss}')\n",
        "      tb_x = epoch_idx * len(train_loader) + i + 1\n",
        "      tb_writer.add_scalar('Loss/train', last_loss, tb_x)\n",
        "      running_loss = 0\n",
        "  return last_loss"
      ],
      "metadata": {
        "id": "Lu8yxX0kcp3M"
      },
      "execution_count": 27,
      "outputs": []
    },
    {
      "cell_type": "code",
      "source": [
        "timestamp = datetime.now().strftime('%Y%m%d_%H%M%S')\n",
        "writer = SummaryWriter('runs/fashion_trainer_{}'.format(timestamp))\n",
        "epoch_number = 0"
      ],
      "metadata": {
        "id": "e2kwB9K4hGM1"
      },
      "execution_count": 44,
      "outputs": []
    },
    {
      "cell_type": "code",
      "source": [
        "EPOCH = 5\n",
        "best_tloss = 1_000_000.\n",
        "print(best_tloss)"
      ],
      "metadata": {
        "id": "I4Q4UOUzpKHj",
        "outputId": "abc881ec-d16f-4d51-cf53-e9bb8626976b",
        "colab": {
          "base_uri": "https://localhost:8080/"
        }
      },
      "execution_count": 45,
      "outputs": [
        {
          "output_type": "stream",
          "name": "stdout",
          "text": [
            "1000000.0\n"
          ]
        }
      ]
    },
    {
      "cell_type": "code",
      "source": [
        "for epoch in range(EPOCH):\n",
        "  print('EPOCH {}:'.format(epoch_number + 1))\n",
        "\n",
        "  model.train(True)\n",
        "  avg_loss = train_one_epoch(epoch_number, writer)\n",
        "\n",
        "  model.train(False)\n",
        "  running_loss = 0.0\n",
        "  for i, tdata in enumerate(test_loader):\n",
        "    tinputs, tlabels = tdata\n",
        "    toutputs = model(tinputs)\n",
        "    tloss = loss_fun(toutputs, tlabels)\n",
        "    running_loss += tloss\n",
        "\n",
        "  avg_tloss = running_loss / (i + 1)\n",
        "  print(f'Loss train {avg_loss} test {avg_tloss}')\n",
        "\n",
        "  writer.add_scalars('Training vs. Test Loss', {'Training' : avg_loss, 'Test': avg_tloss}, epoch_number + 1)\n",
        "  writer.flush()\n",
        "\n",
        "  if avg_tloss < best_tloss:\n",
        "    best_tloss = avg_tloss\n",
        "    model_path = '/content/drive/MyDrive/file_transmission/model_{}_{}'.format(timestamp, epoch_number)\n",
        "    torch.save(model.state_dict(), model_path)\n",
        "\n",
        "  epoch_number += 1"
      ],
      "metadata": {
        "id": "nlpHHPWKpU2J",
        "outputId": "ec69b228-38b5-4210-9104-a169d2b61684",
        "colab": {
          "base_uri": "https://localhost:8080/"
        }
      },
      "execution_count": 48,
      "outputs": [
        {
          "output_type": "stream",
          "name": "stdout",
          "text": [
            "EPOCH 1:\n",
            "batch 999 loss: 1.3406589630246162\n",
            "batch 1999 loss: 1.336904125198722\n",
            "batch 2999 loss: 1.319528309173882\n",
            "batch 3999 loss: 1.3289058222174643\n",
            "batch 4999 loss: 1.301269929498434\n",
            "batch 5999 loss: 1.3017977685630322\n",
            "batch 6999 loss: 1.3092759853303433\n",
            "batch 7999 loss: 1.283170948624611\n",
            "batch 8999 loss: 1.310768802255392\n",
            "batch 9999 loss: 1.3099510304778814\n",
            "batch 10999 loss: 1.2985062926858664\n",
            "batch 11999 loss: 1.2930360193252564\n",
            "Loss train 1.2930360193252564 test 1.2953486442565918\n",
            "EPOCH 2:\n",
            "batch 999 loss: 1.227533616900444\n",
            "batch 1999 loss: 1.2315581455305218\n",
            "batch 2999 loss: 1.2220643385499717\n",
            "batch 3999 loss: 1.2296495988331735\n",
            "batch 4999 loss: 1.2206447703689336\n",
            "batch 5999 loss: 1.241562715217471\n",
            "batch 6999 loss: 1.211787427097559\n",
            "batch 7999 loss: 1.2115815205201506\n",
            "batch 8999 loss: 1.2415699714869262\n",
            "batch 9999 loss: 1.244225841805339\n",
            "batch 10999 loss: 1.2403699305541813\n",
            "batch 11999 loss: 1.2031705775186419\n",
            "Loss train 1.2031705775186419 test 1.316222906112671\n",
            "EPOCH 3:\n",
            "batch 999 loss: 1.159873801358044\n",
            "batch 1999 loss: 1.1564055851623416\n",
            "batch 2999 loss: 1.1390452466756105\n",
            "batch 3999 loss: 1.1433957797028125\n",
            "batch 4999 loss: 1.1645225835740567\n",
            "batch 5999 loss: 1.1475101842209696\n",
            "batch 6999 loss: 1.1861729622781276\n",
            "batch 7999 loss: 1.1684485247395933\n",
            "batch 8999 loss: 1.1620467228293418\n",
            "batch 9999 loss: 1.1878722050003707\n",
            "batch 10999 loss: 1.1944182159379124\n",
            "batch 11999 loss: 1.183789265908301\n",
            "Loss train 1.183789265908301 test 1.1896207332611084\n",
            "EPOCH 4:\n",
            "batch 999 loss: 1.0798945240825415\n",
            "batch 1999 loss: 1.0997177356779575\n",
            "batch 2999 loss: 1.0870371036827564\n",
            "batch 3999 loss: 1.1160543169863522\n",
            "batch 4999 loss: 1.1105477633588017\n",
            "batch 5999 loss: 1.1198346580043435\n",
            "batch 6999 loss: 1.120142972752452\n",
            "batch 7999 loss: 1.1191914922967554\n",
            "batch 8999 loss: 1.0940904925316572\n",
            "batch 9999 loss: 1.1339130977392196\n",
            "batch 10999 loss: 1.1430734329596162\n",
            "batch 11999 loss: 1.1414271454885603\n",
            "Loss train 1.1414271454885603 test 1.2301905155181885\n",
            "EPOCH 5:\n",
            "batch 999 loss: 1.0202126457933336\n",
            "batch 1999 loss: 1.0210332105793058\n",
            "batch 2999 loss: 1.0435647720880807\n",
            "batch 3999 loss: 1.051117224983871\n",
            "batch 4999 loss: 1.0807105332165956\n",
            "batch 5999 loss: 1.0844597448073328\n",
            "batch 6999 loss: 1.0746099851764739\n",
            "batch 7999 loss: 1.0946193567700684\n",
            "batch 8999 loss: 1.1150682512521743\n",
            "batch 9999 loss: 1.0534227731712162\n",
            "batch 10999 loss: 1.0777387051451952\n",
            "batch 11999 loss: 1.0596265723258258\n",
            "Loss train 1.0596265723258258 test 1.2671358585357666\n"
          ]
        }
      ]
    },
    {
      "cell_type": "code",
      "source": [],
      "metadata": {
        "id": "YbdI-xVG3hIF"
      },
      "execution_count": null,
      "outputs": []
    },
    {
      "cell_type": "code",
      "source": [],
      "metadata": {
        "id": "39fPJfp5q-Ki"
      },
      "execution_count": 42,
      "outputs": []
    },
    {
      "cell_type": "code",
      "source": [],
      "metadata": {
        "id": "lpd4q3sh3kIc"
      },
      "execution_count": null,
      "outputs": []
    }
  ]
}