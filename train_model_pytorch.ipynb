{
  "nbformat": 4,
  "nbformat_minor": 0,
  "metadata": {
    "colab": {
      "provenance": [],
      "mount_file_id": "https://github.com/macorony/NeuralNetwork/blob/main/train_model_pytorch.ipynb",
      "authorship_tag": "ABX9TyNUp7uqa1Ys8KcEzvWstPRe",
      "include_colab_link": true
    },
    "kernelspec": {
      "name": "python3",
      "display_name": "Python 3"
    },
    "language_info": {
      "name": "python"
    }
  },
  "cells": [
    {
      "cell_type": "markdown",
      "metadata": {
        "id": "view-in-github",
        "colab_type": "text"
      },
      "source": [
        "<a href=\"https://colab.research.google.com/github/macorony/NeuralNetwork/blob/main/train_model_pytorch.ipynb\" target=\"_parent\"><img src=\"https://colab.research.google.com/assets/colab-badge.svg\" alt=\"Open In Colab\"/></a>"
      ]
    },
    {
      "cell_type": "code",
      "execution_count": 1,
      "metadata": {
        "id": "oU1Y3QLfxmvi"
      },
      "outputs": [],
      "source": [
        "import torch\n",
        "import torchvision\n",
        "import torchvision.transforms as transforms\n",
        "import torch.nn as nn\n",
        "import torch.nn.functional as F\n",
        "import numpy as np\n",
        "import matplotlib.pyplot as plt"
      ]
    },
    {
      "cell_type": "code",
      "source": [
        "device = ('cuda' if torch.cuda.is_available() else \"cpu\")\n",
        "print(device)"
      ],
      "metadata": {
        "colab": {
          "base_uri": "https://localhost:8080/"
        },
        "id": "QySPPrWw5Q9_",
        "outputId": "19545d6a-a1c0-410b-d2a2-5b3d41c54bbd"
      },
      "execution_count": 2,
      "outputs": [
        {
          "output_type": "stream",
          "name": "stdout",
          "text": [
            "cpu\n"
          ]
        }
      ]
    },
    {
      "cell_type": "code",
      "source": [
        "classes = ['airplane', 'automobile', 'bird', 'cat', 'deer', 'dog', 'frog', 'horse', 'ship', 'truck']\n",
        "[classes[i] for i in [1,2,3]]"
      ],
      "metadata": {
        "id": "C71xXsq-_Buq",
        "outputId": "99d8a2cf-491c-4e90-8224-7c7b3823ded8",
        "colab": {
          "base_uri": "https://localhost:8080/"
        }
      },
      "execution_count": 3,
      "outputs": [
        {
          "output_type": "execute_result",
          "data": {
            "text/plain": [
              "['automobile', 'bird', 'cat']"
            ]
          },
          "metadata": {},
          "execution_count": 3
        }
      ]
    },
    {
      "cell_type": "code",
      "source": [
        "transform = transforms.Compose([transforms.ToTensor()])"
      ],
      "metadata": {
        "id": "x2dVnXsykEgp"
      },
      "execution_count": 4,
      "outputs": []
    },
    {
      "cell_type": "code",
      "source": [
        "train_data = torchvision.datasets.CIFAR10('./data', train=True, download=True, transform=transform)\n",
        "test_data = torchvision.datasets.CIFAR10('./data', train=False, download=True, transform=transform)"
      ],
      "metadata": {
        "colab": {
          "base_uri": "https://localhost:8080/"
        },
        "id": "2M-kQe4vycS8",
        "outputId": "854cd343-a1e5-459a-9284-4b37c3483587"
      },
      "execution_count": 5,
      "outputs": [
        {
          "output_type": "stream",
          "name": "stdout",
          "text": [
            "Downloading https://www.cs.toronto.edu/~kriz/cifar-10-python.tar.gz to ./data/cifar-10-python.tar.gz\n"
          ]
        },
        {
          "output_type": "stream",
          "name": "stderr",
          "text": [
            "100%|██████████| 170498071/170498071 [00:01<00:00, 88393543.84it/s]\n"
          ]
        },
        {
          "output_type": "stream",
          "name": "stdout",
          "text": [
            "Extracting ./data/cifar-10-python.tar.gz to ./data\n",
            "Files already downloaded and verified\n"
          ]
        }
      ]
    },
    {
      "cell_type": "code",
      "source": [
        "train_loader = torch.utils.data.DataLoader(train_data, batch_size=4, shuffle=True, num_workers=2)\n",
        "test_loader =  torch.utils.data.DataLoader(test_data, batch_size=4, shuffle=True, num_workers=2)"
      ],
      "metadata": {
        "id": "D8cH8e83zp3B"
      },
      "execution_count": 6,
      "outputs": []
    },
    {
      "cell_type": "code",
      "source": [
        "for i, data in enumerate(train_loader):\n",
        "  print(train_loader)\n",
        "  dummy_data = data\n",
        "  break"
      ],
      "metadata": {
        "colab": {
          "base_uri": "https://localhost:8080/"
        },
        "id": "ME6zL1xcvJ0a",
        "outputId": "bf87bed2-f38d-4265-9123-5f869e459770"
      },
      "execution_count": 7,
      "outputs": [
        {
          "output_type": "stream",
          "name": "stdout",
          "text": [
            "<torch.utils.data.dataloader.DataLoader object at 0x7997c0ce6ef0>\n"
          ]
        }
      ]
    },
    {
      "cell_type": "code",
      "source": [
        "dummy_data[0].shape"
      ],
      "metadata": {
        "colab": {
          "base_uri": "https://localhost:8080/"
        },
        "id": "0uanaI2OvjUK",
        "outputId": "9027e0ec-28a6-4fa5-fc80-d14deecb8ee4"
      },
      "execution_count": 8,
      "outputs": [
        {
          "output_type": "execute_result",
          "data": {
            "text/plain": [
              "torch.Size([4, 3, 32, 32])"
            ]
          },
          "metadata": {},
          "execution_count": 8
        }
      ]
    },
    {
      "cell_type": "code",
      "source": [
        "def loader_show(dataloader):\n",
        "  images, labels = next(iter(train_loader))\n",
        "  grid = torchvision.utils.make_grid(images)\n",
        "  plt.imshow(grid.permute(1,2,0))\n",
        "  print([classes[i] for i in labels])\n",
        "  plt.show()"
      ],
      "metadata": {
        "id": "JXKRs0k96ngD"
      },
      "execution_count": 20,
      "outputs": []
    },
    {
      "cell_type": "code",
      "source": [
        "for _ in range(4):\n",
        "  loader_show(train_loader)"
      ],
      "metadata": {
        "colab": {
          "base_uri": "https://localhost:8080/",
          "height": 790
        },
        "id": "3bBKHWfg9FLW",
        "outputId": "f12f9922-4b2f-4835-8c61-d090ee015a7d"
      },
      "execution_count": 21,
      "outputs": [
        {
          "output_type": "stream",
          "name": "stdout",
          "text": [
            "['ship', 'cat', 'frog', 'cat']\n"
          ]
        },
        {
          "output_type": "display_data",
          "data": {
            "text/plain": [
              "<Figure size 640x480 with 1 Axes>"
            ],
            "image/png": "[encoded data removed]"
          },
          "metadata": {}
        },
        {
          "output_type": "stream",
          "name": "stdout",
          "text": [
            "['frog', 'dog', 'bird', 'airplane']\n"
          ]
        },
        {
          "output_type": "display_data",
          "data": {
            "text/plain": [
              "<Figure size 640x480 with 1 Axes>"
            ],
            "image/png": "[encoded data removed]"
          },
          "metadata": {}
        },
        {
          "output_type": "stream",
          "name": "stdout",
          "text": [
            "['cat', 'horse', 'horse', 'dog']\n"
          ]
        },
        {
          "output_type": "display_data",
          "data": {
            "text/plain": [
              "<Figure size 640x480 with 1 Axes>"
            ],
            "image/png": "[encoded data removed]"
          },
          "metadata": {}
        },
        {
          "output_type": "stream",
          "name": "stdout",
          "text": [
            "['automobile', 'truck', 'frog', 'ship']\n"
          ]
        },
        {
          "output_type": "display_data",
          "data": {
            "text/plain": [
              "<Figure size 640x480 with 1 Axes>"
            ],
            "image/png": "[encoded data removed]"
          },
          "metadata": {}
        }
      ]
    },
    {
      "cell_type": "markdown",
      "source": [
        "## Model"
      ],
      "metadata": {
        "id": "i2cntp37ifev"
      }
    },
    {
      "cell_type": "code",
      "source": [
        "class NNmodel(nn.Module):\n",
        "  def __init__(self):\n",
        "    super(NNmodel, self).__init__()\n",
        "    self.conv1 = nn.Conv2d(3, 6, 5)\n",
        "    self.pool = nn.MaxPool2d(2, 2)\n",
        "    self.conv2 = nn.Conv2d(6, 16, 5)\n",
        "    self.fc1 = nn.Linear(400, 120)\n",
        "    self.fc2 = nn.Linear(120, 80)\n",
        "    self.fc3 = nn.Linear(80, 10)\n",
        "\n",
        "  def forward(self, input):\n",
        "    x = self.pool(F.relu(self.conv1(input)))\n",
        "    x = self.pool(F.relu(self.conv2(x)))\n",
        "    x = torch.flatten(x,1)\n",
        "    x = F.relu(self.fc1(x))\n",
        "    x = F.relu(self.fc2(x))\n",
        "    output = self.fc3(x)\n",
        "    return output\n",
        "\n",
        "model = NNmodel()\n",
        "print(model)"
      ],
      "metadata": {
        "colab": {
          "base_uri": "https://localhost:8080/"
        },
        "id": "bQyk5hHwEZn2",
        "outputId": "0809974c-db17-4e73-b919-794f72cc5f9d"
      },
      "execution_count": 11,
      "outputs": [
        {
          "output_type": "stream",
          "name": "stdout",
          "text": [
            "NNmodel(\n",
            "  (conv1): Conv2d(3, 6, kernel_size=(5, 5), stride=(1, 1))\n",
            "  (pool): MaxPool2d(kernel_size=2, stride=2, padding=0, dilation=1, ceil_mode=False)\n",
            "  (conv2): Conv2d(6, 16, kernel_size=(5, 5), stride=(1, 1))\n",
            "  (fc1): Linear(in_features=400, out_features=120, bias=True)\n",
            "  (fc2): Linear(in_features=120, out_features=80, bias=True)\n",
            "  (fc3): Linear(in_features=80, out_features=10, bias=True)\n",
            ")\n"
          ]
        }
      ]
    },
    {
      "cell_type": "markdown",
      "source": [
        "## Loss function"
      ],
      "metadata": {
        "id": "zpvPMcChiqle"
      }
    },
    {
      "cell_type": "code",
      "source": [
        "loss_fun = nn.CrossEntropyLoss()"
      ],
      "metadata": {
        "id": "Ho7DmvaMlJCS"
      },
      "execution_count": 12,
      "outputs": []
    },
    {
      "cell_type": "code",
      "source": [
        "# a dummy test for loss function\n",
        "images, labels = next(iter(train_loader))\n",
        "dummy_label = torch.arange(0, 4)\n",
        "dummy_output = model(images)\n",
        "print(dummy_label.shape)\n",
        "print(dummy_output.shape)\n",
        "loss = loss_fun(dummy_output, dummy_label)\n",
        "print(loss.item())"
      ],
      "metadata": {
        "id": "AIJwBlUUmFB9",
        "colab": {
          "base_uri": "https://localhost:8080/"
        },
        "outputId": "94a2f428-b8cd-4f86-edfc-c3a0824629f9"
      },
      "execution_count": 14,
      "outputs": [
        {
          "output_type": "stream",
          "name": "stdout",
          "text": [
            "torch.Size([4])\n",
            "torch.Size([4, 10])\n",
            "2.2638540267944336\n"
          ]
        }
      ]
    },
    {
      "cell_type": "markdown",
      "source": [
        "## Optimizer"
      ],
      "metadata": {
        "id": "stLy3PDPs7Dq"
      }
    },
    {
      "cell_type": "code",
      "source": [
        "optimizer = torch.optim.SGD(model.parameters(), lr=0.001, momentum=0.9)"
      ],
      "metadata": {
        "id": "UcNbV3UgoJYT"
      },
      "execution_count": 15,
      "outputs": []
    },
    {
      "cell_type": "code",
      "source": [
        "model"
      ],
      "metadata": {
        "colab": {
          "base_uri": "https://localhost:8080/"
        },
        "id": "u72nzgr58IlY",
        "outputId": "9af036b8-d0dd-44a3-8f1f-32a01bdc7e03"
      },
      "execution_count": 16,
      "outputs": [
        {
          "output_type": "execute_result",
          "data": {
            "text/plain": [
              "NNmodel(\n",
              "  (conv1): Conv2d(3, 6, kernel_size=(5, 5), stride=(1, 1))\n",
              "  (pool): MaxPool2d(kernel_size=2, stride=2, padding=0, dilation=1, ceil_mode=False)\n",
              "  (conv2): Conv2d(6, 16, kernel_size=(5, 5), stride=(1, 1))\n",
              "  (fc1): Linear(in_features=400, out_features=120, bias=True)\n",
              "  (fc2): Linear(in_features=120, out_features=80, bias=True)\n",
              "  (fc3): Linear(in_features=80, out_features=10, bias=True)\n",
              ")"
            ]
          },
          "metadata": {},
          "execution_count": 16
        }
      ]
    },
    {
      "cell_type": "markdown",
      "source": [
        "## Training"
      ],
      "metadata": {
        "id": "-ireLiIgt-mW"
      }
    },
    {
      "cell_type": "code",
      "source": [
        "for epoch in range(1):\n",
        "  running_loss = 0.0\n",
        "  for i, data in enumerate(train_loader):\n",
        "    inputs, labels = data\n",
        "    # zero gradient for every batch\n",
        "    optimizer.zero_grad()\n",
        "\n",
        "    outputs = model(inputs)\n",
        "\n",
        "    loss = loss_fun(outputs, labels)\n",
        "\n",
        "    loss.backward()\n",
        "\n",
        "    optimizer.step()\n",
        "\n",
        "    running_loss += loss.item()\n",
        "    if i % 2000 == 1999:\n",
        "      print(f\"[{epoch + 1}, {i + 1: 5d}] loss: {running_loss / 2000:.3f}\")\n",
        "      running_loss = 0.0"
      ],
      "metadata": {
        "colab": {
          "base_uri": "https://localhost:8080/"
        },
        "id": "Dh7DYD6lzPMl",
        "outputId": "3c24773d-84ea-4a9e-a33c-9c6bdaff366c"
      },
      "execution_count": 17,
      "outputs": [
        {
          "output_type": "stream",
          "name": "stdout",
          "text": [
            "[1,  2000] loss: 2.236\n",
            "[1,  4000] loss: 2.020\n",
            "[1,  6000] loss: 1.867\n",
            "[1,  8000] loss: 1.739\n",
            "[1,  10000] loss: 1.661\n",
            "[1,  12000] loss: 1.592\n"
          ]
        }
      ]
    },
    {
      "cell_type": "code",
      "source": [
        "Path = '/content/drive/MyDrive/file_transmission/cifar10_net.pth'\n",
        "torch.save(model.state_dict(), Path)"
      ],
      "metadata": {
        "id": "a7tpMvnduC3e"
      },
      "execution_count": 19,
      "outputs": []
    },
    {
      "cell_type": "code",
      "source": [
        "# a simple test\n",
        "loader_show(test_loader)"
      ],
      "metadata": {
        "colab": {
          "base_uri": "https://localhost:8080/",
          "height": 210
        },
        "id": "o175hJBSuC5c",
        "outputId": "bae3d3a2-f746-479e-9136-15ae8e6f08d2"
      },
      "execution_count": 23,
      "outputs": [
        {
          "output_type": "stream",
          "name": "stdout",
          "text": [
            "['frog', 'dog', 'dog', 'cat']\n"
          ]
        },
        {
          "output_type": "display_data",
          "data": {
            "text/plain": [
              "<Figure size 640x480 with 1 Axes>"
            ],
            "image/png": "[encoded data removed]"
          },
          "metadata": {}
        }
      ]
    },
    {
      "cell_type": "code",
      "source": [
        "correct = 0\n",
        "total = 0\n",
        "\n",
        "with torch.no_grad():\n",
        "  for data in test_loader:\n",
        "    images, labels = data\n",
        "    outputs = model(images)\n",
        "    _, predicted = torch.max(outputs.data, 1)\n",
        "    total += labels.size(0)\n",
        "    correct += (predicted == labels).sum().item()"
      ],
      "metadata": {
        "id": "P2RDe8Hz_19c"
      },
      "execution_count": null,
      "outputs": []
    },
    {
      "cell_type": "code",
      "source": [
        "print(f'The accuracy of the model is {100 * correct/total}%')"
      ],
      "metadata": {
        "id": "1NAko-mRCm6D",
        "outputId": "5ea9a0d6-3963-42d1-e55a-ac452ee6865a",
        "colab": {
          "base_uri": "https://localhost:8080/"
        }
      },
      "execution_count": 55,
      "outputs": [
        {
          "output_type": "stream",
          "name": "stdout",
          "text": [
            "The accuracy of the model is 44.13%\n"
          ]
        }
      ]
    },
    {
      "cell_type": "code",
      "source": [
        "correct_pred = {classname:0 for classname in classes}\n",
        "total_pred = {classname:0 for classname in classes}\n",
        "\n",
        "with torch.no_grad():\n",
        "  for data in test_loader:\n",
        "    images, labels = data\n",
        "    outputs = model(images)\n",
        "    _, predicted = torch.max(outputs, 1)"
      ],
      "metadata": {
        "id": "AP-vFxMl_vmy"
      },
      "execution_count": 32,
      "outputs": []
    },
    {
      "cell_type": "code",
      "source": [
        "for test in test_loader:\n",
        "  images, labels = test\n",
        "  print(images.shape)\n",
        "  print(labels)\n",
        "  break"
      ],
      "metadata": {
        "id": "NW7EAFcfuC7j",
        "outputId": "e03e5b66-6bee-4ea8-e7ee-ab7ca8eec507",
        "colab": {
          "base_uri": "https://localhost:8080/"
        }
      },
      "execution_count": 28,
      "outputs": [
        {
          "output_type": "stream",
          "name": "stdout",
          "text": [
            "torch.Size([4, 3, 32, 32])\n",
            "tensor([0, 5, 5, 6])\n"
          ]
        }
      ]
    },
    {
      "cell_type": "code",
      "source": [
        "unknown, predicted = torch.max(model(images).data, 1)\n",
        "predicted"
      ],
      "metadata": {
        "id": "TvWV9AocuC9b",
        "outputId": "2e224082-7f99-4268-828a-fa30b864dffd",
        "colab": {
          "base_uri": "https://localhost:8080/"
        }
      },
      "execution_count": 59,
      "outputs": [
        {
          "output_type": "execute_result",
          "data": {
            "text/plain": [
              "tensor([6, 7, 0, 1])"
            ]
          },
          "metadata": {},
          "execution_count": 59
        }
      ]
    },
    {
      "cell_type": "code",
      "source": [],
      "metadata": {
        "id": "FrskTIRCprLY"
      },
      "execution_count": null,
      "outputs": []
    },
    {
      "cell_type": "code",
      "source": [],
      "metadata": {
        "id": "AHwkGeuUt8Pd"
      },
      "execution_count": null,
      "outputs": []
    },
    {
      "cell_type": "code",
      "source": [
        "dummy_labels = torch.tensor([1,5,3,7])\n",
        "print(dummy_labels.shape)\n",
        "dummy_outputs = torch.rand(4,10)\n",
        "print(dummy_outputs.shape)"
      ],
      "metadata": {
        "colab": {
          "base_uri": "https://localhost:8080/"
        },
        "id": "_QLXA7Yhkm-U",
        "outputId": "bd84057f-3756-4034-9bbc-bb5c86cfa73e"
      },
      "execution_count": 24,
      "outputs": [
        {
          "output_type": "stream",
          "name": "stdout",
          "text": [
            "torch.Size([4])\n",
            "torch.Size([4, 10])\n"
          ]
        }
      ]
    },
    {
      "cell_type": "code",
      "source": [
        "dummy_output.shape"
      ],
      "metadata": {
        "colab": {
          "base_uri": "https://localhost:8080/"
        },
        "id": "j1chBLaQl2Qm",
        "outputId": "f4d1a335-8499-4e1f-8aec-fb560d7ab04e"
      },
      "execution_count": null,
      "outputs": [
        {
          "output_type": "execute_result",
          "data": {
            "text/plain": [
              "torch.Size([4, 100])"
            ]
          },
          "metadata": {},
          "execution_count": 93
        }
      ]
    },
    {
      "cell_type": "code",
      "source": [
        "dummy_output.shape"
      ],
      "metadata": {
        "colab": {
          "base_uri": "https://localhost:8080/"
        },
        "id": "m55gce2Il_A9",
        "outputId": "236ca1d1-26a7-4ac3-ec38-b2c7fa8bbfb8"
      },
      "execution_count": null,
      "outputs": [
        {
          "output_type": "execute_result",
          "data": {
            "text/plain": [
              "torch.Size([4, 100])"
            ]
          },
          "metadata": {},
          "execution_count": 83
        }
      ]
    },
    {
      "cell_type": "code",
      "source": [
        "\n"
      ],
      "metadata": {
        "id": "sYny2JodfIxL"
      },
      "execution_count": null,
      "outputs": []
    },
    {
      "cell_type": "code",
      "source": [
        "images.shape"
      ],
      "metadata": {
        "colab": {
          "base_uri": "https://localhost:8080/"
        },
        "id": "kxV-Q76pfXj_",
        "outputId": "067c885b-8352-488f-d88f-4025b178e780"
      },
      "execution_count": null,
      "outputs": [
        {
          "output_type": "execute_result",
          "data": {
            "text/plain": [
              "torch.Size([4, 3, 32, 32])"
            ]
          },
          "metadata": {},
          "execution_count": 60
        }
      ]
    },
    {
      "cell_type": "code",
      "source": [
        "output = model(images)"
      ],
      "metadata": {
        "id": "nxYWH3EVfYrr"
      },
      "execution_count": null,
      "outputs": []
    },
    {
      "cell_type": "code",
      "source": [
        "output"
      ],
      "metadata": {
        "colab": {
          "base_uri": "https://localhost:8080/"
        },
        "id": "p-5HQSL5f70Q",
        "outputId": "85836fab-e794-4115-e4cf-9f0d9512c345"
      },
      "execution_count": null,
      "outputs": [
        {
          "output_type": "execute_result",
          "data": {
            "text/plain": [
              "tensor([[ 2.4645e-02, -2.5426e-02, -9.6567e-02, -2.6704e-02,  4.5618e-02,\n",
              "          2.0543e-02,  6.3121e-03,  7.0688e-02,  7.9460e-02,  6.0939e-02,\n",
              "         -6.7667e-02, -1.0765e-02,  4.1424e-02,  5.7659e-02, -4.5872e-02,\n",
              "          4.9553e-02,  4.4185e-02, -3.6208e-02, -3.7393e-02, -6.3389e-02,\n",
              "          1.8001e-02, -4.8261e-02,  1.2380e-02,  4.2904e-02, -3.7671e-02,\n",
              "         -7.0899e-03, -4.8289e-02,  1.7584e-02, -6.5964e-02,  1.0825e-01,\n",
              "          6.0549e-02, -2.0725e-02, -1.3701e-02, -3.4351e-02, -7.8076e-02,\n",
              "          7.9972e-02, -7.2672e-03,  3.5116e-03, -5.8536e-02,  1.9806e-02,\n",
              "         -1.3108e-02,  6.7720e-04, -5.7241e-02,  4.1875e-02, -1.3514e-02,\n",
              "         -2.6041e-02, -4.3034e-02, -3.6570e-02,  6.8652e-03,  1.1566e-01,\n",
              "         -8.5213e-02,  2.6491e-02,  5.4471e-02, -1.1101e-02, -3.4825e-02,\n",
              "          1.6248e-02, -2.3828e-02,  1.6267e-02,  1.4352e-01,  4.8897e-02,\n",
              "          3.8209e-02, -2.1391e-02, -3.6251e-02, -4.4255e-02, -9.6995e-02,\n",
              "         -5.4342e-02, -5.3979e-02,  2.3424e-02,  2.5416e-03,  2.2624e-03,\n",
              "          9.2374e-02,  2.8671e-02, -4.7451e-02,  7.9268e-04, -7.4341e-02,\n",
              "          6.4627e-02,  6.6373e-02,  2.8643e-02, -2.5514e-02, -7.1529e-02,\n",
              "         -6.9936e-02,  3.1724e-02, -2.5485e-02,  7.4864e-03,  5.1777e-02,\n",
              "         -1.2196e-02, -1.8092e-02, -1.5832e-03,  2.0549e-02,  7.5201e-02,\n",
              "          6.7707e-02,  9.3758e-02, -6.4073e-03,  9.5456e-03,  8.4120e-03,\n",
              "         -7.3147e-02, -3.0051e-03, -2.9408e-02, -2.9798e-02, -1.7351e-02],\n",
              "        [ 1.9435e-02, -1.7545e-02, -1.0277e-01, -2.5092e-02,  5.2356e-02,\n",
              "          2.3096e-02,  1.1524e-02,  7.4723e-02,  8.9010e-02,  5.3639e-02,\n",
              "         -6.7275e-02, -1.2927e-02,  4.0849e-02,  5.6940e-02, -4.0782e-02,\n",
              "          4.5537e-02,  3.6412e-02, -5.2239e-02, -5.6281e-02, -5.8585e-02,\n",
              "          1.2816e-02, -5.5018e-02,  2.0194e-02,  4.4029e-02, -3.7268e-02,\n",
              "         -8.1927e-03, -5.1376e-02,  1.2128e-02, -5.8338e-02,  1.1447e-01,\n",
              "          6.3741e-02, -2.7903e-02, -2.2861e-02, -2.1277e-02, -8.0568e-02,\n",
              "          7.2846e-02, -8.9252e-03, -2.7336e-03, -5.7798e-02,  3.2199e-02,\n",
              "         -1.4240e-02,  1.6684e-03, -5.1730e-02,  3.7843e-02, -9.2592e-03,\n",
              "         -2.9332e-02, -3.9444e-02, -2.2781e-02,  1.2809e-02,  1.1538e-01,\n",
              "         -7.2333e-02,  3.5202e-02,  5.6627e-02, -1.0162e-02, -4.6446e-02,\n",
              "          1.5973e-02, -1.1048e-02,  2.3336e-02,  1.5329e-01,  5.0910e-02,\n",
              "          3.8428e-02, -2.0803e-02, -3.2779e-02, -3.8745e-02, -1.0214e-01,\n",
              "         -6.0459e-02, -5.8960e-02,  2.9392e-02, -2.3556e-03,  1.2887e-03,\n",
              "          1.0355e-01,  2.7787e-02, -4.4006e-02,  9.8545e-03, -7.4074e-02,\n",
              "          6.3396e-02,  7.0067e-02,  3.9486e-02, -3.5166e-02, -7.0177e-02,\n",
              "         -6.9187e-02,  3.0035e-02, -1.7053e-02,  3.2574e-03,  4.6325e-02,\n",
              "         -5.6529e-03, -1.4686e-02, -8.1823e-04,  2.0843e-02,  8.4484e-02,\n",
              "          6.9607e-02,  9.7529e-02,  5.8275e-05,  9.7502e-03,  1.4839e-02,\n",
              "         -7.6773e-02, -1.0462e-02, -3.2137e-02, -3.0415e-02, -1.4028e-02],\n",
              "        [ 2.5218e-02, -2.0131e-02, -9.6819e-02, -2.6640e-02,  5.0114e-02,\n",
              "          1.6138e-02,  5.8220e-03,  6.1824e-02,  8.3683e-02,  6.5240e-02,\n",
              "         -7.3634e-02,  2.0479e-03,  3.9721e-02,  5.9392e-02, -4.3830e-02,\n",
              "          4.4656e-02,  4.1337e-02, -4.1274e-02, -4.1742e-02, -6.0400e-02,\n",
              "          2.3977e-02, -4.3985e-02,  1.6793e-02,  4.7510e-02, -4.1844e-02,\n",
              "         -1.1188e-02, -5.0077e-02,  1.0726e-02, -6.3917e-02,  1.1028e-01,\n",
              "          6.2565e-02, -1.2655e-02, -1.7748e-02, -4.3727e-02, -7.2985e-02,\n",
              "          7.3863e-02, -1.3501e-02,  4.5852e-03, -5.1927e-02,  2.2872e-02,\n",
              "         -1.7998e-02,  2.5131e-03, -4.6824e-02,  4.6779e-02, -1.6994e-02,\n",
              "         -2.9000e-02, -4.8522e-02, -3.8430e-02,  1.7057e-02,  1.1451e-01,\n",
              "         -7.8899e-02,  3.1697e-02,  5.4497e-02, -1.3440e-02, -4.0359e-02,\n",
              "          1.2279e-02, -1.5902e-02,  1.4654e-02,  1.4783e-01,  5.2660e-02,\n",
              "          3.6979e-02, -2.1181e-02, -3.0401e-02, -4.2444e-02, -1.0080e-01,\n",
              "         -5.8201e-02, -5.6258e-02,  1.9449e-02, -8.8642e-03,  7.8554e-03,\n",
              "          9.3335e-02,  2.1677e-02, -4.2823e-02,  9.3652e-03, -8.1802e-02,\n",
              "          6.6971e-02,  6.1544e-02,  3.3818e-02, -2.8722e-02, -6.6900e-02,\n",
              "         -7.3631e-02,  3.1754e-02, -2.1202e-02,  1.0910e-02,  5.0338e-02,\n",
              "         -9.0690e-03, -1.4452e-02,  1.4635e-03,  1.4643e-02,  7.3620e-02,\n",
              "          8.2034e-02,  9.0101e-02, -1.0392e-02,  4.8478e-03, -7.9502e-04,\n",
              "         -7.1365e-02, -7.3683e-03, -3.9100e-02, -3.5932e-02, -2.0194e-02],\n",
              "        [ 2.3179e-02, -1.7289e-02, -1.0218e-01, -2.1852e-02,  4.5803e-02,\n",
              "          2.7157e-02,  1.2644e-02,  8.0803e-02,  7.8570e-02,  5.5763e-02,\n",
              "         -5.7753e-02, -9.9183e-03,  3.9650e-02,  6.0816e-02, -3.8612e-02,\n",
              "          4.0606e-02,  4.2539e-02, -4.1361e-02, -4.5252e-02, -6.1418e-02,\n",
              "          1.9289e-02, -5.3066e-02,  1.0183e-02,  5.7894e-02, -3.6756e-02,\n",
              "         -5.6623e-03, -4.8312e-02,  1.1793e-02, -6.5901e-02,  1.0699e-01,\n",
              "          5.5219e-02, -2.4970e-02, -1.5964e-02, -2.1499e-02, -7.6695e-02,\n",
              "          7.3472e-02, -4.3594e-03,  4.2879e-03, -5.8378e-02,  2.7073e-02,\n",
              "         -2.6631e-03,  1.0344e-02, -5.4484e-02,  3.8270e-02, -1.4326e-02,\n",
              "         -2.2326e-02, -4.5845e-02, -2.8367e-02,  6.5386e-03,  1.2193e-01,\n",
              "         -7.4069e-02,  2.3642e-02,  5.3026e-02, -4.5726e-03, -4.1865e-02,\n",
              "          1.8068e-02, -9.6262e-03,  2.5976e-02,  1.4899e-01,  5.4202e-02,\n",
              "          4.1773e-02, -1.4379e-02, -3.5387e-02, -3.9155e-02, -1.0483e-01,\n",
              "         -5.4813e-02, -6.1050e-02,  2.9224e-02,  5.2919e-03, -2.2911e-03,\n",
              "          1.0931e-01,  1.9829e-02, -5.5873e-02, -4.5196e-03, -8.5204e-02,\n",
              "          6.5997e-02,  6.4225e-02,  3.0763e-02, -3.8340e-02, -7.2236e-02,\n",
              "         -7.1312e-02,  3.3571e-02, -1.5813e-02,  1.5610e-03,  5.2138e-02,\n",
              "         -3.7898e-03, -2.3623e-02,  1.8103e-03,  2.2271e-02,  8.3753e-02,\n",
              "          6.7493e-02,  1.0265e-01, -2.3437e-03,  1.1827e-02,  1.3558e-02,\n",
              "         -7.9370e-02, -4.6486e-03, -2.8214e-02, -3.1169e-02, -8.0569e-03]],\n",
              "       grad_fn=<AddmmBackward0>)"
            ]
          },
          "metadata": {},
          "execution_count": 62
        }
      ]
    },
    {
      "cell_type": "code",
      "source": [],
      "metadata": {
        "id": "e2kwB9K4hGM1"
      },
      "execution_count": null,
      "outputs": []
    }
  ]
}