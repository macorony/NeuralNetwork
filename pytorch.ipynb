{
  "nbformat": 4,
  "nbformat_minor": 0,
  "metadata": {
    "colab": {
      "provenance": [],
      "mount_file_id": "https://github.com/macorony/NeuralNetwork/blob/main/pytorch.ipynb",
      "authorship_tag": "ABX9TyORegWeX1IqP5MdTAYuWksM",
      "include_colab_link": true
    },
    "kernelspec": {
      "name": "python3",
      "display_name": "Python 3"
    },
    "language_info": {
      "name": "python"
    }
  },
  "cells": [
    {
      "cell_type": "markdown",
      "metadata": {
        "id": "view-in-github",
        "colab_type": "text"
      },
      "source": [
        "<a href=\"https://colab.research.google.com/github/macorony/NeuralNetwork/blob/main/pytorch.ipynb\" target=\"_parent\"><img src=\"https://colab.research.google.com/assets/colab-badge.svg\" alt=\"Open In Colab\"/></a>"
      ]
    },
    {
      "cell_type": "code",
      "execution_count": null,
      "metadata": {
        "id": "Gi-EGr-IqGaQ"
      },
      "outputs": [],
      "source": [
        "import numpy as np\n",
        "import torch\n",
        "from torch import nn\n",
        "from torch.utils.data import DataLoader\n",
        "from torchvision import datasets\n",
        "from torchvision.transforms import ToTensor"
      ]
    },
    {
      "cell_type": "markdown",
      "source": [
        "# Basic"
      ],
      "metadata": {
        "id": "m6l0IeUI96lj"
      }
    },
    {
      "cell_type": "code",
      "source": [
        "z = torch.zeros(5,3)\n",
        "print(z)\n",
        "print(z.dtype)"
      ],
      "metadata": {
        "colab": {
          "base_uri": "https://localhost:8080/"
        },
        "id": "hQJWekD4q1Oh",
        "outputId": "51184d54-4d87-424f-a150-631456721bdc"
      },
      "execution_count": null,
      "outputs": [
        {
          "output_type": "stream",
          "name": "stdout",
          "text": [
            "tensor([[0., 0., 0.],\n",
            "        [0., 0., 0.],\n",
            "        [0., 0., 0.],\n",
            "        [0., 0., 0.],\n",
            "        [0., 0., 0.]])\n",
            "torch.float32\n"
          ]
        }
      ]
    },
    {
      "cell_type": "code",
      "source": [
        "i = torch.ones((5,3), dtype=torch.int16)\n",
        "print(i)"
      ],
      "metadata": {
        "colab": {
          "base_uri": "https://localhost:8080/"
        },
        "id": "s0OdN2-ivVAY",
        "outputId": "4b1a45df-4695-46bd-b531-6dd5a4b620fc"
      },
      "execution_count": null,
      "outputs": [
        {
          "output_type": "stream",
          "name": "stdout",
          "text": [
            "tensor([[1, 1, 1],\n",
            "        [1, 1, 1],\n",
            "        [1, 1, 1],\n",
            "        [1, 1, 1],\n",
            "        [1, 1, 1]], dtype=torch.int16)\n"
          ]
        }
      ]
    },
    {
      "cell_type": "code",
      "source": [
        "torch.manual_seed(1729)\n",
        "r1 = torch.rand(2,2)\n",
        "print(r1)\n",
        "\n",
        "r2 = torch.rand(2,2)\n",
        "print(r2)\n",
        "\n",
        "torch.manual_seed(1729)\n",
        "r3 = torch.rand(2,2)\n",
        "print(r3)"
      ],
      "metadata": {
        "colab": {
          "base_uri": "https://localhost:8080/"
        },
        "id": "bAQcEeDlvgjV",
        "outputId": "50e30552-5c99-4671-b6f2-778b31f43e90"
      },
      "execution_count": null,
      "outputs": [
        {
          "output_type": "stream",
          "name": "stdout",
          "text": [
            "tensor([[0.3126, 0.3791],\n",
            "        [0.3087, 0.0736]])\n",
            "tensor([[0.4216, 0.0691],\n",
            "        [0.2332, 0.4047]])\n",
            "tensor([[0.3126, 0.3791],\n",
            "        [0.3087, 0.0736]])\n"
          ]
        }
      ]
    },
    {
      "cell_type": "code",
      "source": [
        "ones = torch.ones(2,3)\n",
        "print(ones)\n",
        "\n",
        "twos = torch.ones(2,3) +2\n",
        "print(twos)\n",
        "\n",
        "threes = ones + twos\n",
        "print(threes)\n",
        "print(threes.shape)"
      ],
      "metadata": {
        "colab": {
          "base_uri": "https://localhost:8080/"
        },
        "id": "wqwLZtNZwZwN",
        "outputId": "57c5f664-c627-40f1-bba5-a6894e71cb2c"
      },
      "execution_count": null,
      "outputs": [
        {
          "output_type": "stream",
          "name": "stdout",
          "text": [
            "tensor([[1., 1., 1.],\n",
            "        [1., 1., 1.]])\n",
            "tensor([[3., 3., 3.],\n",
            "        [3., 3., 3.]])\n",
            "tensor([[4., 4., 4.],\n",
            "        [4., 4., 4.]])\n",
            "torch.Size([2, 3])\n"
          ]
        }
      ]
    },
    {
      "cell_type": "code",
      "source": [
        "r = torch.rand(2,2) - 0.5 * 2\n",
        "print(\"A random matrix, r: {}\".format(r))\n",
        "print(\"\\nAbsolute value of r: {}\".format(torch.abs(r)))\n",
        "print(\"\\nInverse sine of r: {}\".format(torch.abs(r)))\n",
        "print(\"\\nDetermined of r: {}\".format(torch.det(r)))\n",
        "print(\"\\nSingular Value decomposition of r: {}\".format(torch.svd(r)))\n",
        "print(\"\\nAverage and standard deviation of r: {}\".format(torch.std_mean(r)))\n",
        "print(\"\\nMaximum value of r: {}\".format(torch.max(r)))"
      ],
      "metadata": {
        "id": "7gRAehOVwbNN",
        "colab": {
          "base_uri": "https://localhost:8080/"
        },
        "outputId": "2b93a4c7-5f2e-43f3-b6e6-8381d71d191f"
      },
      "execution_count": null,
      "outputs": [
        {
          "output_type": "stream",
          "name": "stdout",
          "text": [
            "A random matrix, r: tensor([[-0.5784, -0.9309],\n",
            "        [-0.7668, -0.5953]])\n",
            "\n",
            "Absolute value of r: tensor([[0.5784, 0.9309],\n",
            "        [0.7668, 0.5953]])\n",
            "\n",
            "Inverse sine of r: tensor([[0.5784, 0.9309],\n",
            "        [0.7668, 0.5953]])\n",
            "\n",
            "Determined of r: -0.36948588490486145\n",
            "\n",
            "Singular Value decomposition of r: torch.return_types.svd(\n",
            "U=tensor([[-0.7512, -0.6601],\n",
            "        [-0.6601,  0.7512]]),\n",
            "S=tensor([1.4415, 0.2563]),\n",
            "V=tensor([[ 0.6525, -0.7578],\n",
            "        [ 0.7578,  0.6525]]))\n",
            "\n",
            "Average and standard deviation of r: (tensor(0.1656), tensor(-0.7179))\n",
            "\n",
            "Maximum value of r: -0.5783984065055847\n"
          ]
        }
      ]
    },
    {
      "cell_type": "markdown",
      "source": [
        "# Autograd"
      ],
      "metadata": {
        "id": "Pt1zix1-995R"
      }
    },
    {
      "cell_type": "code",
      "source": [
        "x = torch.randn(1,10)\n",
        "prev_h =torch.randn(1,20)\n",
        "W_h = torch.randn(20,20)\n",
        "W_x = torch.randn(20,10)"
      ],
      "metadata": {
        "id": "b35qQhoU99RZ"
      },
      "execution_count": null,
      "outputs": []
    },
    {
      "cell_type": "code",
      "source": [
        "i2h = torch.mm(W_x, x.t())\n",
        "h2h = torch.mm(W_h, prev_h.t())\n",
        "next_h = i2h + h2h\n",
        "next_h = next_h.tanh()"
      ],
      "metadata": {
        "id": "y8GqzPfH77u6"
      },
      "execution_count": null,
      "outputs": []
    },
    {
      "cell_type": "code",
      "source": [
        "loss = next_h.sum()"
      ],
      "metadata": {
        "id": "KBpxw54478Cv"
      },
      "execution_count": null,
      "outputs": []
    },
    {
      "cell_type": "markdown",
      "source": [
        "# A pytorch model"
      ],
      "metadata": {
        "id": "qSnzVHBmaeMb"
      }
    },
    {
      "cell_type": "code",
      "source": [
        "# import module\n",
        "import torch\n",
        "import torch.nn as nn\n",
        "import torch.nn.functional as F\n",
        "import torch.optim as optim\n",
        "\n",
        "import torchvision\n",
        "import torchvision.transforms as transforms\n",
        "\n",
        "import matplotlib.pyplot as plt\n",
        "%matplotlib inline\n",
        "import matplotlib\n",
        "import numpy as np"
      ],
      "metadata": {
        "id": "WGpEL6lZa_-u"
      },
      "execution_count": null,
      "outputs": []
    },
    {
      "cell_type": "code",
      "source": [
        "# datasets\n",
        "transform = transforms.Compose([transforms.ToTensor(),\n",
        "                                transforms.Normalize((0.5,0.5,0.5), (0.5,0.5,0.5))])\n",
        "\n",
        "trainset = torchvision.datasets.CIFAR10(root='./data', train=True, download=True, transform=transform)\n",
        "trainloader = torch.utils.data.DataLoader(trainset, batch_size=4, shuffle=True, num_workers=2)\n",
        "\n",
        "testset = torchvision.datasets.CIFAR10(root='\\data', train=False, download=True, transform=transform)\n",
        "testloader = torch.utils.data.DataLoader(testset, batch_size=4, shuffle=False, num_workers=2)\n",
        "\n",
        "classes = (\"plane\", \"car\", \"bird\", \"cat\", \"deer\", \"dog\", \"frog\", \"horse\", \"ship\", \"truck\")"
      ],
      "metadata": {
        "id": "LPICFTm_VgEM",
        "outputId": "77453321-91a3-4f0b-a9f5-6d696d9dc42e",
        "colab": {
          "base_uri": "https://localhost:8080/"
        }
      },
      "execution_count": null,
      "outputs": [
        {
          "output_type": "stream",
          "name": "stdout",
          "text": [
            "Downloading https://www.cs.toronto.edu/~kriz/cifar-10-python.tar.gz to ./data/cifar-10-python.tar.gz\n"
          ]
        },
        {
          "output_type": "stream",
          "name": "stderr",
          "text": [
            "100%|██████████| 170498071/170498071 [00:08<00:00, 20392397.00it/s]\n"
          ]
        },
        {
          "output_type": "stream",
          "name": "stdout",
          "text": [
            "Extracting ./data/cifar-10-python.tar.gz to ./data\n",
            "Downloading https://www.cs.toronto.edu/~kriz/cifar-10-python.tar.gz to \\data/cifar-10-python.tar.gz\n"
          ]
        },
        {
          "output_type": "stream",
          "name": "stderr",
          "text": [
            "100%|██████████| 170498071/170498071 [00:06<00:00, 27473327.47it/s]\n"
          ]
        },
        {
          "output_type": "stream",
          "name": "stdout",
          "text": [
            "Extracting \\data/cifar-10-python.tar.gz to \\data\n"
          ]
        }
      ]
    },
    {
      "cell_type": "code",
      "source": [
        "# Visualization\n",
        "images, labels = next(iter(trainloader))\n",
        "grid = torchvision.utils.make_grid(images)"
      ],
      "metadata": {
        "id": "IpjkWLjgkU9m"
      },
      "execution_count": null,
      "outputs": []
    },
    {
      "cell_type": "code",
      "source": [
        "plt.imshow((grid /2 + 0.5).permute(1,2,0))\n",
        "print(' '.join('%5s' %  classes[labels[j]] for j in range(4)))"
      ],
      "metadata": {
        "colab": {
          "base_uri": "https://localhost:8080/",
          "height": 210
        },
        "id": "lXCvYWTtS-7K",
        "outputId": "d2300447-ad06-4ec2-c803-a0a2ef4f3f92"
      },
      "execution_count": null,
      "outputs": [
        {
          "output_type": "stream",
          "name": "stdout",
          "text": [
            "  car  bird   car horse\n"
          ]
        },
        {
          "output_type": "display_data",
          "data": {
            "text/plain": [
              "<Figure size 640x480 with 1 Axes>"
            ],
            "image/png": "[encoded data removed]"
          },
          "metadata": {}
        }
      ]
    },
    {
      "cell_type": "code",
      "source": [
        "class Net(nn.Module):\n",
        "  def __init__(self):\n",
        "    super(Net, self).__init__()\n",
        "    # kernel\n",
        "    self.conv1 = nn.Conv2d(3, 6, 5)\n",
        "    self.pool = nn.MaxPool2d(2,2)\n",
        "    self.conv2 = nn.Conv2d(6, 16, 5)\n",
        "    self.fc1 = nn.Linear(16 * 5 * 5, 120)\n",
        "    self.fc2 = nn.Linear(120, 84)\n",
        "    self.fc3 =nn.Linear(84, 10)\n",
        "\n",
        "  def forward(self, x):\n",
        "    x = self.pool(F.relu(self.conv1(x)))\n",
        "    x = self.pool(F.relu(self.conv2(x)))\n",
        "    x = x.view(-1, 16 * 5 * 5)\n",
        "    x = F.relu(self.fc1(x))\n",
        "    x = F.relu(self.fc2(x))\n",
        "    x = self.fc3(x)\n",
        "    return x"
      ],
      "metadata": {
        "id": "g7X0e6obbJeO"
      },
      "execution_count": null,
      "outputs": []
    },
    {
      "cell_type": "code",
      "source": [
        "net = Net()\n",
        "criterion = nn.CrossEntropyLoss()\n",
        "optimizer = optim.SGD(net.parameters(), lr = 0.001, momentum = 0.9)"
      ],
      "metadata": {
        "id": "9PdkEBdKpL-0"
      },
      "execution_count": null,
      "outputs": []
    },
    {
      "cell_type": "code",
      "source": [
        "for epoch in range(2):\n",
        "  running_loss = 0.0\n",
        "  for i, data in enumerate(trainloader, 0):\n",
        "    inputs, labels = data\n",
        "\n",
        "    optimizer.zero_grad()\n",
        "\n",
        "    outputs = net(inputs)\n",
        "    loss = criterion(outputs, labels)\n",
        "    loss.backward()\n",
        "    optimizer.step()\n",
        "\n",
        "    running_loss += loss.item()\n",
        "    if i % 2000 == 1999:\n",
        "      print('[%d, %5d] loss: %.3f' % (epoch+1, i+1, running_loss/2000))\n",
        "      running_loss = 0.0\n",
        "\n",
        "print(\"Finished Training\")"
      ],
      "metadata": {
        "id": "Eo1IV7_DKmPB",
        "outputId": "bc92156f-073c-4526-df58-f07cf3f3662d",
        "colab": {
          "base_uri": "https://localhost:8080/"
        }
      },
      "execution_count": null,
      "outputs": [
        {
          "output_type": "stream",
          "name": "stdout",
          "text": [
            "[1,  2000] loss: 2.194\n",
            "[1,  4000] loss: 1.839\n",
            "[1,  6000] loss: 1.676\n",
            "[1,  8000] loss: 1.591\n",
            "[1, 10000] loss: 1.511\n",
            "[1, 12000] loss: 1.455\n",
            "[2,  2000] loss: 1.391\n",
            "[2,  4000] loss: 1.352\n",
            "[2,  6000] loss: 1.340\n",
            "[2,  8000] loss: 1.311\n",
            "[2, 10000] loss: 1.273\n",
            "[2, 12000] loss: 1.260\n",
            "Finished Training\n"
          ]
        }
      ]
    },
    {
      "cell_type": "code",
      "source": [
        "m = nn.Linear(20, 30)\n",
        "input = torch.randn(128, 20)\n",
        "output = m(input)"
      ],
      "metadata": {
        "id": "NXWTYar0cF3X"
      },
      "execution_count": null,
      "outputs": []
    },
    {
      "cell_type": "code",
      "source": [
        "output"
      ],
      "metadata": {
        "colab": {
          "base_uri": "https://localhost:8080/"
        },
        "id": "Clky1T5mFYKz",
        "outputId": "471bca49-d362-4711-8b15-c2df4861ea36"
      },
      "execution_count": null,
      "outputs": [
        {
          "output_type": "execute_result",
          "data": {
            "text/plain": [
              "tensor([[ 0.5816,  0.6268, -0.6016,  ..., -0.4007,  0.4633,  0.1672],\n",
              "        [-0.6382,  0.5278, -1.4308,  ..., -0.5047, -0.0698,  0.0934],\n",
              "        [-0.0045, -0.4488, -0.3339,  ..., -0.6418, -0.6971, -0.3431],\n",
              "        ...,\n",
              "        [-0.3212, -1.0729, -0.6405,  ...,  0.0686, -0.0320, -1.3854],\n",
              "        [-0.1396, -0.2422,  0.4459,  ...,  0.2898,  0.0753, -0.2173],\n",
              "        [-0.2004,  0.0419,  0.3773,  ..., -0.0946,  0.3696,  0.4180]],\n",
              "       grad_fn=<AddmmBackward0>)"
            ]
          },
          "metadata": {},
          "execution_count": 97
        }
      ]
    },
    {
      "cell_type": "code",
      "source": [
        "m = nn.MaxPool2d(3, stride=2)\n",
        "input = torch.randn(20, 16,20)\n",
        "output = m(input)"
      ],
      "metadata": {
        "id": "4M_2osbgGJeq"
      },
      "execution_count": null,
      "outputs": []
    },
    {
      "cell_type": "code",
      "source": [
        "output.shape"
      ],
      "metadata": {
        "colab": {
          "base_uri": "https://localhost:8080/"
        },
        "id": "ybKn-Q2RJGWj",
        "outputId": "41af3eef-2e7e-43d7-a095-b40f3a92a69c"
      },
      "execution_count": null,
      "outputs": [
        {
          "output_type": "execute_result",
          "data": {
            "text/plain": [
              "torch.Size([20, 7, 9])"
            ]
          },
          "metadata": {},
          "execution_count": 99
        }
      ]
    },
    {
      "cell_type": "code",
      "source": [
        "\n",
        "import matplotlib.pyplot as plt\n",
        "import matplotlib.image as mpimg\n",
        "%matplotlib inline\n",
        "import cv2\n",
        "import torch\n",
        "import torchvision\n",
        "import torchvision.transforms as transforms # used to transform or augment data for training or inference of different tasks"
      ],
      "metadata": {
        "id": "2hw28ICRUQAx"
      },
      "execution_count": null,
      "outputs": []
    },
    {
      "cell_type": "code",
      "source": [
        "class Net1(nn.Module):\n",
        "  def __init__(self):\n",
        "    super(Net1, self).__init__()\n",
        "    self.conv1 = nn.Conv2d(1,6,5)\n",
        "    self.conv2 = nn.Conv2d(6,16,5)\n",
        "    self.fc1 = nn.Linear(16*5*5, 120)\n",
        "    self.fc2 = nn.Linear(120, 84)\n",
        "    self.fc3 = nn.Linear(84, 10)\n",
        "\n",
        "  def forward(self, input):\n",
        "    c1 = F.relu(self.conv1(input))\n",
        "    s2 = F.max_pool2d(c1, (2,2))\n",
        "    c3 = F.relu(self.conv2(s2))\n",
        "    s4 = F.max_pool2d(c3, 2)\n",
        "    s4 = torch.flatten(s4, 1)\n",
        "    f5 = F.relu(self.fc1(s4))\n",
        "    f6 = F.relu(self.fc2(f5))\n",
        "    output = self.fc3(f6)\n",
        "    return output\n"
      ],
      "metadata": {
        "id": "9WLSYUPpainv"
      },
      "execution_count": null,
      "outputs": []
    },
    {
      "cell_type": "markdown",
      "source": [],
      "metadata": {
        "id": "FMa6e9duih1c"
      }
    },
    {
      "cell_type": "code",
      "source": [
        "class Net2(nn.Module):\n",
        "  def __init__(self):\n",
        "    super(Net2, self).__init__()\n",
        "    self.hidden1 = nn.Linear(8,12)\n",
        "    self.act1 = nn.ReLU()\n",
        "    self.hidden2 = nn.Linear(12, 8)\n",
        "    self.act2 = nn.ReLU()\n",
        "    self.output = nn.Linear(8, 2)\n",
        "    self.act3 = nn.Sigmoid()\n",
        "  def forward(self, input):\n",
        "    a1 = self.act1(self.hidden1(input))\n",
        "    a2 = self.act2(self.hidden2(a1))\n",
        "    output = self.act3(self.output(a2))\n",
        "    return output"
      ],
      "metadata": {
        "id": "X_VrVD7mLAAx"
      },
      "execution_count": null,
      "outputs": []
    },
    {
      "cell_type": "code",
      "source": [
        "net2 = Net2()"
      ],
      "metadata": {
        "id": "Ox1vQmXujii0"
      },
      "execution_count": null,
      "outputs": []
    },
    {
      "cell_type": "code",
      "source": [
        "loss_fn = nn.BCELoss()\n",
        "optimizer = optim.Adam(net2.parameters(), lr = 0.001)"
      ],
      "metadata": {
        "id": "J12K4fnhdxKn"
      },
      "execution_count": null,
      "outputs": []
    },
    {
      "cell_type": "code",
      "source": [
        "net2(input)"
      ],
      "metadata": {
        "id": "8W1wtQdJe8Pa",
        "outputId": "9e786f4e-0911-4879-9cca-7c09e4b31887",
        "colab": {
          "base_uri": "https://localhost:8080/"
        }
      },
      "execution_count": null,
      "outputs": [
        {
          "output_type": "execute_result",
          "data": {
            "text/plain": [
              "tensor([0.4755, 0.5201], grad_fn=<SigmoidBackward0>)"
            ]
          },
          "metadata": {},
          "execution_count": 64
        }
      ]
    },
    {
      "cell_type": "code",
      "source": [
        "net2 = Net2()\n",
        "# print(net2)\n",
        "# print(list(net2.parameters()))"
      ],
      "metadata": {
        "id": "RXkgITlpYUfQ"
      },
      "execution_count": null,
      "outputs": []
    },
    {
      "cell_type": "markdown",
      "source": [
        "# About pooling\n",
        "1. The pooling operation involves sliding a two-dimensional filter over each channel of feature map and summarizing the features lying within the region by the filter.\n",
        "2. A CNN model architecture is to have a number of convolution and pooling layers stacked one after the other\n",
        "3. Pooling layer are used to reduce the dimensions of the feature maps. Thus, it reduce the numbers of parameters to learn and the amount of computation in the network.\n",
        "4. The pooling layer summarises the features present in a region of the feature map generated by a convolution layer. So, further operation are performed on summarised features instead of precisely positioned features generated by the convolution layer.\n",
        "\n",
        "## Types of pooling layer\n",
        "1. Max pooling, a pooling operation to select the maximum element from the region of the feature map covered by the filter. Thus, the output after max-pooling layer would be a feature map containing the most prominent features of the previous map.\n",
        "2. Average pooling computes the average of the elements present in the region of feature map covered by the filter.\n",
        "3. Global pooling ?\n",
        "\n"
      ],
      "metadata": {
        "id": "f339o0ZzeZ0Z"
      }
    },
    {
      "cell_type": "code",
      "source": [],
      "metadata": {
        "id": "fDKad0ORV_3q"
      },
      "execution_count": null,
      "outputs": []
    },
    {
      "cell_type": "code",
      "source": [
        "# Max pooling\n",
        "import numpy as np\n",
        "from keras.models import Sequential\n",
        "from keras.layers import MaxPooling2D, AveragePooling2D\n",
        "\n",
        "image = np.array([\n",
        "                  [2, 3, 4, 5],\n",
        "                  [9, 4, 6, 1],\n",
        "                  [8, 5, 2, 4],\n",
        "                  [3, 1, 2, 6]\n",
        "                  ])\n",
        "image = image.reshape(1, 4, 4, 1)\n",
        "\n",
        "model_max = Sequential([MaxPooling2D(pool_size=2, strides=2)])\n",
        "\n",
        "model_average = Sequential([AveragePooling2D(pool_size=2, strides=2)])\n",
        "\n",
        "output_max = model_max.predict(image)\n",
        "\n",
        "output_average = model_average.predict(image)"
      ],
      "metadata": {
        "id": "3AnYWpzzc2zW",
        "outputId": "689973f6-4cf4-4de0-ec2c-d718a4cd2975",
        "colab": {
          "base_uri": "https://localhost:8080/"
        }
      },
      "execution_count": null,
      "outputs": [
        {
          "output_type": "stream",
          "name": "stdout",
          "text": [
            "\u001b[1m1/1\u001b[0m \u001b[32m━━━━━━━━━━━━━━━━━━━━\u001b[0m\u001b[37m\u001b[0m \u001b[1m0s\u001b[0m 82ms/step\n",
            "\u001b[1m1/1\u001b[0m \u001b[32m━━━━━━━━━━━━━━━━━━━━\u001b[0m\u001b[37m\u001b[0m \u001b[1m0s\u001b[0m 83ms/step\n"
          ]
        }
      ]
    },
    {
      "cell_type": "code",
      "source": [
        "print(\"The max-pooling output is {}\".format(np.squeeze(output_average)))\n",
        "print(\"\\nThe average-pooling output is {}\".format(np.squeeze(output_average)))\n"
      ],
      "metadata": {
        "id": "GvAUeDrZst9_",
        "outputId": "f61d49a0-d00a-4a29-8a89-b55d92bec7a8",
        "colab": {
          "base_uri": "https://localhost:8080/"
        }
      },
      "execution_count": null,
      "outputs": [
        {
          "output_type": "stream",
          "name": "stdout",
          "text": [
            "The max-pooling output is [[4.5  4.  ]\n",
            " [4.25 3.5 ]]\n",
            "\n",
            "The average-pooling output is [[4.5  4.  ]\n",
            " [4.25 3.5 ]]\n"
          ]
        }
      ]
    },
    {
      "cell_type": "markdown",
      "source": [
        "# torch.nn.Module\n",
        "`torch.nn.Module` is the fundatmental class for all neural network in PyTorch, self-defined models should subclass this class"
      ],
      "metadata": {
        "id": "3iDu8GwkrR07"
      }
    },
    {
      "cell_type": "code",
      "source": [
        "import torch\n",
        "import torch.nn as nn\n",
        "import torch.nn.functional as F"
      ],
      "metadata": {
        "id": "spv3jOuokuDE"
      },
      "execution_count": 10,
      "outputs": []
    },
    {
      "cell_type": "code",
      "source": [
        "class Model(nn.Module):\n",
        "  def __init__(self):\n",
        "    super().__init__()\n",
        "    self.conv1 = nn.Conv2d(1, 20, 5)\n",
        "    self.conv2 = nn.Conv2d(20, 20, 5)\n",
        "\n",
        "  def forward(self, x):\n",
        "    x = F.relu(self.conv1(x))\n",
        "    return F.relu(self.conv2(x))"
      ],
      "metadata": {
        "id": "w2bPjWxnrp0v"
      },
      "execution_count": 3,
      "outputs": []
    },
    {
      "cell_type": "markdown",
      "source": [
        "# Example code to Understand `nn.Module`"
      ],
      "metadata": {
        "id": "Iln3pf4ErPMi"
      }
    },
    {
      "cell_type": "code",
      "source": [
        "class Module:\n",
        "  def __init__(self):\n",
        "    self._parameters = {}\n",
        "    self._buffers = {}\n",
        "    self._modules = {}\n",
        "    self.training = True\n",
        "\n",
        "  def register_parameter(self, name, param):\n",
        "    if param is None:\n",
        "      self._parameters[name] = None\n",
        "    else:\n",
        "      if not isinstance(param, torch.nn.Parameter):\n",
        "        param = torch.nn.Parameter(param)\n",
        "      self._parameters[name] = param\n",
        "\n",
        "  def register_buffer(self, name, tensor):\n",
        "    if tensor is not None and not isinstance(tensor, torch.Tensor):\n",
        "      raise TypeError(\"buffer must be a Tensor or None\")\n",
        "    self._buffers[name] = tensor\n",
        "\n",
        "  def add_module(self,name, module):\n",
        "    '''Add a child module to the current module'''\n",
        "    if module is not None and not isinstance(module, Module):\n",
        "      raise TypeError(\"module must be a Module subclass or None\")\n",
        "    self._modules[name] = module\n",
        "\n",
        "  def __setattr__(self, name, value):\n",
        "    '''Special handling for parameters/buffers/modules assignment.'''\n",
        "    if isinstance(value, torch.nn.Parameter):\n",
        "      self.register_parameter(name, value)\n",
        "    elif isinstance(value, torch.Tensor):\n",
        "      self.register_buffer(name, value)\n",
        "    elif isinstance(value, Module):\n",
        "      self.add_module(name, value)\n",
        "    else:\n",
        "      object.__setattr__(self, name, value)\n",
        "\n",
        "  def parameters(self, recurse=True):\n",
        "    for name, param in self.named_parameters(recurse=recurse):\n",
        "      yield param\n",
        "\n",
        "  def named_parameters(self, prefix='', recurse=True):\n",
        "    for name, param in self,_parameters.items():\n",
        "      if param is not None:\n",
        "        yield prefix + name, param\n",
        "    if recurse:\n",
        "      for module_name, module in self._modules.items():\n",
        "        if module is not None:\n",
        "          submodule_prefix = prefix + module_name + '.'\n",
        "          for name, param in module.named_parameters(submodule_prefix, recurse):\n",
        "            yield name, param\n",
        "\n",
        "  def train(self, mode=True):\n",
        "    self.training = mode\n",
        "    for module in self._moduels.values():\n",
        "      if module is not None:\n",
        "        module.train(mode)\n",
        "  def eval(self):\n",
        "    return self.train(False)\n",
        "\n",
        "  def to(self, device):\n",
        "    for param in self.parameters():\n",
        "      param.data = param.data.to(device)\n",
        "      if param._grad is not None:\n",
        "        param._grad.data = param._grad.data.to(device)\n",
        "\n",
        "    for buf in self._buffers.value():\n",
        "      if buf is not None:\n",
        "        self._buffers[name] = buf.to(device)\n",
        "\n",
        "  def state_dict(self):\n",
        "      \"\"\"Returns a dictionary containing module state.\"\"\"\n",
        "      state = {}\n",
        "      # Save parameters\n",
        "      for name, param in self._parameters.items():\n",
        "          if param is not None:\n",
        "              state[name] = param.data\n",
        "      # Save buffers\n",
        "      for name, buf in self._buffers.items():\n",
        "          if buf is not None:\n",
        "              state[name] = buf\n",
        "      # Save child modules\n",
        "      for name, module in self._modules.items():\n",
        "          if module is not None:\n",
        "              state[name] = module.state_dict()\n",
        "      return state\n",
        "\n",
        "  def load_state_dict(self, state_dict):\n",
        "      \"\"\"Load module state from state_dict.\"\"\"\n",
        "      for name, param in state_dict.items():\n",
        "          if name in self._parameters:\n",
        "              self._parameters[name].data.copy_(param)\n",
        "          elif name in self._buffers:\n",
        "              self._buffers[name].copy_(param)\n",
        "          elif name in self._modules:\n",
        "              self._modules[name].load_state_dict(param)\n",
        "\n",
        "  def forward(self, *args, **kwargs):\n",
        "      \"\"\"Should be overridden by subclasses.\"\"\"\n",
        "      raise NotImplementedError\n",
        "\n",
        "  def __call__(self, *args, **kwargs):\n",
        "      \"\"\"Wrapper around forward() with additional functionality.\"\"\"\n",
        "      return self.forward(*args, **kwargs)"
      ],
      "metadata": {
        "id": "Blhho1wiqDJj"
      },
      "execution_count": 15,
      "outputs": []
    },
    {
      "cell_type": "markdown",
      "source": [
        "1. The `register_buffer` method in `torch.nn.Module` is used to register **non-trainable tensors** associated with the module. These buffers are useful for storing and managing additional state information that is not part of the module's trainable parameters."
      ],
      "metadata": {
        "id": "c_c72ZQws95u"
      }
    },
    {
      "cell_type": "code",
      "source": [],
      "metadata": {
        "id": "XfPOFiXWt_li"
      },
      "execution_count": null,
      "outputs": []
    }
  ]
}