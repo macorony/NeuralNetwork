{
  "nbformat": 4,
  "nbformat_minor": 0,
  "metadata": {
    "colab": {
      "provenance": [],
      "mount_file_id": "https://github.com/macorony/NeuralNetwork/blob/main/pytorch.ipynb",
      "authorship_tag": "ABX9TyOC0mT53Z3Kb/bnQ8M4NfWX",
      "include_colab_link": true
    },
    "kernelspec": {
      "name": "python3",
      "display_name": "Python 3"
    },
    "language_info": {
      "name": "python"
    }
  },
  "cells": [
    {
      "cell_type": "markdown",
      "metadata": {
        "id": "view-in-github",
        "colab_type": "text"
      },
      "source": [
        "<a href=\"https://colab.research.google.com/github/macorony/NeuralNetwork/blob/main/pytorch.ipynb\" target=\"_parent\"><img src=\"https://colab.research.google.com/assets/colab-badge.svg\" alt=\"Open In Colab\"/></a>"
      ]
    },
    {
      "cell_type": "code",
      "execution_count": 82,
      "metadata": {
        "id": "Gi-EGr-IqGaQ"
      },
      "outputs": [],
      "source": [
        "import numpy as np\n",
        "import torch\n",
        "from torch import nn\n",
        "from torch.utils.data import DataLoader\n",
        "from torchvision import datasets\n",
        "from torchvision.transforms import ToTensor"
      ]
    },
    {
      "cell_type": "markdown",
      "source": [
        "# Basic"
      ],
      "metadata": {
        "id": "m6l0IeUI96lj"
      }
    },
    {
      "cell_type": "code",
      "source": [
        "z = torch.zeros(5,3)\n",
        "print(z)\n",
        "print(z.dtype)"
      ],
      "metadata": {
        "colab": {
          "base_uri": "https://localhost:8080/"
        },
        "id": "hQJWekD4q1Oh",
        "outputId": "c9026c50-9272-4597-ef27-1791161dc012"
      },
      "execution_count": 83,
      "outputs": [
        {
          "output_type": "stream",
          "name": "stdout",
          "text": [
            "tensor([[0., 0., 0.],\n",
            "        [0., 0., 0.],\n",
            "        [0., 0., 0.],\n",
            "        [0., 0., 0.],\n",
            "        [0., 0., 0.]])\n",
            "torch.float32\n"
          ]
        }
      ]
    },
    {
      "cell_type": "code",
      "source": [
        "i = torch.ones((5,3), dtype=torch.int16)\n",
        "print(i)"
      ],
      "metadata": {
        "colab": {
          "base_uri": "https://localhost:8080/"
        },
        "id": "s0OdN2-ivVAY",
        "outputId": "2f65ab49-b6d5-4df9-802c-fcbd860230d8"
      },
      "execution_count": 84,
      "outputs": [
        {
          "output_type": "stream",
          "name": "stdout",
          "text": [
            "tensor([[1, 1, 1],\n",
            "        [1, 1, 1],\n",
            "        [1, 1, 1],\n",
            "        [1, 1, 1],\n",
            "        [1, 1, 1]], dtype=torch.int16)\n"
          ]
        }
      ]
    },
    {
      "cell_type": "code",
      "source": [
        "torch.manual_seed(1729)\n",
        "r1 = torch.rand(2,2)\n",
        "print(r1)\n",
        "\n",
        "r2 = torch.rand(2,2)\n",
        "print(r2)\n",
        "\n",
        "torch.manual_seed(1729)\n",
        "r3 = torch.rand(2,2)\n",
        "print(r3)"
      ],
      "metadata": {
        "colab": {
          "base_uri": "https://localhost:8080/"
        },
        "id": "bAQcEeDlvgjV",
        "outputId": "ea46c561-6f16-4a77-8027-843e2ff57863"
      },
      "execution_count": 85,
      "outputs": [
        {
          "output_type": "stream",
          "name": "stdout",
          "text": [
            "tensor([[0.3126, 0.3791],\n",
            "        [0.3087, 0.0736]])\n",
            "tensor([[0.4216, 0.0691],\n",
            "        [0.2332, 0.4047]])\n",
            "tensor([[0.3126, 0.3791],\n",
            "        [0.3087, 0.0736]])\n"
          ]
        }
      ]
    },
    {
      "cell_type": "code",
      "source": [
        "ones = torch.ones(2,3)\n",
        "print(ones)\n",
        "\n",
        "twos = torch.ones(2,3) +2\n",
        "print(twos)\n",
        "\n",
        "threes = ones + twos\n",
        "print(threes)\n",
        "print(threes.shape)"
      ],
      "metadata": {
        "colab": {
          "base_uri": "https://localhost:8080/"
        },
        "id": "wqwLZtNZwZwN",
        "outputId": "39f1c403-1fa7-489a-db7d-21ebaa0d0cca"
      },
      "execution_count": 86,
      "outputs": [
        {
          "output_type": "stream",
          "name": "stdout",
          "text": [
            "tensor([[1., 1., 1.],\n",
            "        [1., 1., 1.]])\n",
            "tensor([[3., 3., 3.],\n",
            "        [3., 3., 3.]])\n",
            "tensor([[4., 4., 4.],\n",
            "        [4., 4., 4.]])\n",
            "torch.Size([2, 3])\n"
          ]
        }
      ]
    },
    {
      "cell_type": "code",
      "source": [
        "r = torch.rand(2,2) - 0.5 * 2\n",
        "print(\"A random matrix, r: {}\".format(r))\n",
        "print(\"\\nAbsolute value of r: {}\".format(torch.abs(r)))\n",
        "print(\"\\nInverse sine of r: {}\".format(torch.abs(r)))\n",
        "print(\"\\nDetermined of r: {}\".format(torch.det(r)))\n",
        "print(\"\\nSingular Value decomposition of r: {}\".format(torch.svd(r)))\n",
        "print(\"\\nAverage and standard deviation of r: {}\".format(torch.std_mean(r)))\n",
        "print(\"\\nMaximum value of r: {}\".format(torch.max(r)))"
      ],
      "metadata": {
        "id": "7gRAehOVwbNN",
        "colab": {
          "base_uri": "https://localhost:8080/"
        },
        "outputId": "bc151d40-b8bb-432c-822a-749572cbd053"
      },
      "execution_count": 87,
      "outputs": [
        {
          "output_type": "stream",
          "name": "stdout",
          "text": [
            "A random matrix, r: tensor([[-0.5784, -0.9309],\n",
            "        [-0.7668, -0.5953]])\n",
            "\n",
            "Absolute value of r: tensor([[0.5784, 0.9309],\n",
            "        [0.7668, 0.5953]])\n",
            "\n",
            "Inverse sine of r: tensor([[0.5784, 0.9309],\n",
            "        [0.7668, 0.5953]])\n",
            "\n",
            "Determined of r: -0.36948588490486145\n",
            "\n",
            "Singular Value decomposition of r: torch.return_types.svd(\n",
            "U=tensor([[-0.7512, -0.6601],\n",
            "        [-0.6601,  0.7512]]),\n",
            "S=tensor([1.4415, 0.2563]),\n",
            "V=tensor([[ 0.6525, -0.7578],\n",
            "        [ 0.7578,  0.6525]]))\n",
            "\n",
            "Average and standard deviation of r: (tensor(0.1656), tensor(-0.7179))\n",
            "\n",
            "Maximum value of r: -0.5783984065055847\n"
          ]
        }
      ]
    },
    {
      "cell_type": "markdown",
      "source": [
        "# Autograd"
      ],
      "metadata": {
        "id": "Pt1zix1-995R"
      }
    },
    {
      "cell_type": "code",
      "source": [
        "x = torch.randn(1,10)\n",
        "prev_h =torch.randn(1,20)\n",
        "W_h = torch.randn(20,20)\n",
        "W_x = torch.randn(20,10)"
      ],
      "metadata": {
        "id": "b35qQhoU99RZ"
      },
      "execution_count": 88,
      "outputs": []
    },
    {
      "cell_type": "code",
      "source": [
        "i2h = torch.mm(W_x, x.t())\n",
        "h2h = torch.mm(W_h, prev_h.t())\n",
        "next_h = i2h + h2h\n",
        "next_h = next_h.tanh()"
      ],
      "metadata": {
        "id": "y8GqzPfH77u6"
      },
      "execution_count": 89,
      "outputs": []
    },
    {
      "cell_type": "code",
      "source": [
        "loss = next_h.sum()"
      ],
      "metadata": {
        "id": "KBpxw54478Cv"
      },
      "execution_count": 90,
      "outputs": []
    },
    {
      "cell_type": "markdown",
      "source": [
        "# A pytorch model"
      ],
      "metadata": {
        "id": "qSnzVHBmaeMb"
      }
    },
    {
      "cell_type": "code",
      "source": [
        "# import module\n",
        "import torch\n",
        "import torch.nn as nn\n",
        "import torch.nn.functional as F\n",
        "import torch.optim as optim\n",
        "\n",
        "import torchvision\n",
        "import torchvision.transforms as transforms\n",
        "\n",
        "import matplotlib.pyplot as plt\n",
        "%matplotlib inline\n",
        "import matplotlib\n",
        "import numpy as np"
      ],
      "metadata": {
        "id": "WGpEL6lZa_-u"
      },
      "execution_count": 91,
      "outputs": []
    },
    {
      "cell_type": "code",
      "source": [
        "# datasets\n",
        "transform = transforms.Compose([transforms.ToTensor(),\n",
        "                                transforms.Normalize((0.5,0.5,0.5), (0.5,0.5,0.5))])\n",
        "\n",
        "trainset = torchvision.datasets.CIFAR10(root='./data', train=True, download=True, transform=transform)\n",
        "trainloader = torch.utils.data.DataLoader(trainset, batch_size=4, shuffle=True, num_workers=2)\n",
        "\n",
        "testset = torchvision.datasets.CIFAR10(root='\\data', train=False, download=True, transform=transform)\n",
        "testloader = torch.utils.data.DataLoader(testset, batchsize=4, shuffle=False, num_workers=2)\n",
        "\n",
        "classes = (\"plane\", \"car\", \"bird\", \"cat\", \"deer\", \"dog\", \"frog\", \"horse\", \"ship\", \"truck\")"
      ],
      "metadata": {
        "id": "LPICFTm_VgEM",
        "outputId": "0ca1d4d4-a067-4972-b175-281d1ba0b370",
        "colab": {
          "base_uri": "https://localhost:8080/"
        }
      },
      "execution_count": 109,
      "outputs": [
        {
          "output_type": "stream",
          "name": "stdout",
          "text": [
            "Files already downloaded and verified\n"
          ]
        }
      ]
    },
    {
      "cell_type": "code",
      "source": [
        "input = torch.rand(1,1,32,32)\n",
        "print(input.shape)"
      ],
      "metadata": {
        "colab": {
          "base_uri": "https://localhost:8080/"
        },
        "id": "GLX0-ISvo7jG",
        "outputId": "fb294099-7533-4786-d7d7-c5bc3dd3c12a"
      },
      "execution_count": 94,
      "outputs": [
        {
          "output_type": "stream",
          "name": "stdout",
          "text": [
            "torch.Size([1, 1, 32, 32])\n"
          ]
        }
      ]
    },
    {
      "cell_type": "code",
      "source": [
        "class LeNet(nn.Module):\n",
        "  def __init__(self):\n",
        "    super(LeNet, self).__init__()\n",
        "    # kernel\n",
        "    self.conv1 = nn.Conv2d(1, 6, 3)\n",
        "    self.conv2 = nn.Conv2d(6, 16, 3)\n",
        "    # y = wx + b\n",
        "    self.fc1 = nn.Linear(16*6*6, 120)\n",
        "    self.fc2 = nn.Linear(120, 84)\n",
        "    self.fc3 =nn.Linear(84, 10)\n",
        "\n",
        "  def forward(self, x):\n",
        "    x = F.max_pool2d(F.relu(self.conv1(x)), (2,2))\n",
        "    x = F.max_pool2d(F.relu(self.conv2(x)), 2)\n",
        "    x = x.view(-1, self.num_flat_features(x))\n",
        "    x = F.relu(self.fc1(x))\n",
        "    x = F.relu(self.fc2(x))\n",
        "    x = self.fc3(x)\n",
        "    return x\n",
        "\n",
        "  def num_flat_features(self, x):\n",
        "    size = x.size()[1:]\n",
        "    num_features = 1\n",
        "    for s in size:\n",
        "      num_features *= s\n",
        "    return num_features\n",
        "\n",
        "\n"
      ],
      "metadata": {
        "id": "g7X0e6obbJeO"
      },
      "execution_count": 92,
      "outputs": []
    },
    {
      "cell_type": "code",
      "source": [
        "output = net(input)\n",
        "print(output)"
      ],
      "metadata": {
        "colab": {
          "base_uri": "https://localhost:8080/"
        },
        "id": "9PdkEBdKpL-0",
        "outputId": "7d904133-d42c-4d06-a74b-b458bd70eea3"
      },
      "execution_count": 95,
      "outputs": [
        {
          "output_type": "stream",
          "name": "stdout",
          "text": [
            "tensor([[-0.0721, -0.0591,  0.0887, -0.0504, -0.0573,  0.0829, -0.0339, -0.0914,\n",
            "          0.1082, -0.0013]], grad_fn=<AddmmBackward0>)\n"
          ]
        }
      ]
    },
    {
      "cell_type": "code",
      "source": [
        "net = LeNet()\n",
        "print(net)"
      ],
      "metadata": {
        "colab": {
          "base_uri": "https://localhost:8080/"
        },
        "id": "_vwcrWq7ox_K",
        "outputId": "05ca7969-37a8-4003-f466-fdc17eed8300"
      },
      "execution_count": 93,
      "outputs": [
        {
          "output_type": "stream",
          "name": "stdout",
          "text": [
            "LeNet(\n",
            "  (conv1): Conv2d(1, 6, kernel_size=(3, 3), stride=(1, 1))\n",
            "  (conv2): Conv2d(6, 16, kernel_size=(3, 3), stride=(1, 1))\n",
            "  (fc1): Linear(in_features=576, out_features=120, bias=True)\n",
            "  (fc2): Linear(in_features=120, out_features=84, bias=True)\n",
            "  (fc3): Linear(in_features=84, out_features=10, bias=True)\n",
            ")\n"
          ]
        }
      ]
    },
    {
      "cell_type": "code",
      "source": [
        "m = nn.Linear(20, 30)\n",
        "input = torch.randn(128, 20)\n",
        "output = m(input)"
      ],
      "metadata": {
        "id": "NXWTYar0cF3X"
      },
      "execution_count": 96,
      "outputs": []
    },
    {
      "cell_type": "code",
      "source": [
        "output"
      ],
      "metadata": {
        "colab": {
          "base_uri": "https://localhost:8080/"
        },
        "id": "Clky1T5mFYKz",
        "outputId": "471bca49-d362-4711-8b15-c2df4861ea36"
      },
      "execution_count": 97,
      "outputs": [
        {
          "output_type": "execute_result",
          "data": {
            "text/plain": [
              "tensor([[ 0.5816,  0.6268, -0.6016,  ..., -0.4007,  0.4633,  0.1672],\n",
              "        [-0.6382,  0.5278, -1.4308,  ..., -0.5047, -0.0698,  0.0934],\n",
              "        [-0.0045, -0.4488, -0.3339,  ..., -0.6418, -0.6971, -0.3431],\n",
              "        ...,\n",
              "        [-0.3212, -1.0729, -0.6405,  ...,  0.0686, -0.0320, -1.3854],\n",
              "        [-0.1396, -0.2422,  0.4459,  ...,  0.2898,  0.0753, -0.2173],\n",
              "        [-0.2004,  0.0419,  0.3773,  ..., -0.0946,  0.3696,  0.4180]],\n",
              "       grad_fn=<AddmmBackward0>)"
            ]
          },
          "metadata": {},
          "execution_count": 97
        }
      ]
    },
    {
      "cell_type": "code",
      "source": [
        "m = nn.MaxPool2d(3, stride=2)\n",
        "input = torch.randn(20, 16,20)\n",
        "output = m(input)"
      ],
      "metadata": {
        "id": "4M_2osbgGJeq"
      },
      "execution_count": 98,
      "outputs": []
    },
    {
      "cell_type": "code",
      "source": [
        "output.shape"
      ],
      "metadata": {
        "colab": {
          "base_uri": "https://localhost:8080/"
        },
        "id": "ybKn-Q2RJGWj",
        "outputId": "41af3eef-2e7e-43d7-a095-b40f3a92a69c"
      },
      "execution_count": 99,
      "outputs": [
        {
          "output_type": "execute_result",
          "data": {
            "text/plain": [
              "torch.Size([20, 7, 9])"
            ]
          },
          "metadata": {},
          "execution_count": 99
        }
      ]
    },
    {
      "cell_type": "code",
      "source": [
        "import matplotlib.pyplot as plt\n",
        "import matplotlib.image as mpimg\n",
        "%matplotlib inline\n",
        "import cv2\n",
        "import torch\n",
        "import torchvision\n",
        "import torchvision.transforms as transforms # used to transform or augment data for training or inference of different tasks"
      ],
      "metadata": {
        "id": "2hw28ICRUQAx"
      },
      "execution_count": 102,
      "outputs": []
    },
    {
      "cell_type": "code",
      "source": [
        "# Visualization\n",
        "\n",
        "images, labels = next(iter(trainloader))\n",
        "grid = torchvision.utils.make_grid(images)"
      ],
      "metadata": {
        "id": "IpjkWLjgkU9m"
      },
      "execution_count": 144,
      "outputs": []
    },
    {
      "cell_type": "code",
      "source": [
        "plt.imshow((grid /2 + 0.5).permute(1,2,0))\n",
        "print(' '.join('%5s' %  classes[labels[j]] for j in range(4)))"
      ],
      "metadata": {
        "colab": {
          "base_uri": "https://localhost:8080/",
          "height": 210
        },
        "id": "lXCvYWTtS-7K",
        "outputId": "ccfd3429-c224-48f3-8cf9-befef7b940a5"
      },
      "execution_count": 145,
      "outputs": [
        {
          "output_type": "stream",
          "name": "stdout",
          "text": [
            "  cat horse plane  frog\n"
          ]
        },
        {
          "output_type": "display_data",
          "data": {
            "text/plain": [
              "<Figure size 640x480 with 1 Axes>"
            ],
            "image/png": "[encoded data removed]"
          },
          "metadata": {}
        }
      ]
    },
    {
      "cell_type": "code",
      "source": [],
      "metadata": {
        "id": "9WLSYUPpainv"
      },
      "execution_count": null,
      "outputs": []
    },
    {
      "cell_type": "markdown",
      "source": [
        "# About pooling\n",
        "1. The pooling operation involves sliding a two-dimensional filter over each channel of feature map and summarizing the features lying within the region by the filter.\n",
        "2. A CNN model architecture is to have a number of convolution and pooling layers stacked one after the other\n",
        "3. Pooling layer are used to reduce the dimensions of the feature maps. Thus, it reduce the numbers of parameters to learn and the amount of computation in the network.\n",
        "4. The pooling layer summarises the features present in a region of the feature map generated by a convolution layer. So, further operation are performed on summarised features instead of precisely positioned features generated by the convolution layer.\n",
        "\n",
        "## Types of pooling layer\n",
        "1. Max pooling, a pooling operation to select the maximum element from the region of the feature map covered by the filter. Thus, the output after max-pooling layer would be a feature map containing the most prominent features of the previous map.\n",
        "2. Average pooling computes the average of the elements present in the region of feature map covered by the filter.\n",
        "3. Global pooling ?\n",
        "\n"
      ],
      "metadata": {
        "id": "f339o0ZzeZ0Z"
      }
    },
    {
      "cell_type": "code",
      "source": [],
      "metadata": {
        "id": "fDKad0ORV_3q"
      },
      "execution_count": null,
      "outputs": []
    },
    {
      "cell_type": "code",
      "source": [
        "# Max pooling\n",
        "import numpy as np\n",
        "from keras.models import Sequential\n",
        "from keras.layers import MaxPooling2D, AveragePooling2D\n",
        "\n",
        "image = np.array([\n",
        "                  [2, 3, 4, 5],\n",
        "                  [9, 4, 6, 1],\n",
        "                  [8, 5, 2, 4],\n",
        "                  [3, 1, 2, 6]\n",
        "                  ])\n",
        "image = image.reshape(1, 4, 4, 1)\n",
        "\n",
        "model_max = Sequential([MaxPooling2D(pool_size=2, strides=2)])\n",
        "\n",
        "model_average = Sequential([AveragePooling2D(pool_size=2, strides=2)])\n",
        "\n",
        "output_max = model_max.predict(image)\n",
        "\n",
        "output_average = model_average.predict(image)"
      ],
      "metadata": {
        "id": "3AnYWpzzc2zW",
        "outputId": "689973f6-4cf4-4de0-ec2c-d718a4cd2975",
        "colab": {
          "base_uri": "https://localhost:8080/"
        }
      },
      "execution_count": null,
      "outputs": [
        {
          "output_type": "stream",
          "name": "stdout",
          "text": [
            "\u001b[1m1/1\u001b[0m \u001b[32m━━━━━━━━━━━━━━━━━━━━\u001b[0m\u001b[37m\u001b[0m \u001b[1m0s\u001b[0m 82ms/step\n",
            "\u001b[1m1/1\u001b[0m \u001b[32m━━━━━━━━━━━━━━━━━━━━\u001b[0m\u001b[37m\u001b[0m \u001b[1m0s\u001b[0m 83ms/step\n"
          ]
        }
      ]
    },
    {
      "cell_type": "code",
      "source": [
        "print(\"The max-pooling output is {}\".format(np.squeeze(output_average)))\n",
        "print(\"\\nThe average-pooling output is {}\".format(np.squeeze(output_average)))\n"
      ],
      "metadata": {
        "id": "GvAUeDrZst9_",
        "outputId": "f61d49a0-d00a-4a29-8a89-b55d92bec7a8",
        "colab": {
          "base_uri": "https://localhost:8080/"
        }
      },
      "execution_count": null,
      "outputs": [
        {
          "output_type": "stream",
          "name": "stdout",
          "text": [
            "The max-pooling output is [[4.5  4.  ]\n",
            " [4.25 3.5 ]]\n",
            "\n",
            "The average-pooling output is [[4.5  4.  ]\n",
            " [4.25 3.5 ]]\n"
          ]
        }
      ]
    },
    {
      "cell_type": "markdown",
      "source": [
        "# torch.nn.Module\n",
        "Base class for all neural network module, self-defined models should subclass this class"
      ],
      "metadata": {
        "id": "3iDu8GwkrR07"
      }
    },
    {
      "cell_type": "code",
      "source": [
        "import torch.nn as nn\n",
        "import torch.nn.functional as F"
      ],
      "metadata": {
        "id": "spv3jOuokuDE"
      },
      "execution_count": null,
      "outputs": []
    },
    {
      "cell_type": "code",
      "source": [
        "class Model(nn.Module):\n",
        "  def __init__(self):\n",
        "    super().__init__()\n",
        "    self.conv1 = nn.Conv2d(1, 20, 5)\n",
        "    self.conv2 = nn.Conv2d(20, 20, 5)\n",
        "\n",
        "  def forward(self, x):\n",
        "    x = F.relu(self.conv1(x))\n",
        "    return F.relu(self.conv2(x))"
      ],
      "metadata": {
        "id": "w2bPjWxnrp0v"
      },
      "execution_count": null,
      "outputs": []
    }
  ]
}