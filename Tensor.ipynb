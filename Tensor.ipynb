{
  "nbformat": 4,
  "nbformat_minor": 0,
  "metadata": {
    "colab": {
      "provenance": [],
      "authorship_tag": "ABX9TyNIM/w4BinyAhK9Hzl0WH1l",
      "include_colab_link": true
    },
    "kernelspec": {
      "name": "python3",
      "display_name": "Python 3"
    },
    "language_info": {
      "name": "python"
    }
  },
  "cells": [
    {
      "cell_type": "markdown",
      "metadata": {
        "id": "view-in-github",
        "colab_type": "text"
      },
      "source": [
        "<a href=\"https://colab.research.google.com/github/macorony/NeuralNetwork/blob/main/Tensor.ipynb\" target=\"_parent\"><img src=\"https://colab.research.google.com/assets/colab-badge.svg\" alt=\"Open In Colab\"/></a>"
      ]
    },
    {
      "cell_type": "code",
      "execution_count": 55,
      "metadata": {
        "id": "ZtcVILsn0qdG"
      },
      "outputs": [],
      "source": [
        "import torch\n",
        "import math"
      ]
    },
    {
      "cell_type": "code",
      "source": [
        "x = torch.empty(3,4)\n",
        "zeros = torch.zeros(2,3)\n",
        "print(zeros)\n",
        "ones = torch.ones(2,3)\n",
        "print(ones)\n",
        "\n",
        "torch.manual_seed(1729)\n",
        "random = torch.rand(2,3)\n",
        "print(random)"
      ],
      "metadata": {
        "colab": {
          "base_uri": "https://localhost:8080/"
        },
        "id": "1K3ZTacw1IeA",
        "outputId": "c323b0a8-b642-4964-b20b-571a4cd180f7"
      },
      "execution_count": 56,
      "outputs": [
        {
          "output_type": "stream",
          "name": "stdout",
          "text": [
            "tensor([[0., 0., 0.],\n",
            "        [0., 0., 0.]])\n",
            "tensor([[1., 1., 1.],\n",
            "        [1., 1., 1.]])\n",
            "tensor([[0.3126, 0.3791, 0.3087],\n",
            "        [0.0736, 0.4216, 0.0691]])\n"
          ]
        }
      ]
    },
    {
      "cell_type": "code",
      "source": [
        "torch.manual_seed(1729)\n",
        "rand1 = torch.rand(2,3)\n",
        "print(rand1)\n",
        "\n",
        "rand2 = torch.rand(2,3)\n",
        "print(rand2)"
      ],
      "metadata": {
        "colab": {
          "base_uri": "https://localhost:8080/"
        },
        "id": "5S_x69dc3cKI",
        "outputId": "b5bc37cb-9ad7-4766-ab9f-db07d6c28a49"
      },
      "execution_count": 57,
      "outputs": [
        {
          "output_type": "stream",
          "name": "stdout",
          "text": [
            "tensor([[0.3126, 0.3791, 0.3087],\n",
            "        [0.0736, 0.4216, 0.0691]])\n",
            "tensor([[0.2332, 0.4047, 0.2162],\n",
            "        [0.9927, 0.4128, 0.5938]])\n"
          ]
        }
      ]
    },
    {
      "cell_type": "code",
      "source": [
        "torch.manual_seed(1729)\n",
        "rand3 = torch.rand(2,3)\n",
        "print(rand3)\n",
        "\n",
        "rand4 = torch.rand(2,3)\n",
        "print(rand4)"
      ],
      "metadata": {
        "colab": {
          "base_uri": "https://localhost:8080/"
        },
        "id": "UrIxI9Df08tu",
        "outputId": "557ece19-7b96-4539-9893-baed63d7416a"
      },
      "execution_count": 58,
      "outputs": [
        {
          "output_type": "stream",
          "name": "stdout",
          "text": [
            "tensor([[0.3126, 0.3791, 0.3087],\n",
            "        [0.0736, 0.4216, 0.0691]])\n",
            "tensor([[0.2332, 0.4047, 0.2162],\n",
            "        [0.9927, 0.4128, 0.5938]])\n"
          ]
        }
      ]
    },
    {
      "cell_type": "code",
      "source": [
        "x = torch.empty(2,2,2,2,2,2)\n",
        "print(x.shape)\n",
        "print(x)"
      ],
      "metadata": {
        "colab": {
          "base_uri": "https://localhost:8080/"
        },
        "id": "m566bwd64ZrO",
        "outputId": "d381373f-fa6d-4ff4-d3c2-17b008881544"
      },
      "execution_count": 59,
      "outputs": [
        {
          "output_type": "stream",
          "name": "stdout",
          "text": [
            "torch.Size([2, 2, 2, 2, 2, 2])\n",
            "tensor([[[[[[-1.3422e+28,  4.3810e-41],\n",
            "            [-1.8313e+28,  4.3810e-41]],\n",
            "\n",
            "           [[ 2.3379e-31,  4.3810e-41],\n",
            "            [ 4.3479e-31,  4.3810e-41]]],\n",
            "\n",
            "\n",
            "          [[[-1.5395e+28,  4.3810e-41],\n",
            "            [-1.8419e+28,  4.3810e-41]],\n",
            "\n",
            "           [[-9.5663e+27,  4.3810e-41],\n",
            "            [-1.9783e+28,  4.3810e-41]]]],\n",
            "\n",
            "\n",
            "\n",
            "         [[[[-1.7852e+28,  4.3810e-41],\n",
            "            [-1.0205e+28,  4.3810e-41]],\n",
            "\n",
            "           [[-2.1533e+27,  4.3810e-41],\n",
            "            [-5.4992e+27,  4.3810e-41]]],\n",
            "\n",
            "\n",
            "          [[[-1.9280e+28,  4.3810e-41],\n",
            "            [-1.1858e-11,  4.3810e-41]],\n",
            "\n",
            "           [[ 6.9865e-31,  4.3810e-41],\n",
            "            [-1.7834e+28,  4.3810e-41]]]]],\n",
            "\n",
            "\n",
            "\n",
            "\n",
            "        [[[[[-1.7662e+28,  4.3810e-41],\n",
            "            [ 1.7883e-32,  4.3810e-41]],\n",
            "\n",
            "           [[ 4.7548e-32,  4.3810e-41],\n",
            "            [ 1.8179e-32,  4.3810e-41]]],\n",
            "\n",
            "\n",
            "          [[[ 1.8140e-32,  4.3810e-41],\n",
            "            [ 2.9556e-31,  4.3810e-41]],\n",
            "\n",
            "           [[ 0.0000e+00,  0.0000e+00],\n",
            "            [ 1.5835e-43,  0.0000e+00]]]],\n",
            "\n",
            "\n",
            "\n",
            "         [[[[-6.2087e+08,  3.1906e-41],\n",
            "            [-3.3104e+28,  4.3810e-41]],\n",
            "\n",
            "           [[ 0.0000e+00,  0.0000e+00],\n",
            "            [ 0.0000e+00,  0.0000e+00]]],\n",
            "\n",
            "\n",
            "          [[[ 0.0000e+00,  0.0000e+00],\n",
            "            [ 9.1084e-44,  0.0000e+00]],\n",
            "\n",
            "           [[-3.3103e+28,  4.3810e-41],\n",
            "            [-3.3103e+28,  4.3810e-41]]]]]])\n"
          ]
        }
      ]
    },
    {
      "cell_type": "code",
      "source": [
        "a = torch.tensor([\n",
        "    [1,1],\n",
        "    [1,1]\n",
        "    ])\n",
        "print(a)\n",
        "\n",
        "b = torch.tensor((2,2,2,4))\n",
        "print(b)\n",
        "\n",
        "c = torch.tensor(((1,2), [3,4]))\n",
        "print(c)"
      ],
      "metadata": {
        "colab": {
          "base_uri": "https://localhost:8080/"
        },
        "id": "AU9z1idFEGWY",
        "outputId": "2bb3914a-c9eb-436d-d9be-aa182ffbc0be"
      },
      "execution_count": 60,
      "outputs": [
        {
          "output_type": "stream",
          "name": "stdout",
          "text": [
            "tensor([[1, 1],\n",
            "        [1, 1]])\n",
            "tensor([2, 2, 2, 4])\n",
            "tensor([[1, 2],\n",
            "        [3, 4]])\n"
          ]
        }
      ]
    },
    {
      "cell_type": "code",
      "source": [
        "d = torch.ones((2,3))\n",
        "print(d.shape)"
      ],
      "metadata": {
        "colab": {
          "base_uri": "https://localhost:8080/"
        },
        "id": "4a1yEybwGDI6",
        "outputId": "69da4bfa-839c-438b-bcb7-0f71184cdebc"
      },
      "execution_count": 61,
      "outputs": [
        {
          "output_type": "stream",
          "name": "stdout",
          "text": [
            "torch.Size([2, 3])\n"
          ]
        }
      ]
    },
    {
      "cell_type": "code",
      "source": [
        "torch.tensor((2,3)).shape"
      ],
      "metadata": {
        "colab": {
          "base_uri": "https://localhost:8080/"
        },
        "id": "0xE0kqlz5bbd",
        "outputId": "54bdfadc-6c0f-4562-af59-1fdd327a1dd3"
      },
      "execution_count": 62,
      "outputs": [
        {
          "output_type": "execute_result",
          "data": {
            "text/plain": [
              "torch.Size([2])"
            ]
          },
          "metadata": {},
          "execution_count": 62
        }
      ]
    },
    {
      "cell_type": "code",
      "source": [
        "torch.rand(2,3)"
      ],
      "metadata": {
        "colab": {
          "base_uri": "https://localhost:8080/"
        },
        "id": "k8YjDKmuEwV6",
        "outputId": "7415c8e9-a636-4b20-c7da-4ae104f5f60d"
      },
      "execution_count": 63,
      "outputs": [
        {
          "output_type": "execute_result",
          "data": {
            "text/plain": [
              "tensor([[0.6128, 0.1519, 0.0453],\n",
              "        [0.5035, 0.9978, 0.3884]])"
            ]
          },
          "metadata": {},
          "execution_count": 63
        }
      ]
    },
    {
      "cell_type": "code",
      "source": [
        "x = torch.empty(2,2,4)\n",
        "x"
      ],
      "metadata": {
        "colab": {
          "base_uri": "https://localhost:8080/"
        },
        "id": "_uFXVNH_HH56",
        "outputId": "18abc404-daf6-42f8-b6b6-6211308fadb3"
      },
      "execution_count": 64,
      "outputs": [
        {
          "output_type": "execute_result",
          "data": {
            "text/plain": [
              "tensor([[[ 0.0000e+00,  0.0000e+00, -7.6920e+08,  3.1906e-41],\n",
              "         [-2.4918e+07,  3.1906e-41,  1.0406e-26,  4.3810e-41]],\n",
              "\n",
              "        [[ 0.0000e+00,  0.0000e+00,  0.0000e+00,  0.0000e+00],\n",
              "         [ 0.0000e+00,  0.0000e+00,  0.0000e+00,  0.0000e+00]]])"
            ]
          },
          "metadata": {},
          "execution_count": 64
        }
      ]
    },
    {
      "cell_type": "code",
      "source": [
        "torch.empty_like(x)"
      ],
      "metadata": {
        "colab": {
          "base_uri": "https://localhost:8080/"
        },
        "id": "pEuL-Oc-HtRZ",
        "outputId": "fb8f0b8e-ab8a-40b2-c213-8dbddd484f89"
      },
      "execution_count": 65,
      "outputs": [
        {
          "output_type": "execute_result",
          "data": {
            "text/plain": [
              "tensor([[[-3.3104e+28,  4.3810e-41, -8.5610e+08,  3.1906e-41],\n",
              "         [-1.0321e+09,  3.1906e-41, -4.1563e+08,  3.1906e-41]],\n",
              "\n",
              "        [[ 0.0000e+00,  0.0000e+00, -1.5497e+08,  3.1906e-41],\n",
              "         [-2.4918e+07,  3.1906e-41, -1.3512e-11,  4.3810e-41]]])"
            ]
          },
          "metadata": {},
          "execution_count": 65
        }
      ]
    },
    {
      "cell_type": "code",
      "source": [
        "torch.zeros_like(x)"
      ],
      "metadata": {
        "colab": {
          "base_uri": "https://localhost:8080/"
        },
        "id": "2NPpa6UHHz5n",
        "outputId": "ce8cf01f-faf3-465c-ae27-366b1d491403"
      },
      "execution_count": 66,
      "outputs": [
        {
          "output_type": "execute_result",
          "data": {
            "text/plain": [
              "tensor([[[0., 0., 0., 0.],\n",
              "         [0., 0., 0., 0.]],\n",
              "\n",
              "        [[0., 0., 0., 0.],\n",
              "         [0., 0., 0., 0.]]])"
            ]
          },
          "metadata": {},
          "execution_count": 66
        }
      ]
    },
    {
      "cell_type": "code",
      "source": [
        "torch.ones_like(x)"
      ],
      "metadata": {
        "colab": {
          "base_uri": "https://localhost:8080/"
        },
        "id": "LboEWvqXH4QG",
        "outputId": "13883c21-da93-4e61-d30c-86915d0331d2"
      },
      "execution_count": 67,
      "outputs": [
        {
          "output_type": "execute_result",
          "data": {
            "text/plain": [
              "tensor([[[1., 1., 1., 1.],\n",
              "         [1., 1., 1., 1.]],\n",
              "\n",
              "        [[1., 1., 1., 1.],\n",
              "         [1., 1., 1., 1.]]])"
            ]
          },
          "metadata": {},
          "execution_count": 67
        }
      ]
    },
    {
      "cell_type": "code",
      "source": [
        "torch.rand_like(x)"
      ],
      "metadata": {
        "colab": {
          "base_uri": "https://localhost:8080/"
        },
        "id": "wuzI-cjJH8HD",
        "outputId": "4944e361-ccf8-4a07-c3fa-e2fc5dce6a34"
      },
      "execution_count": 68,
      "outputs": [
        {
          "output_type": "execute_result",
          "data": {
            "text/plain": [
              "tensor([[[0.6929, 0.1703, 0.1384, 0.4759],\n",
              "         [0.7481, 0.0361, 0.5062, 0.8469]],\n",
              "\n",
              "        [[0.2588, 0.2707, 0.4115, 0.6839],\n",
              "         [0.0703, 0.5105, 0.9451, 0.2359]]])"
            ]
          },
          "metadata": {},
          "execution_count": 68
        }
      ]
    },
    {
      "cell_type": "code",
      "source": [
        "a = torch.ones((2,3), dtype = torch.int16)\n",
        "print(a)"
      ],
      "metadata": {
        "colab": {
          "base_uri": "https://localhost:8080/"
        },
        "id": "tuTYNj1KH-KD",
        "outputId": "eb1ce988-85fb-4fe6-aaac-9739f586472a"
      },
      "execution_count": 69,
      "outputs": [
        {
          "output_type": "stream",
          "name": "stdout",
          "text": [
            "tensor([[1, 1, 1],\n",
            "        [1, 1, 1]], dtype=torch.int16)\n"
          ]
        }
      ]
    },
    {
      "cell_type": "code",
      "source": [
        "b = torch.rand((2,3), dtype = torch.float64)\n",
        "b"
      ],
      "metadata": {
        "colab": {
          "base_uri": "https://localhost:8080/"
        },
        "id": "btNqvv9DIOlo",
        "outputId": "f0b76e97-1cb9-4731-acdc-8053c05cafdf"
      },
      "execution_count": 70,
      "outputs": [
        {
          "output_type": "execute_result",
          "data": {
            "text/plain": [
              "tensor([[0.5835, 0.9164, 0.0106],\n",
              "        [0.9249, 0.4919, 0.1947]], dtype=torch.float64)"
            ]
          },
          "metadata": {},
          "execution_count": 70
        }
      ]
    },
    {
      "cell_type": "code",
      "source": [
        "c = b.to(torch.int16)\n",
        "c"
      ],
      "metadata": {
        "colab": {
          "base_uri": "https://localhost:8080/"
        },
        "id": "YR7MJVr_Ih9l",
        "outputId": "f6cfe0e0-effb-4b5f-9c60-c4bf32c46e64"
      },
      "execution_count": 71,
      "outputs": [
        {
          "output_type": "execute_result",
          "data": {
            "text/plain": [
              "tensor([[0, 0, 0],\n",
              "        [0, 0, 0]], dtype=torch.int16)"
            ]
          },
          "metadata": {},
          "execution_count": 71
        }
      ]
    },
    {
      "cell_type": "code",
      "source": [
        "ones = torch.zeros((2,2)) + 1\n",
        "ones"
      ],
      "metadata": {
        "colab": {
          "base_uri": "https://localhost:8080/"
        },
        "id": "nignr58XJxy_",
        "outputId": "371b1feb-afd9-4645-e983-af669534db5d"
      },
      "execution_count": 72,
      "outputs": [
        {
          "output_type": "execute_result",
          "data": {
            "text/plain": [
              "tensor([[1., 1.],\n",
              "        [1., 1.]])"
            ]
          },
          "metadata": {},
          "execution_count": 72
        }
      ]
    },
    {
      "cell_type": "code",
      "source": [
        "twos = torch.ones((2,2)) + 1\n",
        "twos"
      ],
      "metadata": {
        "colab": {
          "base_uri": "https://localhost:8080/"
        },
        "id": "MfskRbJRKh1C",
        "outputId": "8238c3dc-ba1f-414f-d34d-1fb589b6b367"
      },
      "execution_count": 73,
      "outputs": [
        {
          "output_type": "execute_result",
          "data": {
            "text/plain": [
              "tensor([[2., 2.],\n",
              "        [2., 2.]])"
            ]
          },
          "metadata": {},
          "execution_count": 73
        }
      ]
    },
    {
      "cell_type": "code",
      "source": [
        "(torch.ones(2,2) * 7 - 1) / 2"
      ],
      "metadata": {
        "colab": {
          "base_uri": "https://localhost:8080/"
        },
        "id": "XM4hVUvPKq9I",
        "outputId": "3d5cd7bb-6122-4d05-b946-9ce829ff1e34"
      },
      "execution_count": 74,
      "outputs": [
        {
          "output_type": "execute_result",
          "data": {
            "text/plain": [
              "tensor([[3., 3.],\n",
              "        [3., 3.]])"
            ]
          },
          "metadata": {},
          "execution_count": 74
        }
      ]
    },
    {
      "cell_type": "code",
      "source": [
        "fours = twos ** 2"
      ],
      "metadata": {
        "id": "YR20ZjEILG_p"
      },
      "execution_count": 75,
      "outputs": []
    },
    {
      "cell_type": "code",
      "source": [
        "twos ** 0.5"
      ],
      "metadata": {
        "colab": {
          "base_uri": "https://localhost:8080/"
        },
        "id": "ZF387vtjLb9A",
        "outputId": "93aba4bd-421a-43ed-c6bf-df7b72c989c6"
      },
      "execution_count": 76,
      "outputs": [
        {
          "output_type": "execute_result",
          "data": {
            "text/plain": [
              "tensor([[1.4142, 1.4142],\n",
              "        [1.4142, 1.4142]])"
            ]
          },
          "metadata": {},
          "execution_count": 76
        }
      ]
    },
    {
      "cell_type": "code",
      "source": [
        "power2 = twos ** torch.tensor([[1,2], [3,4]])"
      ],
      "metadata": {
        "id": "rMsY3ZGLLq2t"
      },
      "execution_count": 77,
      "outputs": []
    },
    {
      "cell_type": "code",
      "source": [
        "fives = ones + fours"
      ],
      "metadata": {
        "id": "erXs69SGMBma"
      },
      "execution_count": 78,
      "outputs": []
    },
    {
      "cell_type": "code",
      "source": [
        "rand = torch.rand(2,4)\n",
        "rand * (torch.ones(1,4) * 2)"
      ],
      "metadata": {
        "colab": {
          "base_uri": "https://localhost:8080/"
        },
        "id": "67pIoRAWMarh",
        "outputId": "1f1eb112-6f53-4d22-f81d-5f9a3b5b8cff"
      },
      "execution_count": 79,
      "outputs": [
        {
          "output_type": "execute_result",
          "data": {
            "text/plain": [
              "tensor([[0.9524, 0.1096, 0.4049, 1.1461],\n",
              "        [1.4382, 0.8134, 1.4602, 1.2551]])"
            ]
          },
          "metadata": {},
          "execution_count": 79
        }
      ]
    },
    {
      "cell_type": "code",
      "source": [
        "torch.ones(1,4).shape"
      ],
      "metadata": {
        "colab": {
          "base_uri": "https://localhost:8080/"
        },
        "id": "NAKXuTLxM9wf",
        "outputId": "8e139bdf-1ac2-42c3-f212-48921ddb43d7"
      },
      "execution_count": 80,
      "outputs": [
        {
          "output_type": "execute_result",
          "data": {
            "text/plain": [
              "torch.Size([1, 4])"
            ]
          },
          "metadata": {},
          "execution_count": 80
        }
      ]
    },
    {
      "cell_type": "code",
      "source": [
        "rand.shape"
      ],
      "metadata": {
        "colab": {
          "base_uri": "https://localhost:8080/"
        },
        "id": "POdA-pwQNfWy",
        "outputId": "da77facf-aa8e-4182-fcce-2dbf3be84a79"
      },
      "execution_count": 81,
      "outputs": [
        {
          "output_type": "execute_result",
          "data": {
            "text/plain": [
              "torch.Size([2, 4])"
            ]
          },
          "metadata": {},
          "execution_count": 81
        }
      ]
    },
    {
      "cell_type": "code",
      "source": [
        "a = torch.ones(4,3,2)\n",
        "a * torch.rand(1,1,2)"
      ],
      "metadata": {
        "colab": {
          "base_uri": "https://localhost:8080/"
        },
        "id": "4MaeyvP9Okj8",
        "outputId": "857861e1-2064-40da-bec3-a205590109e0"
      },
      "execution_count": 82,
      "outputs": [
        {
          "output_type": "execute_result",
          "data": {
            "text/plain": [
              "tensor([[[0.7357, 0.0381],\n",
              "         [0.7357, 0.0381],\n",
              "         [0.7357, 0.0381]],\n",
              "\n",
              "        [[0.7357, 0.0381],\n",
              "         [0.7357, 0.0381],\n",
              "         [0.7357, 0.0381]],\n",
              "\n",
              "        [[0.7357, 0.0381],\n",
              "         [0.7357, 0.0381],\n",
              "         [0.7357, 0.0381]],\n",
              "\n",
              "        [[0.7357, 0.0381],\n",
              "         [0.7357, 0.0381],\n",
              "         [0.7357, 0.0381]]])"
            ]
          },
          "metadata": {},
          "execution_count": 82
        }
      ]
    },
    {
      "cell_type": "code",
      "source": [
        "a = torch.rand(2,4)"
      ],
      "metadata": {
        "id": "456073wfPCf7"
      },
      "execution_count": 83,
      "outputs": []
    },
    {
      "cell_type": "code",
      "source": [
        "print(torch.abs(a))\n",
        "print(torch.ceil(a))\n",
        "print(torch.floor(a))\n",
        "print(torch.clamp(a, -0.5, 0.5))"
      ],
      "metadata": {
        "colab": {
          "base_uri": "https://localhost:8080/"
        },
        "id": "0FCVg7W6QW1p",
        "outputId": "48063ebb-3ca0-4550-8fc8-9ffc846a060e"
      },
      "execution_count": 84,
      "outputs": [
        {
          "output_type": "stream",
          "name": "stdout",
          "text": [
            "tensor([[0.2138, 0.5395, 0.3686, 0.4007],\n",
            "        [0.7220, 0.8217, 0.2612, 0.7375]])\n",
            "tensor([[1., 1., 1., 1.],\n",
            "        [1., 1., 1., 1.]])\n",
            "tensor([[0., 0., 0., 0.],\n",
            "        [0., 0., 0., 0.]])\n",
            "tensor([[0.2138, 0.5000, 0.3686, 0.4007],\n",
            "        [0.5000, 0.5000, 0.2612, 0.5000]])\n"
          ]
        }
      ]
    },
    {
      "cell_type": "code",
      "source": [
        "angles = torch.tensor([0, math.pi/4, math.pi/2, 3*math.pi/4])"
      ],
      "metadata": {
        "id": "neensd5BQXT1"
      },
      "execution_count": 85,
      "outputs": []
    },
    {
      "cell_type": "code",
      "source": [
        "print(angles)\n",
        "print(torch.sin(angles))\n",
        "print(torch.asin(angles))"
      ],
      "metadata": {
        "colab": {
          "base_uri": "https://localhost:8080/"
        },
        "id": "WHn_bf9CY-6z",
        "outputId": "aff95964-0fed-41c4-cb84-e7be5e7fd59b"
      },
      "execution_count": 86,
      "outputs": [
        {
          "output_type": "stream",
          "name": "stdout",
          "text": [
            "tensor([0.0000, 0.7854, 1.5708, 2.3562])\n",
            "tensor([0.0000, 0.7071, 1.0000, 0.7071])\n",
            "tensor([0.0000, 0.9033,    nan,    nan])\n"
          ]
        }
      ]
    },
    {
      "cell_type": "code",
      "source": [
        "a = torch.tensor([1,5,11])\n",
        "b = torch.tensor([2,7,10])\n",
        "torch.bitwise_xor(a, b)"
      ],
      "metadata": {
        "colab": {
          "base_uri": "https://localhost:8080/"
        },
        "id": "sqXo7OceZTsa",
        "outputId": "2ebeca3b-240a-4559-cd1a-8196434a3f4c"
      },
      "execution_count": 87,
      "outputs": [
        {
          "output_type": "execute_result",
          "data": {
            "text/plain": [
              "tensor([3, 2, 1])"
            ]
          },
          "metadata": {},
          "execution_count": 87
        }
      ]
    },
    {
      "cell_type": "code",
      "source": [
        "print(torch.eq(a, b))"
      ],
      "metadata": {
        "colab": {
          "base_uri": "https://localhost:8080/"
        },
        "id": "7UDdD0AUaOKn",
        "outputId": "86d41944-89e2-4907-f0e9-8a46a0547aef"
      },
      "execution_count": 88,
      "outputs": [
        {
          "output_type": "stream",
          "name": "stdout",
          "text": [
            "tensor([False, False, False])\n"
          ]
        }
      ]
    },
    {
      "cell_type": "code",
      "source": [
        "c = torch.tensor([[1,2], [3,4]], dtype=torch.float64)"
      ],
      "metadata": {
        "id": "gZUbGk8iaYZJ"
      },
      "execution_count": 89,
      "outputs": []
    },
    {
      "cell_type": "code",
      "source": [
        "print(torch.max(c))\n",
        "print(torch.max(c).item())\n",
        "print(torch.mean(c))\n",
        "print(torch.std(c))\n",
        "print(torch.prod(c))"
      ],
      "metadata": {
        "colab": {
          "base_uri": "https://localhost:8080/"
        },
        "id": "JWj-hMakan7w",
        "outputId": "25dd0eff-22d3-4a6d-8a47-363840593fe9"
      },
      "execution_count": 90,
      "outputs": [
        {
          "output_type": "stream",
          "name": "stdout",
          "text": [
            "tensor(4., dtype=torch.float64)\n",
            "4.0\n",
            "tensor(2.5000, dtype=torch.float64)\n",
            "tensor(1.2910, dtype=torch.float64)\n",
            "tensor(24., dtype=torch.float64)\n"
          ]
        }
      ]
    },
    {
      "cell_type": "code",
      "source": [
        "# vector and linear algebra operations\n",
        "v1 = torch.tensor([1., 0., 0.])\n",
        "v2 = torch.tensor([0., 1., 0.])\n",
        "m1 = torch.rand(2,2)\n",
        "m2 = torch.tensor([[3.,0.], [0.,3.]])"
      ],
      "metadata": {
        "id": "7l9TG-draoUU"
      },
      "execution_count": 91,
      "outputs": []
    },
    {
      "cell_type": "code",
      "source": [
        "print(torch.cross(v2, v1))\n",
        "print(torch.matmul(m1, m2))"
      ],
      "metadata": {
        "colab": {
          "base_uri": "https://localhost:8080/"
        },
        "id": "lWmk4RYGay6G",
        "outputId": "dc792242-0127-4736-e620-aecd714d6d69"
      },
      "execution_count": 92,
      "outputs": [
        {
          "output_type": "stream",
          "name": "stdout",
          "text": [
            "tensor([ 0.,  0., -1.])\n",
            "tensor([[2.4985, 2.5332],\n",
            "        [0.8822, 1.1364]])\n"
          ]
        }
      ]
    },
    {
      "cell_type": "code",
      "source": [
        "a[1]"
      ],
      "metadata": {
        "colab": {
          "base_uri": "https://localhost:8080/"
        },
        "id": "D6V6t4gafVzN",
        "outputId": "25bb0b02-89fb-4de8-eba8-785d5a1c7a06"
      },
      "execution_count": 93,
      "outputs": [
        {
          "output_type": "execute_result",
          "data": {
            "text/plain": [
              "tensor(5)"
            ]
          },
          "metadata": {},
          "execution_count": 93
        }
      ]
    },
    {
      "cell_type": "code",
      "source": [
        "a = torch.ones(2,2)\n",
        "b = a"
      ],
      "metadata": {
        "id": "orUFCKT8frvb"
      },
      "execution_count": 94,
      "outputs": []
    },
    {
      "cell_type": "code",
      "source": [
        "a[0][1] = 5"
      ],
      "metadata": {
        "id": "c-5iuYEE5gCc"
      },
      "execution_count": 95,
      "outputs": []
    },
    {
      "cell_type": "code",
      "source": [
        "b"
      ],
      "metadata": {
        "id": "z5NngALP5eMe",
        "outputId": "3aeaaa6b-4215-41bc-ed99-fa9a683cbf42",
        "colab": {
          "base_uri": "https://localhost:8080/"
        }
      },
      "execution_count": 96,
      "outputs": [
        {
          "output_type": "execute_result",
          "data": {
            "text/plain": [
              "tensor([[1., 5.],\n",
              "        [1., 1.]])"
            ]
          },
          "metadata": {},
          "execution_count": 96
        }
      ]
    },
    {
      "cell_type": "code",
      "source": [
        "a = torch.ones(2,2)\n",
        "b = a.clone()"
      ],
      "metadata": {
        "id": "zVPEhB995jMj"
      },
      "execution_count": 97,
      "outputs": []
    },
    {
      "cell_type": "code",
      "source": [
        "assert b is not a"
      ],
      "metadata": {
        "id": "j37agDX851dZ"
      },
      "execution_count": 98,
      "outputs": []
    },
    {
      "cell_type": "code",
      "source": [
        "a[0,1] = 4"
      ],
      "metadata": {
        "id": "HcyVOV7q53y1"
      },
      "execution_count": 99,
      "outputs": []
    },
    {
      "cell_type": "code",
      "source": [
        "a"
      ],
      "metadata": {
        "id": "rsINUVlS59qn",
        "outputId": "11a73fac-2602-42ff-cbd4-8e27c8a38920",
        "colab": {
          "base_uri": "https://localhost:8080/"
        }
      },
      "execution_count": 100,
      "outputs": [
        {
          "output_type": "execute_result",
          "data": {
            "text/plain": [
              "tensor([[1., 4.],\n",
              "        [1., 1.]])"
            ]
          },
          "metadata": {},
          "execution_count": 100
        }
      ]
    },
    {
      "cell_type": "code",
      "source": [
        "b"
      ],
      "metadata": {
        "id": "4Rthapxk5_of",
        "outputId": "cca7d041-37b6-4983-f863-5be380259bbb",
        "colab": {
          "base_uri": "https://localhost:8080/"
        }
      },
      "execution_count": 101,
      "outputs": [
        {
          "output_type": "execute_result",
          "data": {
            "text/plain": [
              "tensor([[1., 1.],\n",
              "        [1., 1.]])"
            ]
          },
          "metadata": {},
          "execution_count": 101
        }
      ]
    },
    {
      "cell_type": "code",
      "source": [
        "a = torch.rand(2, 2, requires_grad=True)\n",
        "print(a)\n",
        "\n",
        "b = a.clone()\n",
        "print(b)\n",
        "\n",
        "c = a.detach().clone()\n",
        "print(c)"
      ],
      "metadata": {
        "id": "CRngT4PT6A5p",
        "outputId": "5e820b3b-571d-4039-f647-25e0de78b9be",
        "colab": {
          "base_uri": "https://localhost:8080/"
        }
      },
      "execution_count": 102,
      "outputs": [
        {
          "output_type": "stream",
          "name": "stdout",
          "text": [
            "tensor([[0.4567, 0.0649],\n",
            "        [0.6677, 0.7826]], requires_grad=True)\n",
            "tensor([[0.4567, 0.0649],\n",
            "        [0.6677, 0.7826]], grad_fn=<CloneBackward0>)\n",
            "tensor([[0.4567, 0.0649],\n",
            "        [0.6677, 0.7826]])\n"
          ]
        }
      ]
    },
    {
      "cell_type": "code",
      "source": [
        "if torch.cuda.is_available():\n",
        "  gpu_rand = torch.rand(2,2, device=\"cuda\")\n",
        "  print(gpu_rand)\n",
        "else:\n",
        "  print(\"GPU is not available\")"
      ],
      "metadata": {
        "id": "3DOPGDjODQqS",
        "outputId": "04bd3d43-b308-4a46-f8b0-0e3f8e201759",
        "colab": {
          "base_uri": "https://localhost:8080/"
        }
      },
      "execution_count": 103,
      "outputs": [
        {
          "output_type": "stream",
          "name": "stdout",
          "text": [
            "GPU is not available\n"
          ]
        }
      ]
    },
    {
      "cell_type": "code",
      "source": [
        "if torch.cuda.is_available():\n",
        "  my_device = torch.device(\"cuda\")\n",
        "else:\n",
        "  my_device = torch.device(\"cpu\")\n",
        "\n",
        "x = torch.rand(2,2, device=my_device)\n",
        "print(x)"
      ],
      "metadata": {
        "id": "NKf9sfFhB7_v",
        "outputId": "8de6ec82-0f01-41ab-d76b-306f74053c46",
        "colab": {
          "base_uri": "https://localhost:8080/"
        }
      },
      "execution_count": 104,
      "outputs": [
        {
          "output_type": "stream",
          "name": "stdout",
          "text": [
            "tensor([[0.1332, 0.0023],\n",
            "        [0.4945, 0.3857]])\n"
          ]
        }
      ]
    },
    {
      "cell_type": "code",
      "source": [
        "torch.cuda.device_count()"
      ],
      "metadata": {
        "id": "somOakQwGO8_",
        "outputId": "03040d92-92bf-4abb-e776-98e7b615d2d3",
        "colab": {
          "base_uri": "https://localhost:8080/"
        }
      },
      "execution_count": 105,
      "outputs": [
        {
          "output_type": "execute_result",
          "data": {
            "text/plain": [
              "0"
            ]
          },
          "metadata": {},
          "execution_count": 105
        }
      ]
    },
    {
      "cell_type": "code",
      "source": [
        "x = torch.rand(2,2)\n",
        "# y = torch.rand(2,2,device= \"cuda\")\n"
      ],
      "metadata": {
        "id": "eqQICQH6GO_T"
      },
      "execution_count": 106,
      "outputs": []
    },
    {
      "cell_type": "code",
      "source": [
        "a = torch.rand(3,22,22)\n",
        "b = a.unsqueeze(0)\n",
        "print(a.shape)\n",
        "print(b.shape)"
      ],
      "metadata": {
        "id": "R2GKy4j-GJBA",
        "outputId": "59ef332d-ae35-4040-c2a1-3b66bc8cdedc",
        "colab": {
          "base_uri": "https://localhost:8080/"
        }
      },
      "execution_count": 111,
      "outputs": [
        {
          "output_type": "stream",
          "name": "stdout",
          "text": [
            "torch.Size([3, 22, 22])\n",
            "torch.Size([1, 3, 22, 22])\n"
          ]
        }
      ]
    },
    {
      "cell_type": "code",
      "source": [
        "a = torch.rand(1,20)\n",
        "print(a.shape)\n",
        "print(a)"
      ],
      "metadata": {
        "id": "ozF8S3tLJbVX",
        "outputId": "e3b6c45b-d62a-4bd4-f247-f5340c6df385",
        "colab": {
          "base_uri": "https://localhost:8080/"
        }
      },
      "execution_count": 120,
      "outputs": [
        {
          "output_type": "stream",
          "name": "stdout",
          "text": [
            "torch.Size([1, 20])\n",
            "tensor([[0.3559, 0.5349, 0.6105, 0.0903, 0.2810, 0.7065, 0.1023, 0.9444, 0.1310,\n",
            "         0.5688, 0.7254, 0.6714, 0.7146, 0.2126, 0.0874, 0.7276, 0.9114, 0.4551,\n",
            "         0.1802, 0.6767]])\n"
          ]
        }
      ]
    },
    {
      "cell_type": "code",
      "source": [
        "b = a.squeeze(0)\n",
        "print(b.shape)\n",
        "print(b)"
      ],
      "metadata": {
        "id": "zc829E6IKGlF",
        "outputId": "8105de2c-41c7-4f8e-f796-f0771718e328",
        "colab": {
          "base_uri": "https://localhost:8080/"
        }
      },
      "execution_count": 121,
      "outputs": [
        {
          "output_type": "stream",
          "name": "stdout",
          "text": [
            "torch.Size([20])\n",
            "tensor([0.3559, 0.5349, 0.6105, 0.0903, 0.2810, 0.7065, 0.1023, 0.9444, 0.1310,\n",
            "        0.5688, 0.7254, 0.6714, 0.7146, 0.2126, 0.0874, 0.7276, 0.9114, 0.4551,\n",
            "        0.1802, 0.6767])\n"
          ]
        }
      ]
    },
    {
      "cell_type": "code",
      "source": [
        "out3d = torch.rand(6,20,20)\n",
        "print(out3d.shape)"
      ],
      "metadata": {
        "id": "xusWkSEqKNes",
        "outputId": "7c6e2a79-3308-4260-d88e-e3592f283908",
        "colab": {
          "base_uri": "https://localhost:8080/"
        }
      },
      "execution_count": 123,
      "outputs": [
        {
          "output_type": "stream",
          "name": "stdout",
          "text": [
            "torch.Size([6, 20, 20])\n"
          ]
        }
      ]
    },
    {
      "cell_type": "code",
      "source": [
        "out1d = out3d.reshape(6*20*20,)\n",
        "print(out1d.shape)"
      ],
      "metadata": {
        "id": "fhRzYZw4MPZT",
        "outputId": "c0bccc13-0f82-43ba-bc6d-cba3014c6b76",
        "colab": {
          "base_uri": "https://localhost:8080/"
        }
      },
      "execution_count": 128,
      "outputs": [
        {
          "output_type": "stream",
          "name": "stdout",
          "text": [
            "torch.Size([2400])\n"
          ]
        }
      ]
    },
    {
      "cell_type": "code",
      "source": [
        "torch.reshape(out3d, (6*20*20,))"
      ],
      "metadata": {
        "id": "Z6hz4iINMYu2",
        "outputId": "230bbf86-f30e-49f5-ea6c-6e111f26b77a",
        "colab": {
          "base_uri": "https://localhost:8080/"
        }
      },
      "execution_count": 129,
      "outputs": [
        {
          "output_type": "execute_result",
          "data": {
            "text/plain": [
              "tensor([0.2152, 0.2835, 0.6836,  ..., 0.9107, 0.7800, 0.8701])"
            ]
          },
          "metadata": {},
          "execution_count": 129
        }
      ]
    },
    {
      "cell_type": "code",
      "source": [
        "import numpy as np\n",
        "array = np.ones((2,2))\n",
        "to_tensor = torch.from_numpy(array)\n",
        "print(to_tensor)"
      ],
      "metadata": {
        "id": "uDVjCG3SMmPF",
        "outputId": "33a99998-2567-4b87-af05-6c646d8d8ad0",
        "colab": {
          "base_uri": "https://localhost:8080/"
        }
      },
      "execution_count": 133,
      "outputs": [
        {
          "output_type": "stream",
          "name": "stdout",
          "text": [
            "tensor([[1., 1.],\n",
            "        [1., 1.]], dtype=torch.float64)\n"
          ]
        }
      ]
    },
    {
      "cell_type": "code",
      "source": [
        "a_tensor = torch.rand(2,3)\n",
        "to_array = a_tensor.numpy()\n",
        "print(type(to_array))"
      ],
      "metadata": {
        "id": "RWfJDCAkNAH7",
        "outputId": "a2882907-b795-4712-bc3e-50484a5c8218",
        "colab": {
          "base_uri": "https://localhost:8080/"
        }
      },
      "execution_count": 136,
      "outputs": [
        {
          "output_type": "stream",
          "name": "stdout",
          "text": [
            "<class 'numpy.ndarray'>\n"
          ]
        }
      ]
    },
    {
      "cell_type": "code",
      "source": [],
      "metadata": {
        "id": "9aESk-u0NhoP"
      },
      "execution_count": null,
      "outputs": []
    }
  ]
}