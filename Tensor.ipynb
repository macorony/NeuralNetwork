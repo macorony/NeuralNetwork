{
  "nbformat": 4,
  "nbformat_minor": 0,
  "metadata": {
    "colab": {
      "provenance": [],
      "authorship_tag": "ABX9TyOeosyXhtwCmzbv1pvGK1Zn",
      "include_colab_link": true
    },
    "kernelspec": {
      "name": "python3",
      "display_name": "Python 3"
    },
    "language_info": {
      "name": "python"
    }
  },
  "cells": [
    {
      "cell_type": "markdown",
      "metadata": {
        "id": "view-in-github",
        "colab_type": "text"
      },
      "source": [
        "<a href=\"https://colab.research.google.com/github/macorony/NeuralNetwork/blob/main/Tensor.ipynb\" target=\"_parent\"><img src=\"https://colab.research.google.com/assets/colab-badge.svg\" alt=\"Open In Colab\"/></a>"
      ]
    },
    {
      "cell_type": "code",
      "execution_count": 1,
      "metadata": {
        "id": "ZtcVILsn0qdG"
      },
      "outputs": [],
      "source": [
        "import torch\n",
        "import math"
      ]
    },
    {
      "cell_type": "code",
      "source": [
        "x = torch.empty(3,4)\n",
        "zeros = torch.zeros(2,3)\n",
        "print(zeros)\n",
        "ones = torch.ones(2,3)\n",
        "print(ones)\n",
        "\n",
        "torch.manual_seed(1729)\n",
        "random = torch.rand(2,3)\n",
        "print(random)"
      ],
      "metadata": {
        "colab": {
          "base_uri": "https://localhost:8080/"
        },
        "id": "1K3ZTacw1IeA",
        "outputId": "b55de722-9bad-4dfc-f0da-dca21133cc8e"
      },
      "execution_count": 2,
      "outputs": [
        {
          "output_type": "stream",
          "name": "stdout",
          "text": [
            "tensor([[0., 0., 0.],\n",
            "        [0., 0., 0.]])\n",
            "tensor([[1., 1., 1.],\n",
            "        [1., 1., 1.]])\n",
            "tensor([[0.3126, 0.3791, 0.3087],\n",
            "        [0.0736, 0.4216, 0.0691]])\n"
          ]
        }
      ]
    },
    {
      "cell_type": "code",
      "source": [
        "torch.manual_seed(1729)\n",
        "rand1 = torch.rand(2,3)\n",
        "print(rand1)\n",
        "\n",
        "rand2 = torch.rand(2,3)\n",
        "print(rand2)"
      ],
      "metadata": {
        "colab": {
          "base_uri": "https://localhost:8080/"
        },
        "id": "5S_x69dc3cKI",
        "outputId": "28e64536-d9c6-4b22-8942-9096b34da37c"
      },
      "execution_count": 3,
      "outputs": [
        {
          "output_type": "stream",
          "name": "stdout",
          "text": [
            "tensor([[0.3126, 0.3791, 0.3087],\n",
            "        [0.0736, 0.4216, 0.0691]])\n",
            "tensor([[0.2332, 0.4047, 0.2162],\n",
            "        [0.9927, 0.4128, 0.5938]])\n"
          ]
        }
      ]
    },
    {
      "cell_type": "code",
      "source": [
        "torch.manual_seed(1729)\n",
        "rand3 = torch.rand(2,3)\n",
        "print(rand3)\n",
        "\n",
        "rand4 = torch.rand(2,3)\n",
        "print(rand4)"
      ],
      "metadata": {
        "colab": {
          "base_uri": "https://localhost:8080/"
        },
        "id": "UrIxI9Df08tu",
        "outputId": "b3967bcd-1f87-4919-ec1a-2b05d3d62d96"
      },
      "execution_count": 4,
      "outputs": [
        {
          "output_type": "stream",
          "name": "stdout",
          "text": [
            "tensor([[0.3126, 0.3791, 0.3087],\n",
            "        [0.0736, 0.4216, 0.0691]])\n",
            "tensor([[0.2332, 0.4047, 0.2162],\n",
            "        [0.9927, 0.4128, 0.5938]])\n"
          ]
        }
      ]
    },
    {
      "cell_type": "code",
      "source": [
        "x = torch.empty(2,2,2,2,2,2)\n",
        "print(x.shape)\n",
        "print(x)"
      ],
      "metadata": {
        "colab": {
          "base_uri": "https://localhost:8080/"
        },
        "id": "m566bwd64ZrO",
        "outputId": "e0e9200b-6b5a-434e-c75e-1a4aaa4cd5b4"
      },
      "execution_count": 5,
      "outputs": [
        {
          "output_type": "stream",
          "name": "stdout",
          "text": [
            "torch.Size([2, 2, 2, 2, 2, 2])\n",
            "tensor([[[[[[ 1.0570e+21,  1.7265e-07],\n",
            "            [ 2.1707e-18,  4.5447e+30]],\n",
            "\n",
            "           [[ 7.0062e+22,  2.1715e-18],\n",
            "            [ 4.5447e+30,  7.0062e+22]]],\n",
            "\n",
            "\n",
            "          [[[ 2.1707e-18,  1.9284e+31],\n",
            "            [ 3.2314e-18,  3.8654e-05]],\n",
            "\n",
            "           [[ 3.2874e+21,  1.2859e-11],\n",
            "            [ 1.0563e-05,  1.3149e+22]]]],\n",
            "\n",
            "\n",
            "\n",
            "         [[[[ 3.3975e+21,  6.3078e-10],\n",
            "            [ 4.2315e+21,  3.3644e+21]],\n",
            "\n",
            "           [[ 2.3881e-18,  3.1360e+27],\n",
            "            [ 7.0800e+31,  3.1095e-18]]],\n",
            "\n",
            "\n",
            "          [[[ 4.7851e+22,  2.8826e+32],\n",
            "            [ 4.4248e+30,  7.2442e+22]],\n",
            "\n",
            "           [[ 2.3086e-12,  7.2646e+22],\n",
            "            [ 7.2250e+28,  1.5766e-19]]]]],\n",
            "\n",
            "\n",
            "\n",
            "\n",
            "        [[[[[ 6.3376e-10,  2.1707e-18],\n",
            "            [ 7.2128e+22,  2.1715e-18]],\n",
            "\n",
            "           [[ 1.6595e-07,  1.0527e-11],\n",
            "            [ 7.7201e-10,  4.3208e-05]]],\n",
            "\n",
            "\n",
            "          [[[ 4.2111e-11,  4.2422e-08],\n",
            "            [ 2.9573e-18,  4.3941e-41]],\n",
            "\n",
            "           [[ 1.4013e-45,  0.0000e+00],\n",
            "            [ 1.5835e-43,  0.0000e+00]]]],\n",
            "\n",
            "\n",
            "\n",
            "         [[[[-3.3103e+28,  4.3810e-41],\n",
            "            [-2.9348e+07,  3.1906e-41]],\n",
            "\n",
            "           [[ 0.0000e+00,  0.0000e+00],\n",
            "            [ 0.0000e+00,  0.0000e+00]]],\n",
            "\n",
            "\n",
            "          [[[ 1.4013e-45,  0.0000e+00],\n",
            "            [ 0.0000e+00,  0.0000e+00]],\n",
            "\n",
            "           [[ 0.0000e+00,  0.0000e+00],\n",
            "            [ 0.0000e+00,  0.0000e+00]]]]]])\n"
          ]
        }
      ]
    },
    {
      "cell_type": "code",
      "source": [
        "a = torch.tensor([\n",
        "    [1,1],\n",
        "    [1,1]\n",
        "    ])\n",
        "print(a)\n",
        "\n",
        "b = torch.tensor((2,2,2,4))\n",
        "print(b)\n",
        "\n",
        "c = torch.tensor(((1,2), [3,4]))\n",
        "print(c)"
      ],
      "metadata": {
        "colab": {
          "base_uri": "https://localhost:8080/"
        },
        "id": "AU9z1idFEGWY",
        "outputId": "b33705e8-ee2e-4fec-d44c-d366958c328a"
      },
      "execution_count": 6,
      "outputs": [
        {
          "output_type": "stream",
          "name": "stdout",
          "text": [
            "tensor([[1, 1],\n",
            "        [1, 1]])\n",
            "tensor([2, 2, 2, 4])\n",
            "tensor([[1, 2],\n",
            "        [3, 4]])\n"
          ]
        }
      ]
    },
    {
      "cell_type": "code",
      "source": [
        "d = torch.ones((2,3))\n",
        "print(d.shape)"
      ],
      "metadata": {
        "colab": {
          "base_uri": "https://localhost:8080/"
        },
        "id": "4a1yEybwGDI6",
        "outputId": "3ba6cba8-f7e7-49f8-ba67-10d71fc3449b"
      },
      "execution_count": 7,
      "outputs": [
        {
          "output_type": "stream",
          "name": "stdout",
          "text": [
            "torch.Size([2, 3])\n"
          ]
        }
      ]
    },
    {
      "cell_type": "code",
      "source": [
        "torch.tensor((2,3)).shape"
      ],
      "metadata": {
        "colab": {
          "base_uri": "https://localhost:8080/"
        },
        "id": "0xE0kqlz5bbd",
        "outputId": "b49511f7-8c0f-4ced-a9f7-9e13c5edbb3f"
      },
      "execution_count": 8,
      "outputs": [
        {
          "output_type": "execute_result",
          "data": {
            "text/plain": [
              "torch.Size([2])"
            ]
          },
          "metadata": {},
          "execution_count": 8
        }
      ]
    },
    {
      "cell_type": "code",
      "source": [
        "torch.rand(2,3)"
      ],
      "metadata": {
        "colab": {
          "base_uri": "https://localhost:8080/"
        },
        "id": "k8YjDKmuEwV6",
        "outputId": "3c3955cc-497f-4ec9-ca29-0afce9aa9245"
      },
      "execution_count": 9,
      "outputs": [
        {
          "output_type": "execute_result",
          "data": {
            "text/plain": [
              "tensor([[0.6128, 0.1519, 0.0453],\n",
              "        [0.5035, 0.9978, 0.3884]])"
            ]
          },
          "metadata": {},
          "execution_count": 9
        }
      ]
    },
    {
      "cell_type": "code",
      "source": [
        "x = torch.empty(2,2,4)\n",
        "x"
      ],
      "metadata": {
        "colab": {
          "base_uri": "https://localhost:8080/"
        },
        "id": "_uFXVNH_HH56",
        "outputId": "53b6339c-8c7f-4248-c749-bfcdb066b294"
      },
      "execution_count": 10,
      "outputs": [
        {
          "output_type": "execute_result",
          "data": {
            "text/plain": [
              "tensor([[[ 0.0000e+00,  0.0000e+00, -1.5497e+08,  3.1906e-41],\n",
              "         [-2.4918e+07,  3.1906e-41, -3.6257e-12,  4.3810e-41]],\n",
              "\n",
              "        [[ 1.4013e-45,  0.0000e+00,  8.4078e-45,  0.0000e+00],\n",
              "         [ 0.0000e+00,  0.0000e+00,  0.0000e+00,  0.0000e+00]]])"
            ]
          },
          "metadata": {},
          "execution_count": 10
        }
      ]
    },
    {
      "cell_type": "code",
      "source": [
        "torch.empty_like(x)"
      ],
      "metadata": {
        "colab": {
          "base_uri": "https://localhost:8080/"
        },
        "id": "pEuL-Oc-HtRZ",
        "outputId": "3d432c93-c95d-4982-f8c8-cc17f1180bc9"
      },
      "execution_count": 11,
      "outputs": [
        {
          "output_type": "execute_result",
          "data": {
            "text/plain": [
              "tensor([[[0.0000e+00, 0.0000e+00, 0.0000e+00, 0.0000e+00],\n",
              "         [0.0000e+00, 0.0000e+00, 0.0000e+00, 0.0000e+00]],\n",
              "\n",
              "        [[1.4013e-45, 0.0000e+00, 0.0000e+00, 0.0000e+00],\n",
              "         [0.0000e+00, 0.0000e+00, 0.0000e+00, 0.0000e+00]]])"
            ]
          },
          "metadata": {},
          "execution_count": 11
        }
      ]
    },
    {
      "cell_type": "code",
      "source": [
        "torch.zeros_like(x)"
      ],
      "metadata": {
        "colab": {
          "base_uri": "https://localhost:8080/"
        },
        "id": "2NPpa6UHHz5n",
        "outputId": "343cfc93-79f4-4c58-df09-de4a3e796fef"
      },
      "execution_count": 12,
      "outputs": [
        {
          "output_type": "execute_result",
          "data": {
            "text/plain": [
              "tensor([[[0., 0., 0., 0.],\n",
              "         [0., 0., 0., 0.]],\n",
              "\n",
              "        [[0., 0., 0., 0.],\n",
              "         [0., 0., 0., 0.]]])"
            ]
          },
          "metadata": {},
          "execution_count": 12
        }
      ]
    },
    {
      "cell_type": "code",
      "source": [
        "torch.ones_like(x)"
      ],
      "metadata": {
        "colab": {
          "base_uri": "https://localhost:8080/"
        },
        "id": "LboEWvqXH4QG",
        "outputId": "75688a55-6c63-4392-8c85-6ed8a5380e9a"
      },
      "execution_count": 13,
      "outputs": [
        {
          "output_type": "execute_result",
          "data": {
            "text/plain": [
              "tensor([[[1., 1., 1., 1.],\n",
              "         [1., 1., 1., 1.]],\n",
              "\n",
              "        [[1., 1., 1., 1.],\n",
              "         [1., 1., 1., 1.]]])"
            ]
          },
          "metadata": {},
          "execution_count": 13
        }
      ]
    },
    {
      "cell_type": "code",
      "source": [
        "torch.rand_like(x)"
      ],
      "metadata": {
        "colab": {
          "base_uri": "https://localhost:8080/"
        },
        "id": "wuzI-cjJH8HD",
        "outputId": "02362ded-f7cd-4410-bef2-622d151fac45"
      },
      "execution_count": 14,
      "outputs": [
        {
          "output_type": "execute_result",
          "data": {
            "text/plain": [
              "tensor([[[0.6929, 0.1703, 0.1384, 0.4759],\n",
              "         [0.7481, 0.0361, 0.5062, 0.8469]],\n",
              "\n",
              "        [[0.2588, 0.2707, 0.4115, 0.6839],\n",
              "         [0.0703, 0.5105, 0.9451, 0.2359]]])"
            ]
          },
          "metadata": {},
          "execution_count": 14
        }
      ]
    },
    {
      "cell_type": "code",
      "source": [
        "a = torch.ones((2,3), dtype = torch.int16)\n",
        "print(a)"
      ],
      "metadata": {
        "colab": {
          "base_uri": "https://localhost:8080/"
        },
        "id": "tuTYNj1KH-KD",
        "outputId": "dd4668a6-86a6-4ea6-bf4c-82e9c997c882"
      },
      "execution_count": 15,
      "outputs": [
        {
          "output_type": "stream",
          "name": "stdout",
          "text": [
            "tensor([[1, 1, 1],\n",
            "        [1, 1, 1]], dtype=torch.int16)\n"
          ]
        }
      ]
    },
    {
      "cell_type": "code",
      "source": [
        "b = torch.rand((2,3), dtype = torch.float64)\n",
        "b"
      ],
      "metadata": {
        "colab": {
          "base_uri": "https://localhost:8080/"
        },
        "id": "btNqvv9DIOlo",
        "outputId": "6b82c80a-6af8-4dff-cefb-8f0f1dc462ef"
      },
      "execution_count": 16,
      "outputs": [
        {
          "output_type": "execute_result",
          "data": {
            "text/plain": [
              "tensor([[0.5835, 0.9164, 0.0106],\n",
              "        [0.9249, 0.4919, 0.1947]], dtype=torch.float64)"
            ]
          },
          "metadata": {},
          "execution_count": 16
        }
      ]
    },
    {
      "cell_type": "code",
      "source": [
        "c = b.to(torch.int16)\n",
        "c"
      ],
      "metadata": {
        "colab": {
          "base_uri": "https://localhost:8080/"
        },
        "id": "YR7MJVr_Ih9l",
        "outputId": "18f0f8ab-2ad6-4ad3-9f6f-c33acb034a05"
      },
      "execution_count": 17,
      "outputs": [
        {
          "output_type": "execute_result",
          "data": {
            "text/plain": [
              "tensor([[0, 0, 0],\n",
              "        [0, 0, 0]], dtype=torch.int16)"
            ]
          },
          "metadata": {},
          "execution_count": 17
        }
      ]
    },
    {
      "cell_type": "code",
      "source": [
        "ones = torch.zeros((2,2)) + 1\n",
        "ones"
      ],
      "metadata": {
        "colab": {
          "base_uri": "https://localhost:8080/"
        },
        "id": "nignr58XJxy_",
        "outputId": "20d189dd-a5f0-4191-b0d1-b012444bebb9"
      },
      "execution_count": 18,
      "outputs": [
        {
          "output_type": "execute_result",
          "data": {
            "text/plain": [
              "tensor([[1., 1.],\n",
              "        [1., 1.]])"
            ]
          },
          "metadata": {},
          "execution_count": 18
        }
      ]
    },
    {
      "cell_type": "code",
      "source": [
        "twos = torch.ones((2,2)) + 1\n",
        "twos"
      ],
      "metadata": {
        "colab": {
          "base_uri": "https://localhost:8080/"
        },
        "id": "MfskRbJRKh1C",
        "outputId": "2f3f0d3a-3ea7-4959-9784-87e910edbaa7"
      },
      "execution_count": 19,
      "outputs": [
        {
          "output_type": "execute_result",
          "data": {
            "text/plain": [
              "tensor([[2., 2.],\n",
              "        [2., 2.]])"
            ]
          },
          "metadata": {},
          "execution_count": 19
        }
      ]
    },
    {
      "cell_type": "code",
      "source": [
        "(torch.ones(2,2) * 7 - 1) / 2"
      ],
      "metadata": {
        "colab": {
          "base_uri": "https://localhost:8080/"
        },
        "id": "XM4hVUvPKq9I",
        "outputId": "8e85d7a8-1304-431a-fd11-8afd68b907a4"
      },
      "execution_count": 20,
      "outputs": [
        {
          "output_type": "execute_result",
          "data": {
            "text/plain": [
              "tensor([[3., 3.],\n",
              "        [3., 3.]])"
            ]
          },
          "metadata": {},
          "execution_count": 20
        }
      ]
    },
    {
      "cell_type": "code",
      "source": [
        "fours = twos ** 2"
      ],
      "metadata": {
        "id": "YR20ZjEILG_p"
      },
      "execution_count": 21,
      "outputs": []
    },
    {
      "cell_type": "code",
      "source": [
        "twos ** 0.5"
      ],
      "metadata": {
        "colab": {
          "base_uri": "https://localhost:8080/"
        },
        "id": "ZF387vtjLb9A",
        "outputId": "0cebb985-31ca-4e18-fe03-2150a71cadfd"
      },
      "execution_count": 22,
      "outputs": [
        {
          "output_type": "execute_result",
          "data": {
            "text/plain": [
              "tensor([[1.4142, 1.4142],\n",
              "        [1.4142, 1.4142]])"
            ]
          },
          "metadata": {},
          "execution_count": 22
        }
      ]
    },
    {
      "cell_type": "code",
      "source": [
        "power2 = twos ** torch.tensor([[1,2], [3,4]])"
      ],
      "metadata": {
        "id": "rMsY3ZGLLq2t"
      },
      "execution_count": 23,
      "outputs": []
    },
    {
      "cell_type": "code",
      "source": [
        "fives = ones + fours"
      ],
      "metadata": {
        "id": "erXs69SGMBma"
      },
      "execution_count": 24,
      "outputs": []
    },
    {
      "cell_type": "code",
      "source": [
        "rand = torch.rand(2,4)\n",
        "rand * (torch.ones(1,4) * 2)"
      ],
      "metadata": {
        "colab": {
          "base_uri": "https://localhost:8080/"
        },
        "id": "67pIoRAWMarh",
        "outputId": "dbae4bd4-33e1-4179-e587-cc4f547a5a65"
      },
      "execution_count": 25,
      "outputs": [
        {
          "output_type": "execute_result",
          "data": {
            "text/plain": [
              "tensor([[0.9524, 0.1096, 0.4049, 1.1461],\n",
              "        [1.4382, 0.8134, 1.4602, 1.2551]])"
            ]
          },
          "metadata": {},
          "execution_count": 25
        }
      ]
    },
    {
      "cell_type": "code",
      "source": [
        "torch.ones(1,4).shape"
      ],
      "metadata": {
        "colab": {
          "base_uri": "https://localhost:8080/"
        },
        "id": "NAKXuTLxM9wf",
        "outputId": "db917c1a-9058-4a8f-a4c2-7af75448e4c5"
      },
      "execution_count": 26,
      "outputs": [
        {
          "output_type": "execute_result",
          "data": {
            "text/plain": [
              "torch.Size([1, 4])"
            ]
          },
          "metadata": {},
          "execution_count": 26
        }
      ]
    },
    {
      "cell_type": "code",
      "source": [
        "rand.shape"
      ],
      "metadata": {
        "colab": {
          "base_uri": "https://localhost:8080/"
        },
        "id": "POdA-pwQNfWy",
        "outputId": "7283606c-cb8a-488f-9ce8-731e18465d5b"
      },
      "execution_count": 27,
      "outputs": [
        {
          "output_type": "execute_result",
          "data": {
            "text/plain": [
              "torch.Size([2, 4])"
            ]
          },
          "metadata": {},
          "execution_count": 27
        }
      ]
    },
    {
      "cell_type": "code",
      "source": [
        "a = torch.ones(4,3,2)\n",
        "a * torch.rand(1,1,2)"
      ],
      "metadata": {
        "colab": {
          "base_uri": "https://localhost:8080/"
        },
        "id": "4MaeyvP9Okj8",
        "outputId": "078b1b13-a192-47fc-e896-3171310a564d"
      },
      "execution_count": 28,
      "outputs": [
        {
          "output_type": "execute_result",
          "data": {
            "text/plain": [
              "tensor([[[0.7357, 0.0381],\n",
              "         [0.7357, 0.0381],\n",
              "         [0.7357, 0.0381]],\n",
              "\n",
              "        [[0.7357, 0.0381],\n",
              "         [0.7357, 0.0381],\n",
              "         [0.7357, 0.0381]],\n",
              "\n",
              "        [[0.7357, 0.0381],\n",
              "         [0.7357, 0.0381],\n",
              "         [0.7357, 0.0381]],\n",
              "\n",
              "        [[0.7357, 0.0381],\n",
              "         [0.7357, 0.0381],\n",
              "         [0.7357, 0.0381]]])"
            ]
          },
          "metadata": {},
          "execution_count": 28
        }
      ]
    },
    {
      "cell_type": "code",
      "source": [
        "a = torch.rand(2,4)"
      ],
      "metadata": {
        "id": "456073wfPCf7"
      },
      "execution_count": 29,
      "outputs": []
    },
    {
      "cell_type": "code",
      "source": [
        "print(torch.abs(a))\n",
        "print(torch.ceil(a))\n",
        "print(torch.floor(a))\n",
        "print(torch.clamp(a, -0.5, 0.5))"
      ],
      "metadata": {
        "colab": {
          "base_uri": "https://localhost:8080/"
        },
        "id": "0FCVg7W6QW1p",
        "outputId": "c4b5f6ee-3d6d-4c41-fb67-8e417c46a7e4"
      },
      "execution_count": 30,
      "outputs": [
        {
          "output_type": "stream",
          "name": "stdout",
          "text": [
            "tensor([[0.2138, 0.5395, 0.3686, 0.4007],\n",
            "        [0.7220, 0.8217, 0.2612, 0.7375]])\n",
            "tensor([[1., 1., 1., 1.],\n",
            "        [1., 1., 1., 1.]])\n",
            "tensor([[0., 0., 0., 0.],\n",
            "        [0., 0., 0., 0.]])\n",
            "tensor([[0.2138, 0.5000, 0.3686, 0.4007],\n",
            "        [0.5000, 0.5000, 0.2612, 0.5000]])\n"
          ]
        }
      ]
    },
    {
      "cell_type": "code",
      "source": [
        "angles = torch.tensor([0, math.pi/4, math.pi/2, 3*math.pi/4])"
      ],
      "metadata": {
        "id": "neensd5BQXT1"
      },
      "execution_count": 31,
      "outputs": []
    },
    {
      "cell_type": "code",
      "source": [
        "print(angles)\n",
        "print(torch.sin(angles))\n",
        "print(torch.asin(angles))"
      ],
      "metadata": {
        "colab": {
          "base_uri": "https://localhost:8080/"
        },
        "id": "WHn_bf9CY-6z",
        "outputId": "52720b1a-cca3-48b5-edd0-0c6a653b9cdf"
      },
      "execution_count": 32,
      "outputs": [
        {
          "output_type": "stream",
          "name": "stdout",
          "text": [
            "tensor([0.0000, 0.7854, 1.5708, 2.3562])\n",
            "tensor([0.0000, 0.7071, 1.0000, 0.7071])\n",
            "tensor([0.0000, 0.9033,    nan,    nan])\n"
          ]
        }
      ]
    },
    {
      "cell_type": "code",
      "source": [
        "a = torch.tensor([1,5,11])\n",
        "b = torch.tensor([2,7,10])\n",
        "torch.bitwise_xor(a, b)"
      ],
      "metadata": {
        "colab": {
          "base_uri": "https://localhost:8080/"
        },
        "id": "sqXo7OceZTsa",
        "outputId": "11b7fc73-7568-4a97-c4b1-b61c835b62a7"
      },
      "execution_count": 33,
      "outputs": [
        {
          "output_type": "execute_result",
          "data": {
            "text/plain": [
              "tensor([3, 2, 1])"
            ]
          },
          "metadata": {},
          "execution_count": 33
        }
      ]
    },
    {
      "cell_type": "code",
      "source": [
        "print(torch.eq(a, b))"
      ],
      "metadata": {
        "colab": {
          "base_uri": "https://localhost:8080/"
        },
        "id": "7UDdD0AUaOKn",
        "outputId": "4d772753-b859-4be0-8ebd-c1108fdb84a7"
      },
      "execution_count": 34,
      "outputs": [
        {
          "output_type": "stream",
          "name": "stdout",
          "text": [
            "tensor([False, False, False])\n"
          ]
        }
      ]
    },
    {
      "cell_type": "code",
      "source": [
        "c = torch.tensor([[1,2], [3,4]], dtype=torch.float64)"
      ],
      "metadata": {
        "id": "gZUbGk8iaYZJ"
      },
      "execution_count": 35,
      "outputs": []
    },
    {
      "cell_type": "code",
      "source": [
        "print(torch.max(c))\n",
        "print(torch.max(c).item())\n",
        "print(torch.mean(c))\n",
        "print(torch.std(c))\n",
        "print(torch.prod(c))"
      ],
      "metadata": {
        "colab": {
          "base_uri": "https://localhost:8080/"
        },
        "id": "JWj-hMakan7w",
        "outputId": "2b3b6b80-b336-4d8d-fb02-964d9d4a5a75"
      },
      "execution_count": 36,
      "outputs": [
        {
          "output_type": "stream",
          "name": "stdout",
          "text": [
            "tensor(4., dtype=torch.float64)\n",
            "4.0\n",
            "tensor(2.5000, dtype=torch.float64)\n",
            "tensor(1.2910, dtype=torch.float64)\n",
            "tensor(24., dtype=torch.float64)\n"
          ]
        }
      ]
    },
    {
      "cell_type": "code",
      "source": [
        "# vector and linear algebra operations\n",
        "v1 = torch.tensor([1., 0., 0.])\n",
        "v2 = torch.tensor([0., 1., 0.])\n",
        "m1 = torch.rand(2,2)\n",
        "m2 = torch.tensor([[3.,0.], [0.,3.]])"
      ],
      "metadata": {
        "id": "7l9TG-draoUU"
      },
      "execution_count": 37,
      "outputs": []
    },
    {
      "cell_type": "code",
      "source": [
        "print(torch.cross(v2, v1))\n",
        "print(torch.matmul(m1, m2))"
      ],
      "metadata": {
        "colab": {
          "base_uri": "https://localhost:8080/"
        },
        "id": "lWmk4RYGay6G",
        "outputId": "bf7f04b8-7e72-48c4-b2d1-d4956951bbcd"
      },
      "execution_count": 38,
      "outputs": [
        {
          "output_type": "stream",
          "name": "stdout",
          "text": [
            "tensor([ 0.,  0., -1.])\n",
            "tensor([[2.4985, 2.5332],\n",
            "        [0.8822, 1.1364]])\n"
          ]
        },
        {
          "output_type": "stream",
          "name": "stderr",
          "text": [
            "<ipython-input-38-a286491a2eb3>:1: UserWarning: Using torch.cross without specifying the dim arg is deprecated.\n",
            "Please either pass the dim explicitly or simply use torch.linalg.cross.\n",
            "The default value of dim will change to agree with that of linalg.cross in a future release. (Triggered internally at ../aten/src/ATen/native/Cross.cpp:62.)\n",
            "  print(torch.cross(v2, v1))\n"
          ]
        }
      ]
    },
    {
      "cell_type": "code",
      "source": [
        "a[1]"
      ],
      "metadata": {
        "colab": {
          "base_uri": "https://localhost:8080/"
        },
        "id": "D6V6t4gafVzN",
        "outputId": "69827aaa-bea7-4005-bac3-abb785060c68"
      },
      "execution_count": 39,
      "outputs": [
        {
          "output_type": "execute_result",
          "data": {
            "text/plain": [
              "tensor(5)"
            ]
          },
          "metadata": {},
          "execution_count": 39
        }
      ]
    },
    {
      "cell_type": "code",
      "source": [
        "a = torch.ones(2,2)\n",
        "b = a"
      ],
      "metadata": {
        "id": "orUFCKT8frvb"
      },
      "execution_count": 40,
      "outputs": []
    },
    {
      "cell_type": "code",
      "source": [
        "a[0][1] = 5"
      ],
      "metadata": {
        "id": "c-5iuYEE5gCc"
      },
      "execution_count": 41,
      "outputs": []
    },
    {
      "cell_type": "code",
      "source": [
        "b"
      ],
      "metadata": {
        "id": "z5NngALP5eMe",
        "outputId": "7886e9dd-8c71-4679-a764-7613b323a7f2",
        "colab": {
          "base_uri": "https://localhost:8080/"
        }
      },
      "execution_count": 42,
      "outputs": [
        {
          "output_type": "execute_result",
          "data": {
            "text/plain": [
              "tensor([[1., 5.],\n",
              "        [1., 1.]])"
            ]
          },
          "metadata": {},
          "execution_count": 42
        }
      ]
    },
    {
      "cell_type": "code",
      "source": [
        "a = torch.ones(2,2)\n",
        "b = a.clone()"
      ],
      "metadata": {
        "id": "zVPEhB995jMj"
      },
      "execution_count": 43,
      "outputs": []
    },
    {
      "cell_type": "code",
      "source": [
        "assert b is not a"
      ],
      "metadata": {
        "id": "j37agDX851dZ"
      },
      "execution_count": 44,
      "outputs": []
    },
    {
      "cell_type": "code",
      "source": [
        "a[0,1] = 4"
      ],
      "metadata": {
        "id": "HcyVOV7q53y1"
      },
      "execution_count": 45,
      "outputs": []
    },
    {
      "cell_type": "code",
      "source": [
        "a"
      ],
      "metadata": {
        "id": "rsINUVlS59qn",
        "outputId": "a6f39b0d-45be-41a2-a4bf-dc2ba6a73bf7",
        "colab": {
          "base_uri": "https://localhost:8080/"
        }
      },
      "execution_count": 46,
      "outputs": [
        {
          "output_type": "execute_result",
          "data": {
            "text/plain": [
              "tensor([[1., 4.],\n",
              "        [1., 1.]])"
            ]
          },
          "metadata": {},
          "execution_count": 46
        }
      ]
    },
    {
      "cell_type": "code",
      "source": [
        "b"
      ],
      "metadata": {
        "id": "4Rthapxk5_of",
        "outputId": "ff87b038-e676-44b3-b0fb-91a153b6110f",
        "colab": {
          "base_uri": "https://localhost:8080/"
        }
      },
      "execution_count": 47,
      "outputs": [
        {
          "output_type": "execute_result",
          "data": {
            "text/plain": [
              "tensor([[1., 1.],\n",
              "        [1., 1.]])"
            ]
          },
          "metadata": {},
          "execution_count": 47
        }
      ]
    },
    {
      "cell_type": "code",
      "source": [
        "a = torch.rand(2, 2, requires_grad=True)\n",
        "print(a)\n",
        "\n",
        "b = a.clone()\n",
        "print(b)\n",
        "\n",
        "c = a.detach().clone()\n",
        "print(c)"
      ],
      "metadata": {
        "id": "CRngT4PT6A5p",
        "outputId": "9830a110-e475-4c74-b4f2-7d1fad8d1c33",
        "colab": {
          "base_uri": "https://localhost:8080/"
        }
      },
      "execution_count": 48,
      "outputs": [
        {
          "output_type": "stream",
          "name": "stdout",
          "text": [
            "tensor([[0.4567, 0.0649],\n",
            "        [0.6677, 0.7826]], requires_grad=True)\n",
            "tensor([[0.4567, 0.0649],\n",
            "        [0.6677, 0.7826]], grad_fn=<CloneBackward0>)\n",
            "tensor([[0.4567, 0.0649],\n",
            "        [0.6677, 0.7826]])\n"
          ]
        }
      ]
    },
    {
      "cell_type": "code",
      "source": [
        "if torch.cuda.is_available():\n",
        "  gpu_rand = torch.rand(2,2, device=\"cuda\")\n",
        "  print(gpu_rand)\n",
        "else:\n",
        "  print(\"GPU is not available\")"
      ],
      "metadata": {
        "id": "3DOPGDjODQqS",
        "outputId": "d146fe86-37dc-40b6-9b77-cd06db090aee",
        "colab": {
          "base_uri": "https://localhost:8080/"
        }
      },
      "execution_count": 49,
      "outputs": [
        {
          "output_type": "stream",
          "name": "stdout",
          "text": [
            "GPU is not available\n"
          ]
        }
      ]
    },
    {
      "cell_type": "code",
      "source": [
        "if torch.cuda.is_available():\n",
        "  my_device = torch.device(\"cuda\")\n",
        "else:\n",
        "  my_device = torch.device(\"cpu\")\n",
        "\n",
        "x = torch.rand(2,2, device=my_device)\n",
        "print(x)"
      ],
      "metadata": {
        "id": "NKf9sfFhB7_v",
        "outputId": "a288d0e4-8bb2-4674-f3e2-7a8906fdf3c4",
        "colab": {
          "base_uri": "https://localhost:8080/"
        }
      },
      "execution_count": 50,
      "outputs": [
        {
          "output_type": "stream",
          "name": "stdout",
          "text": [
            "tensor([[0.1332, 0.0023],\n",
            "        [0.4945, 0.3857]])\n"
          ]
        }
      ]
    },
    {
      "cell_type": "code",
      "source": [
        "torch.cuda.device_count()"
      ],
      "metadata": {
        "id": "somOakQwGO8_",
        "outputId": "c82ad39c-d541-40cb-e8e8-01760f6e8a3e",
        "colab": {
          "base_uri": "https://localhost:8080/"
        }
      },
      "execution_count": 51,
      "outputs": [
        {
          "output_type": "execute_result",
          "data": {
            "text/plain": [
              "0"
            ]
          },
          "metadata": {},
          "execution_count": 51
        }
      ]
    },
    {
      "cell_type": "code",
      "source": [
        "x = torch.rand(2,2)\n",
        "# y = torch.rand(2,2,device= \"cuda\")\n"
      ],
      "metadata": {
        "id": "eqQICQH6GO_T"
      },
      "execution_count": 54,
      "outputs": []
    },
    {
      "cell_type": "code",
      "source": [
        "a = torch.rand(3,22,22)\n",
        "b = a.unsqueeze(0)\n"
      ],
      "metadata": {
        "id": "R2GKy4j-GJBA"
      },
      "execution_count": null,
      "outputs": []
    }
  ]
}