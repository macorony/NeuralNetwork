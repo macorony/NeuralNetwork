{
  "nbformat": 4,
  "nbformat_minor": 0,
  "metadata": {
    "colab": {
      "provenance": [],
      "authorship_tag": "ABX9TyPaSWUIvWetb+suMg/m8Fez",
      "include_colab_link": true
    },
    "kernelspec": {
      "name": "python3",
      "display_name": "Python 3"
    },
    "language_info": {
      "name": "python"
    }
  },
  "cells": [
    {
      "cell_type": "markdown",
      "metadata": {
        "id": "view-in-github",
        "colab_type": "text"
      },
      "source": [
        "<a href=\"https://colab.research.google.com/github/macorony/NeuralNetwork/blob/main/Tensor.ipynb\" target=\"_parent\"><img src=\"https://colab.research.google.com/assets/colab-badge.svg\" alt=\"Open In Colab\"/></a>"
      ]
    },
    {
      "cell_type": "code",
      "execution_count": 2,
      "metadata": {
        "id": "ZtcVILsn0qdG"
      },
      "outputs": [],
      "source": [
        "import torch\n",
        "import math"
      ]
    },
    {
      "cell_type": "code",
      "source": [
        "x = torch.empty(3,4)\n",
        "zeros = torch.zeros(2,3)\n",
        "print(zeros)\n",
        "ones = torch.ones(2,3)\n",
        "print(ones)\n",
        "\n",
        "torch.manual_seed(1729)\n",
        "random = torch.rand(2,3)\n",
        "print(random)"
      ],
      "metadata": {
        "colab": {
          "base_uri": "https://localhost:8080/"
        },
        "id": "1K3ZTacw1IeA",
        "outputId": "198c1023-79d0-4e1f-8ad8-e123fb3e3ffb"
      },
      "execution_count": 6,
      "outputs": [
        {
          "output_type": "stream",
          "name": "stdout",
          "text": [
            "tensor([[0., 0., 0.],\n",
            "        [0., 0., 0.]])\n",
            "tensor([[1., 1., 1.],\n",
            "        [1., 1., 1.]])\n",
            "tensor([[0.3126, 0.3791, 0.3087],\n",
            "        [0.0736, 0.4216, 0.0691]])\n"
          ]
        }
      ]
    },
    {
      "cell_type": "code",
      "source": [
        "torch.manual_seed(1729)\n",
        "rand1 = torch.rand(2,3)\n",
        "print(rand1)\n",
        "\n",
        "rand2 = torch.rand(2,3)\n",
        "print(rand2)"
      ],
      "metadata": {
        "colab": {
          "base_uri": "https://localhost:8080/"
        },
        "id": "5S_x69dc3cKI",
        "outputId": "c64adb1f-80b1-422e-c866-18acba8e1b11"
      },
      "execution_count": 13,
      "outputs": [
        {
          "output_type": "stream",
          "name": "stdout",
          "text": [
            "tensor([[0.3126, 0.3791, 0.3087],\n",
            "        [0.0736, 0.4216, 0.0691]])\n",
            "tensor([[0.2332, 0.4047, 0.2162],\n",
            "        [0.9927, 0.4128, 0.5938]])\n"
          ]
        }
      ]
    },
    {
      "cell_type": "code",
      "source": [
        "torch.manual_seed(1729)\n",
        "rand3 = torch.rand(2,3)\n",
        "print(rand3)\n",
        "\n",
        "rand4 = torch.rand(2,3)\n",
        "print(rand4)"
      ],
      "metadata": {
        "colab": {
          "base_uri": "https://localhost:8080/"
        },
        "id": "UrIxI9Df08tu",
        "outputId": "eb3b4609-92be-4d83-8662-c61f6ba746cd"
      },
      "execution_count": 7,
      "outputs": [
        {
          "output_type": "stream",
          "name": "stdout",
          "text": [
            "tensor([[0.3126, 0.3791, 0.3087],\n",
            "        [0.0736, 0.4216, 0.0691]])\n",
            "tensor([[0.2332, 0.4047, 0.2162],\n",
            "        [0.9927, 0.4128, 0.5938]])\n"
          ]
        }
      ]
    },
    {
      "cell_type": "code",
      "source": [
        "x = torch.empty(2,2,2,2,2,2)\n",
        "print(x.shape)\n",
        "print(x)"
      ],
      "metadata": {
        "colab": {
          "base_uri": "https://localhost:8080/"
        },
        "id": "m566bwd64ZrO",
        "outputId": "5c5d79fc-2ace-4e62-b769-98672aa2ffa8"
      },
      "execution_count": 12,
      "outputs": [
        {
          "output_type": "stream",
          "name": "stdout",
          "text": [
            "torch.Size([2, 2, 2, 2, 2, 2])\n",
            "tensor([[[[[[ 1.1532e+30,  3.1615e-41],\n",
            "            [ 1.1039e+30,  3.1615e-41]],\n",
            "\n",
            "           [[ 1.1210e-43,  0.0000e+00],\n",
            "            [ 8.9683e-44,  0.0000e+00]]],\n",
            "\n",
            "\n",
            "          [[[-1.8237e+31,  3.1619e-41],\n",
            "            [ 1.1518e+30,  3.1615e-41]],\n",
            "\n",
            "           [[ 0.0000e+00,  1.8436e+25],\n",
            "            [ 0.0000e+00,  0.0000e+00]]]],\n",
            "\n",
            "\n",
            "\n",
            "         [[[[ 5.7453e-44,  0.0000e+00],\n",
            "            [ 0.0000e+00,  3.9045e+30]],\n",
            "\n",
            "           [[ 2.0179e-43,  0.0000e+00],\n",
            "            [ 2.6905e-43,  0.0000e+00]]],\n",
            "\n",
            "\n",
            "          [[[ 1.1532e+30,  3.1615e-41],\n",
            "            [ 1.8777e-43,  0.0000e+00]],\n",
            "\n",
            "           [[ 0.0000e+00,  0.0000e+00],\n",
            "            [ 0.0000e+00,  0.0000e+00]]]]],\n",
            "\n",
            "\n",
            "\n",
            "\n",
            "        [[[[[ 0.0000e+00,  0.0000e+00],\n",
            "            [ 7.7052e+31,  7.2148e+22]],\n",
            "\n",
            "           [[ 1.5766e-19,  1.0256e-08],\n",
            "            [ 1.6802e-04,  3.0957e+12]]],\n",
            "\n",
            "\n",
            "          [[[ 2.7095e-09,  6.7140e-07],\n",
            "            [ 2.7001e-06,  1.2962e+16]],\n",
            "\n",
            "           [[ 2.1707e-18,  7.0952e+22],\n",
            "            [ 1.7748e+28,  1.8176e+31]]]],\n",
            "\n",
            "\n",
            "\n",
            "         [[[[ 7.2708e+31,  5.0778e+31],\n",
            "            [ 3.2608e-12,  1.7728e+28]],\n",
            "\n",
            "           [[ 7.0367e+22,  2.1715e-18],\n",
            "            [ 1.0780e-08,  3.4155e-06]]],\n",
            "\n",
            "\n",
            "          [[[ 1.6838e+22,  6.7121e-07],\n",
            "            [ 7.9961e+20,  1.0413e-11]],\n",
            "\n",
            "           [[ 5.2298e+22,  2.6193e+20],\n",
            "            [ 1.6706e-07,  2.1707e-18]]]]]])\n"
          ]
        }
      ]
    },
    {
      "cell_type": "code",
      "source": [
        "a = torch.tensor([\n",
        "    [1,1],\n",
        "    [1,1]\n",
        "    ])\n",
        "print(a)\n",
        "\n",
        "b = torch.tensor((2,2,2,4))\n",
        "print(b)\n",
        "\n",
        "c = torch.tensor(((1,2), [3,4]))\n",
        "print(c)"
      ],
      "metadata": {
        "colab": {
          "base_uri": "https://localhost:8080/"
        },
        "id": "AU9z1idFEGWY",
        "outputId": "109d2070-586b-4267-ecac-b8f9595d93af"
      },
      "execution_count": 24,
      "outputs": [
        {
          "output_type": "stream",
          "name": "stdout",
          "text": [
            "tensor([[1, 1],\n",
            "        [1, 1]])\n",
            "tensor([2, 2, 2, 4])\n",
            "tensor([[1, 2],\n",
            "        [3, 4]])\n"
          ]
        }
      ]
    },
    {
      "cell_type": "code",
      "source": [
        "d = torch.ones((2,3))\n",
        "print(d.shape)"
      ],
      "metadata": {
        "colab": {
          "base_uri": "https://localhost:8080/"
        },
        "id": "4a1yEybwGDI6",
        "outputId": "a037842a-1a70-483d-f914-6e522179ad3a"
      },
      "execution_count": 30,
      "outputs": [
        {
          "output_type": "stream",
          "name": "stdout",
          "text": [
            "torch.Size([2, 3])\n"
          ]
        }
      ]
    },
    {
      "cell_type": "code",
      "source": [
        "torch.tensor((2,3)).shape"
      ],
      "metadata": {
        "colab": {
          "base_uri": "https://localhost:8080/"
        },
        "id": "0xE0kqlz5bbd",
        "outputId": "da726070-8405-431b-c5d6-ec1b804bdd01"
      },
      "execution_count": 28,
      "outputs": [
        {
          "output_type": "execute_result",
          "data": {
            "text/plain": [
              "torch.Size([2])"
            ]
          },
          "metadata": {},
          "execution_count": 28
        }
      ]
    },
    {
      "cell_type": "code",
      "source": [
        "torch.rand(2,3)"
      ],
      "metadata": {
        "colab": {
          "base_uri": "https://localhost:8080/"
        },
        "id": "k8YjDKmuEwV6",
        "outputId": "32556abb-a75c-4d5d-f21e-7da8281cebd4"
      },
      "execution_count": 35,
      "outputs": [
        {
          "output_type": "execute_result",
          "data": {
            "text/plain": [
              "tensor([[0.0703, 0.5105, 0.9451],\n",
              "        [0.2359, 0.1979, 0.3327]])"
            ]
          },
          "metadata": {},
          "execution_count": 35
        }
      ]
    },
    {
      "cell_type": "code",
      "source": [
        "x = torch.empty(2,2,4)\n",
        "x"
      ],
      "metadata": {
        "colab": {
          "base_uri": "https://localhost:8080/"
        },
        "id": "_uFXVNH_HH56",
        "outputId": "9604c2e5-c32f-4a73-b7dd-0bd7c8e75016"
      },
      "execution_count": 38,
      "outputs": [
        {
          "output_type": "execute_result",
          "data": {
            "text/plain": [
              "tensor([[[1.5766e-19, 1.0256e-08, 1.6802e-04, 3.0957e+12],\n",
              "         [2.7095e-09, 6.5566e-10, 1.0919e-05, 1.3032e+16]],\n",
              "\n",
              "        [[2.1707e-18, 7.0952e+22, 1.7748e+28, 1.8176e+31],\n",
              "         [7.2708e+31, 5.0778e+31, 3.2608e-12, 1.7728e+28]]])"
            ]
          },
          "metadata": {},
          "execution_count": 38
        }
      ]
    },
    {
      "cell_type": "code",
      "source": [
        "torch.empty_like(x)"
      ],
      "metadata": {
        "colab": {
          "base_uri": "https://localhost:8080/"
        },
        "id": "pEuL-Oc-HtRZ",
        "outputId": "a8f59e00-3f70-43e4-d805-d91ddfbd72be"
      },
      "execution_count": 39,
      "outputs": [
        {
          "output_type": "execute_result",
          "data": {
            "text/plain": [
              "tensor([[[ 1.5351e+29,  3.1615e-41, -4.2862e-13,  4.3997e-41],\n",
              "         [ 1.4013e-45,  0.0000e+00,  2.2421e-44,  0.0000e+00]],\n",
              "\n",
              "        [[ 0.0000e+00,  0.0000e+00,  0.0000e+00,  0.0000e+00],\n",
              "         [ 0.0000e+00,  0.0000e+00,  0.0000e+00,  0.0000e+00]]])"
            ]
          },
          "metadata": {},
          "execution_count": 39
        }
      ]
    },
    {
      "cell_type": "code",
      "source": [
        "torch.zeros_like(x)"
      ],
      "metadata": {
        "colab": {
          "base_uri": "https://localhost:8080/"
        },
        "id": "2NPpa6UHHz5n",
        "outputId": "71485815-fbc9-4c54-ed08-ea29c9cc173a"
      },
      "execution_count": 40,
      "outputs": [
        {
          "output_type": "execute_result",
          "data": {
            "text/plain": [
              "tensor([[[0., 0., 0., 0.],\n",
              "         [0., 0., 0., 0.]],\n",
              "\n",
              "        [[0., 0., 0., 0.],\n",
              "         [0., 0., 0., 0.]]])"
            ]
          },
          "metadata": {},
          "execution_count": 40
        }
      ]
    },
    {
      "cell_type": "code",
      "source": [
        "torch.ones_like(x)"
      ],
      "metadata": {
        "colab": {
          "base_uri": "https://localhost:8080/"
        },
        "id": "LboEWvqXH4QG",
        "outputId": "b813ecce-06f4-4be1-c45c-67cf94d50d2c"
      },
      "execution_count": 41,
      "outputs": [
        {
          "output_type": "execute_result",
          "data": {
            "text/plain": [
              "tensor([[[1., 1., 1., 1.],\n",
              "         [1., 1., 1., 1.]],\n",
              "\n",
              "        [[1., 1., 1., 1.],\n",
              "         [1., 1., 1., 1.]]])"
            ]
          },
          "metadata": {},
          "execution_count": 41
        }
      ]
    },
    {
      "cell_type": "code",
      "source": [
        "torch.rand_like(x)"
      ],
      "metadata": {
        "colab": {
          "base_uri": "https://localhost:8080/"
        },
        "id": "wuzI-cjJH8HD",
        "outputId": "b0d1d5bb-75f0-4593-9191-87838330b754"
      },
      "execution_count": 44,
      "outputs": [
        {
          "output_type": "execute_result",
          "data": {
            "text/plain": [
              "tensor([[[0.6146, 0.5999, 0.5013, 0.9397],\n",
              "         [0.8656, 0.5207, 0.6865, 0.3614]],\n",
              "\n",
              "        [[0.6493, 0.2633, 0.4762, 0.0548],\n",
              "         [0.2024, 0.5731, 0.7191, 0.4067]]])"
            ]
          },
          "metadata": {},
          "execution_count": 44
        }
      ]
    },
    {
      "cell_type": "code",
      "source": [
        "a = torch.ones((2,3), dtype = torch.int16)\n",
        "print(a)"
      ],
      "metadata": {
        "colab": {
          "base_uri": "https://localhost:8080/"
        },
        "id": "tuTYNj1KH-KD",
        "outputId": "5d95d003-513d-4a02-f0dc-b16ed80fe7ac"
      },
      "execution_count": 46,
      "outputs": [
        {
          "output_type": "stream",
          "name": "stdout",
          "text": [
            "tensor([[1, 1, 1],\n",
            "        [1, 1, 1]], dtype=torch.int16)\n"
          ]
        }
      ]
    },
    {
      "cell_type": "code",
      "source": [
        "b = torch.rand((2,3), dtype = torch.float64)\n",
        "b"
      ],
      "metadata": {
        "colab": {
          "base_uri": "https://localhost:8080/"
        },
        "id": "btNqvv9DIOlo",
        "outputId": "7ff4ffb4-acf6-4325-a311-5b20a3b9939a"
      },
      "execution_count": 51,
      "outputs": [
        {
          "output_type": "execute_result",
          "data": {
            "text/plain": [
              "tensor([[0.0364, 0.8640, 0.2031],\n",
              "        [0.0591, 0.0906, 0.8456]], dtype=torch.float64)"
            ]
          },
          "metadata": {},
          "execution_count": 51
        }
      ]
    },
    {
      "cell_type": "code",
      "source": [
        "c = b.to(torch.int16)\n",
        "c"
      ],
      "metadata": {
        "colab": {
          "base_uri": "https://localhost:8080/"
        },
        "id": "YR7MJVr_Ih9l",
        "outputId": "a68b38d0-abf9-4d5e-b466-5acf44eccc10"
      },
      "execution_count": 54,
      "outputs": [
        {
          "output_type": "execute_result",
          "data": {
            "text/plain": [
              "tensor([[0, 0, 0],\n",
              "        [0, 0, 0]], dtype=torch.int16)"
            ]
          },
          "metadata": {},
          "execution_count": 54
        }
      ]
    },
    {
      "cell_type": "code",
      "source": [
        "ones = torch.zeros((2,2)) + 1\n",
        "ones"
      ],
      "metadata": {
        "colab": {
          "base_uri": "https://localhost:8080/"
        },
        "id": "nignr58XJxy_",
        "outputId": "9d0e96c9-e7f9-4b16-e574-f9e46bd30241"
      },
      "execution_count": 75,
      "outputs": [
        {
          "output_type": "execute_result",
          "data": {
            "text/plain": [
              "tensor([[1., 1.],\n",
              "        [1., 1.]])"
            ]
          },
          "metadata": {},
          "execution_count": 75
        }
      ]
    },
    {
      "cell_type": "code",
      "source": [
        "twos = torch.ones((2,2)) + 1\n",
        "twos"
      ],
      "metadata": {
        "colab": {
          "base_uri": "https://localhost:8080/"
        },
        "id": "MfskRbJRKh1C",
        "outputId": "afa294ac-c4bf-4a1e-b760-8d9aa97c3231"
      },
      "execution_count": 69,
      "outputs": [
        {
          "output_type": "execute_result",
          "data": {
            "text/plain": [
              "tensor([[2., 2.],\n",
              "        [2., 2.]])"
            ]
          },
          "metadata": {},
          "execution_count": 69
        }
      ]
    },
    {
      "cell_type": "code",
      "source": [
        "(torch.ones(2,2) * 7 - 1) / 2"
      ],
      "metadata": {
        "colab": {
          "base_uri": "https://localhost:8080/"
        },
        "id": "XM4hVUvPKq9I",
        "outputId": "f0b7c7c0-e78a-4d30-f33b-c483e6298a3f"
      },
      "execution_count": 62,
      "outputs": [
        {
          "output_type": "execute_result",
          "data": {
            "text/plain": [
              "tensor([[3., 3.],\n",
              "        [3., 3.]])"
            ]
          },
          "metadata": {},
          "execution_count": 62
        }
      ]
    },
    {
      "cell_type": "code",
      "source": [
        "fours = twos ** 2"
      ],
      "metadata": {
        "id": "YR20ZjEILG_p"
      },
      "execution_count": 73,
      "outputs": []
    },
    {
      "cell_type": "code",
      "source": [
        "twos ** 0.5"
      ],
      "metadata": {
        "colab": {
          "base_uri": "https://localhost:8080/"
        },
        "id": "ZF387vtjLb9A",
        "outputId": "a3f3b830-525e-4551-e2d9-d4d942b76faf"
      },
      "execution_count": 66,
      "outputs": [
        {
          "output_type": "execute_result",
          "data": {
            "text/plain": [
              "tensor([[1.4142, 1.4142, 1.4142, 1.4142],\n",
              "        [1.4142, 1.4142, 1.4142, 1.4142],\n",
              "        [1.4142, 1.4142, 1.4142, 1.4142]])"
            ]
          },
          "metadata": {},
          "execution_count": 66
        }
      ]
    },
    {
      "cell_type": "code",
      "source": [
        "power2 = twos ** torch.tensor([[1,2], [3,4]])"
      ],
      "metadata": {
        "id": "rMsY3ZGLLq2t"
      },
      "execution_count": 71,
      "outputs": []
    },
    {
      "cell_type": "code",
      "source": [
        "fives = ones + fours"
      ],
      "metadata": {
        "id": "erXs69SGMBma"
      },
      "execution_count": 76,
      "outputs": []
    },
    {
      "cell_type": "code",
      "source": [
        "rand = torch.rand(2,4)\n",
        "rand * (torch.ones(1,4) * 2)"
      ],
      "metadata": {
        "colab": {
          "base_uri": "https://localhost:8080/"
        },
        "id": "67pIoRAWMarh",
        "outputId": "299da6c1-835b-48dd-f5cc-76770deb5980"
      },
      "execution_count": 79,
      "outputs": [
        {
          "output_type": "execute_result",
          "data": {
            "text/plain": [
              "tensor([[1.4032, 1.3653, 1.8827, 0.8920],\n",
              "        [1.8577, 1.2585, 1.2528, 0.9407]])"
            ]
          },
          "metadata": {},
          "execution_count": 79
        }
      ]
    },
    {
      "cell_type": "code",
      "source": [
        "torch.ones(1,4).shape"
      ],
      "metadata": {
        "colab": {
          "base_uri": "https://localhost:8080/"
        },
        "id": "NAKXuTLxM9wf",
        "outputId": "dac57407-ea28-4e48-fe0f-8704212d303a"
      },
      "execution_count": 82,
      "outputs": [
        {
          "output_type": "execute_result",
          "data": {
            "text/plain": [
              "torch.Size([1, 4])"
            ]
          },
          "metadata": {},
          "execution_count": 82
        }
      ]
    },
    {
      "cell_type": "code",
      "source": [
        "rand.shape"
      ],
      "metadata": {
        "colab": {
          "base_uri": "https://localhost:8080/"
        },
        "id": "POdA-pwQNfWy",
        "outputId": "de04bc71-0232-4946-99a8-c0858c4e716b"
      },
      "execution_count": 83,
      "outputs": [
        {
          "output_type": "execute_result",
          "data": {
            "text/plain": [
              "torch.Size([2, 4])"
            ]
          },
          "metadata": {},
          "execution_count": 83
        }
      ]
    },
    {
      "cell_type": "code",
      "source": [
        "a = torch.ones(4,3,2)\n",
        "a * torch.rand(1,1,2)"
      ],
      "metadata": {
        "colab": {
          "base_uri": "https://localhost:8080/"
        },
        "id": "4MaeyvP9Okj8",
        "outputId": "8c431e4f-4343-4487-fd5b-9f29763c8125"
      },
      "execution_count": 100,
      "outputs": [
        {
          "output_type": "execute_result",
          "data": {
            "text/plain": [
              "tensor([[[0.1067, 0.6171],\n",
              "         [0.1067, 0.6171],\n",
              "         [0.1067, 0.6171]],\n",
              "\n",
              "        [[0.1067, 0.6171],\n",
              "         [0.1067, 0.6171],\n",
              "         [0.1067, 0.6171]],\n",
              "\n",
              "        [[0.1067, 0.6171],\n",
              "         [0.1067, 0.6171],\n",
              "         [0.1067, 0.6171]],\n",
              "\n",
              "        [[0.1067, 0.6171],\n",
              "         [0.1067, 0.6171],\n",
              "         [0.1067, 0.6171]]])"
            ]
          },
          "metadata": {},
          "execution_count": 100
        }
      ]
    },
    {
      "cell_type": "code",
      "source": [
        "a = torch.rand(2,4)"
      ],
      "metadata": {
        "id": "456073wfPCf7"
      },
      "execution_count": 101,
      "outputs": []
    },
    {
      "cell_type": "code",
      "source": [
        "print(torch.abs(a))\n",
        "print(torch.ceil(a))\n",
        "print(torch.floor(a))\n",
        "print(torch.clamp(a, -0.5, 0.5))"
      ],
      "metadata": {
        "colab": {
          "base_uri": "https://localhost:8080/"
        },
        "id": "0FCVg7W6QW1p",
        "outputId": "4dbb4524-89c3-4e23-f850-df6cbc368611"
      },
      "execution_count": 106,
      "outputs": [
        {
          "output_type": "stream",
          "name": "stdout",
          "text": [
            "tensor([[0.6354, 0.5252, 0.6931, 0.0412],\n",
            "        [0.8552, 0.2873, 0.8335, 0.0660]])\n",
            "tensor([[1., 1., 1., 1.],\n",
            "        [1., 1., 1., 1.]])\n",
            "tensor([[0., 0., 0., 0.],\n",
            "        [0., 0., 0., 0.]])\n",
            "tensor([[0.5000, 0.5000, 0.5000, 0.0412],\n",
            "        [0.5000, 0.2873, 0.5000, 0.0660]])\n"
          ]
        }
      ]
    },
    {
      "cell_type": "code",
      "source": [
        "angles = torch.tensor([0, math.pi/4, math.pi/2, 3*math.pi/4])"
      ],
      "metadata": {
        "id": "neensd5BQXT1"
      },
      "execution_count": 108,
      "outputs": []
    },
    {
      "cell_type": "code",
      "source": [
        "print(angles)\n",
        "print(torch.sin(angles))\n",
        "print(torch.asin(angles))"
      ],
      "metadata": {
        "colab": {
          "base_uri": "https://localhost:8080/"
        },
        "id": "WHn_bf9CY-6z",
        "outputId": "e783b617-d41f-4ad2-8fa7-81eae8c30119"
      },
      "execution_count": 112,
      "outputs": [
        {
          "output_type": "stream",
          "name": "stdout",
          "text": [
            "tensor([0.0000, 0.7854, 1.5708, 2.3562])\n",
            "tensor([0.0000, 0.7071, 1.0000, 0.7071])\n",
            "tensor([0.0000, 0.9033,    nan,    nan])\n"
          ]
        }
      ]
    },
    {
      "cell_type": "code",
      "source": [
        "a = torch.tensor([1,5,11])\n",
        "b = torch.tensor([2,7,10])\n",
        "torch.bitwise_xor(a, b)"
      ],
      "metadata": {
        "colab": {
          "base_uri": "https://localhost:8080/"
        },
        "id": "sqXo7OceZTsa",
        "outputId": "6a3b70ef-f29e-4cb8-bb6d-c96ff7683978"
      },
      "execution_count": 113,
      "outputs": [
        {
          "output_type": "execute_result",
          "data": {
            "text/plain": [
              "tensor([3, 2, 1])"
            ]
          },
          "metadata": {},
          "execution_count": 113
        }
      ]
    },
    {
      "cell_type": "code",
      "source": [
        "print(torch.eq(a, b))"
      ],
      "metadata": {
        "colab": {
          "base_uri": "https://localhost:8080/"
        },
        "id": "7UDdD0AUaOKn",
        "outputId": "6f5dc00d-a504-417d-ef4e-227cebd565ef"
      },
      "execution_count": 114,
      "outputs": [
        {
          "output_type": "stream",
          "name": "stdout",
          "text": [
            "tensor([False, False, False])\n"
          ]
        }
      ]
    },
    {
      "cell_type": "code",
      "source": [
        "c = torch.tensor([[1,2], [3,4]], dtype=torch.float64)"
      ],
      "metadata": {
        "id": "gZUbGk8iaYZJ"
      },
      "execution_count": 133,
      "outputs": []
    },
    {
      "cell_type": "code",
      "source": [
        "print(torch.max(c))\n",
        "print(torch.max(c).item())\n",
        "print(torch.mean(c))\n",
        "print(torch.std(c))\n",
        "print(torch.prod(c))"
      ],
      "metadata": {
        "colab": {
          "base_uri": "https://localhost:8080/"
        },
        "id": "JWj-hMakan7w",
        "outputId": "8c6b64c1-b40f-4bb6-880a-9da53b5a7183"
      },
      "execution_count": 135,
      "outputs": [
        {
          "output_type": "stream",
          "name": "stdout",
          "text": [
            "tensor(4., dtype=torch.float64)\n",
            "4.0\n",
            "tensor(2.5000, dtype=torch.float64)\n",
            "tensor(1.2910, dtype=torch.float64)\n",
            "tensor(24., dtype=torch.float64)\n"
          ]
        }
      ]
    },
    {
      "cell_type": "code",
      "source": [
        "# vector and linear algebra operations\n",
        "v1 = torch.tensor([1., 0., 0.])\n",
        "v2 = torch.tensor([0., 1., 0.])\n",
        "m1 = torch.rand(2,2)\n",
        "m2 = torch.tensor([[3.,0.], [0.,3.]])"
      ],
      "metadata": {
        "id": "7l9TG-draoUU"
      },
      "execution_count": 136,
      "outputs": []
    },
    {
      "cell_type": "code",
      "source": [
        "print(torch.cross(v2, v1))\n",
        "print(torch.matmul(m1, m2))"
      ],
      "metadata": {
        "colab": {
          "base_uri": "https://localhost:8080/"
        },
        "id": "lWmk4RYGay6G",
        "outputId": "63649c47-124b-4859-cebe-371dc742acba"
      },
      "execution_count": 139,
      "outputs": [
        {
          "output_type": "stream",
          "name": "stdout",
          "text": [
            "tensor([ 0.,  0., -1.])\n",
            "tensor([[2.1246, 2.7238],\n",
            "        [2.0354, 2.5338]])\n"
          ]
        }
      ]
    },
    {
      "cell_type": "code",
      "source": [
        "a[1]"
      ],
      "metadata": {
        "colab": {
          "base_uri": "https://localhost:8080/"
        },
        "id": "D6V6t4gafVzN",
        "outputId": "a9d22e6e-005c-49b5-8f41-3d2cacdd02bb"
      },
      "execution_count": 142,
      "outputs": [
        {
          "output_type": "execute_result",
          "data": {
            "text/plain": [
              "tensor(5)"
            ]
          },
          "metadata": {},
          "execution_count": 142
        }
      ]
    },
    {
      "cell_type": "code",
      "source": [],
      "metadata": {
        "id": "orUFCKT8frvb"
      },
      "execution_count": null,
      "outputs": []
    }
  ]
}