{
  "nbformat": 4,
  "nbformat_minor": 0,
  "metadata": {
    "colab": {
      "provenance": [],
      "authorship_tag": "ABX9TyN7zcYqzxyFpDvriFEBUwLW",
      "include_colab_link": true
    },
    "kernelspec": {
      "name": "python3",
      "display_name": "Python 3"
    },
    "language_info": {
      "name": "python"
    }
  },
  "cells": [
    {
      "cell_type": "markdown",
      "metadata": {
        "id": "view-in-github",
        "colab_type": "text"
      },
      "source": [
        "<a href=\"https://colab.research.google.com/github/macorony/NeuralNetwork/blob/main/building_models_pytorch.ipynb\" target=\"_parent\"><img src=\"https://colab.research.google.com/assets/colab-badge.svg\" alt=\"Open In Colab\"/></a>"
      ]
    },
    {
      "cell_type": "code",
      "execution_count": 20,
      "metadata": {
        "id": "rAHHtHn6djJf"
      },
      "outputs": [],
      "source": [
        "import torch\n",
        "import torch.nn.functional as F"
      ]
    },
    {
      "cell_type": "code",
      "source": [
        "F.relu"
      ],
      "metadata": {
        "colab": {
          "base_uri": "https://localhost:8080/",
          "height": 174
        },
        "id": "LQZWGD4oocNI",
        "outputId": "37df41f7-e297-4496-cd53-59b6b833f26e"
      },
      "execution_count": 21,
      "outputs": [
        {
          "output_type": "execute_result",
          "data": {
            "text/plain": [
              "<function torch.nn.functional.relu(input: torch.Tensor, inplace: bool = False) -> torch.Tensor>"
            ],
            "text/html": [
              "<div style=\"max-width:800px; border: 1px solid var(--colab-border-color);\"><style>\n",
              "      pre.function-repr-contents {\n",
              "        overflow-x: auto;\n",
              "        padding: 8px 12px;\n",
              "        max-height: 500px;\n",
              "      }\n",
              "\n",
              "      pre.function-repr-contents.function-repr-contents-collapsed {\n",
              "        cursor: pointer;\n",
              "        max-height: 100px;\n",
              "      }\n",
              "    </style>\n",
              "    <pre style=\"white-space: initial; background:\n",
              "         var(--colab-secondary-surface-color); padding: 8px 12px;\n",
              "         border-bottom: 1px solid var(--colab-border-color);\"><b>torch.nn.functional.relu</b><br/>def relu(input: Tensor, inplace: bool=False) -&gt; Tensor</pre><pre class=\"function-repr-contents function-repr-contents-collapsed\" style=\"\"><a class=\"filepath\" style=\"display:none\" href=\"#\">/usr/local/lib/python3.10/dist-packages/torch/nn/functional.py</a>relu(input, inplace=False) -&gt; Tensor\n",
              "\n",
              "Applies the rectified linear unit function element-wise. See\n",
              ":class:`~torch.nn.ReLU` for more details.</pre>\n",
              "      <script>\n",
              "      if (google.colab.kernel.accessAllowed && google.colab.files && google.colab.files.view) {\n",
              "        for (const element of document.querySelectorAll('.filepath')) {\n",
              "          element.style.display = 'block'\n",
              "          element.onclick = (event) => {\n",
              "            event.preventDefault();\n",
              "            event.stopPropagation();\n",
              "            google.colab.files.view(element.textContent, 1489);\n",
              "          };\n",
              "        }\n",
              "      }\n",
              "      for (const element of document.querySelectorAll('.function-repr-contents')) {\n",
              "        element.onclick = (event) => {\n",
              "          event.preventDefault();\n",
              "          event.stopPropagation();\n",
              "          element.classList.toggle('function-repr-contents-collapsed');\n",
              "        };\n",
              "      }\n",
              "      </script>\n",
              "      </div>"
            ]
          },
          "metadata": {},
          "execution_count": 21
        }
      ]
    },
    {
      "cell_type": "code",
      "source": [
        "class MiniNet(torch.nn.Module):\n",
        "  def __init__(self):\n",
        "    super(MiniNet, self).__init__()\n",
        "    self.layer1 = torch.nn.Linear(100, 200)\n",
        "    self.act = torch.nn.ReLU()\n",
        "    self.layer2 = torch.nn.Linear(200, 10)\n",
        "    self.softmax = torch.nn.Softmax()\n",
        "  def forward(self, input):\n",
        "    x = self.layer1(input)\n",
        "    x = self.act(x)\n",
        "    x = self.layer2(x)\n",
        "    output = self.softmax(x)\n",
        "    return output\n"
      ],
      "metadata": {
        "id": "hhYofNyvee6R"
      },
      "execution_count": 2,
      "outputs": []
    },
    {
      "cell_type": "code",
      "source": [
        "smallNet = MiniNet()\n",
        "print(smallNet)\n",
        "print(smallNet.layer1)\n",
        "print(smallNet.layer2)"
      ],
      "metadata": {
        "colab": {
          "base_uri": "https://localhost:8080/"
        },
        "id": "SJhBtzkVf6t8",
        "outputId": "cc091448-5100-4035-d409-dec1c5c49115"
      },
      "execution_count": 3,
      "outputs": [
        {
          "output_type": "stream",
          "name": "stdout",
          "text": [
            "MiniNet(\n",
            "  (layer1): Linear(in_features=100, out_features=200, bias=True)\n",
            "  (act): ReLU()\n",
            "  (layer2): Linear(in_features=200, out_features=10, bias=True)\n",
            "  (softmax): Softmax(dim=None)\n",
            ")\n",
            "Linear(in_features=100, out_features=200, bias=True)\n",
            "Linear(in_features=200, out_features=10, bias=True)\n"
          ]
        }
      ]
    },
    {
      "cell_type": "code",
      "source": [
        "for param in smallNet.parameters():\n",
        "  print(param)"
      ],
      "metadata": {
        "colab": {
          "base_uri": "https://localhost:8080/"
        },
        "collapsed": true,
        "id": "ej9Eib8_gbL0",
        "outputId": "5cd845f2-7b6d-423d-a1c9-7a367e212533"
      },
      "execution_count": 4,
      "outputs": [
        {
          "output_type": "stream",
          "name": "stdout",
          "text": [
            "Parameter containing:\n",
            "tensor([[ 0.0233, -0.0119,  0.0370,  ...,  0.0835, -0.0283, -0.0558],\n",
            "        [-0.0616,  0.0870,  0.0828,  ..., -0.0408,  0.0159,  0.0260],\n",
            "        [ 0.0925, -0.0795,  0.0347,  ..., -0.0378,  0.0952,  0.0779],\n",
            "        ...,\n",
            "        [-0.0258, -0.0550, -0.0217,  ...,  0.0781,  0.0673, -0.0605],\n",
            "        [-0.0084, -0.0029,  0.0138,  ...,  0.0410,  0.0745, -0.0690],\n",
            "        [ 0.0432, -0.0448, -0.0772,  ..., -0.0486, -0.0785,  0.0577]],\n",
            "       requires_grad=True)\n",
            "Parameter containing:\n",
            "tensor([-8.7652e-02, -2.0858e-02,  8.7824e-02,  7.4486e-02,  9.6734e-02,\n",
            "         3.0688e-02, -3.6214e-02,  8.6933e-02,  7.5025e-02,  1.0094e-02,\n",
            "        -6.0553e-03, -2.6720e-02, -6.3130e-02,  1.7750e-05, -5.9953e-02,\n",
            "         4.9103e-02,  6.2169e-02,  6.4504e-02, -1.6529e-02,  6.6016e-02,\n",
            "         9.8685e-02, -1.1230e-02, -6.2356e-03, -7.7069e-02, -4.2872e-03,\n",
            "         1.7814e-02, -7.3394e-02, -8.0369e-02, -3.3907e-02, -5.9664e-02,\n",
            "        -9.3133e-02,  7.8199e-02, -7.1225e-02, -7.9429e-03, -9.8038e-02,\n",
            "         2.3701e-02,  8.8323e-02,  6.3056e-02, -8.1272e-04,  6.7152e-02,\n",
            "        -1.7041e-02,  4.0735e-02, -1.0856e-03, -2.6094e-03, -9.2637e-02,\n",
            "        -1.4810e-02,  7.1046e-02,  8.5488e-02, -7.1078e-02, -8.6848e-02,\n",
            "         8.3305e-02,  4.9414e-02, -8.3292e-02,  8.2570e-02,  8.8540e-02,\n",
            "         5.1509e-02,  5.0595e-02, -1.6051e-03,  8.2187e-02,  5.9793e-02,\n",
            "         6.8244e-02, -7.3390e-02, -6.5217e-02,  5.0173e-02,  8.7226e-02,\n",
            "         5.7431e-02,  5.4620e-02, -4.1487e-02, -5.9783e-02, -1.9371e-02,\n",
            "        -9.2243e-02,  1.0406e-02,  9.3320e-02,  5.9792e-02, -8.6001e-02,\n",
            "         7.2570e-02, -8.6411e-03, -1.9736e-02,  4.4625e-02, -5.0101e-02,\n",
            "         6.2566e-02,  1.7891e-02, -1.3534e-02, -4.4191e-02,  7.6215e-02,\n",
            "        -3.1352e-02, -7.5783e-02, -7.2178e-02,  9.8390e-02, -4.8858e-02,\n",
            "         1.4366e-02, -5.7028e-02,  6.4158e-02,  7.8359e-02, -9.6855e-02,\n",
            "         8.6007e-02,  3.5846e-02,  9.4098e-02,  4.5379e-03, -8.3619e-02,\n",
            "         7.0434e-02, -6.2836e-02, -7.9021e-02,  8.7621e-02,  2.9793e-02,\n",
            "        -1.4648e-03, -3.0199e-02,  2.5004e-02, -2.8929e-02,  7.2879e-02,\n",
            "         6.6262e-03,  4.2606e-02, -6.6265e-02, -7.1349e-02, -4.2614e-02,\n",
            "        -6.3584e-02, -7.3314e-02,  3.7034e-02,  5.8223e-02, -8.6801e-02,\n",
            "        -7.9807e-02,  2.9317e-02,  7.0561e-02, -3.7349e-02,  1.7837e-02,\n",
            "         3.3818e-02,  1.9517e-02, -1.9443e-02,  4.7714e-02,  7.7883e-03,\n",
            "        -3.7082e-03, -9.5570e-02,  9.2560e-02,  5.0668e-02,  3.2016e-02,\n",
            "         4.2392e-02, -4.0134e-02, -7.9160e-02,  1.2179e-02,  4.0630e-02,\n",
            "        -7.1209e-02,  2.8431e-02, -2.2099e-02, -5.1173e-02,  1.6491e-02,\n",
            "        -6.6148e-02, -3.1695e-02, -4.7784e-02, -7.2821e-02,  7.4631e-02,\n",
            "        -8.6534e-02, -9.8314e-02, -2.4156e-02,  1.1565e-02,  5.3636e-02,\n",
            "         2.1330e-02, -6.1980e-02,  9.6043e-02,  2.3270e-02, -1.7656e-02,\n",
            "        -4.4092e-02,  4.6955e-02, -9.3352e-02, -8.1225e-02,  7.8335e-02,\n",
            "         4.2149e-02, -4.0349e-02,  7.1790e-03, -8.1932e-02, -1.1169e-03,\n",
            "         8.4089e-02, -2.1455e-02, -5.1846e-02,  3.8377e-03,  7.8494e-02,\n",
            "        -4.6150e-02, -9.0230e-02, -9.2131e-02,  7.0912e-02, -3.5254e-02,\n",
            "         3.2340e-02,  5.8657e-02,  9.8290e-02, -5.5706e-02, -7.7591e-02,\n",
            "        -1.6684e-02,  7.8457e-02,  6.9999e-02,  4.0161e-02, -1.1492e-03,\n",
            "         5.2529e-02,  1.8743e-02,  7.0496e-02, -8.7591e-02,  3.9450e-02,\n",
            "         3.0640e-02, -5.8699e-02, -9.8925e-02,  2.5401e-02,  1.4676e-02],\n",
            "       requires_grad=True)\n",
            "Parameter containing:\n",
            "tensor([[-0.0320,  0.0226,  0.0271,  ...,  0.0598,  0.0168, -0.0461],\n",
            "        [ 0.0282, -0.0284,  0.0175,  ..., -0.0122, -0.0671, -0.0574],\n",
            "        [-0.0456, -0.0188,  0.0515,  ...,  0.0689, -0.0247, -0.0639],\n",
            "        ...,\n",
            "        [ 0.0620, -0.0489,  0.0692,  ...,  0.0196, -0.0242,  0.0081],\n",
            "        [-0.0099,  0.0373, -0.0287,  ..., -0.0248, -0.0551, -0.0376],\n",
            "        [-0.0355, -0.0664,  0.0596,  ...,  0.0586, -0.0168,  0.0448]],\n",
            "       requires_grad=True)\n",
            "Parameter containing:\n",
            "tensor([ 0.0188, -0.0411, -0.0065, -0.0348, -0.0500, -0.0610, -0.0056,  0.0187,\n",
            "         0.0525,  0.0425], requires_grad=True)\n"
          ]
        }
      ]
    },
    {
      "cell_type": "code",
      "source": [
        "for param in smallNet.layer1.parameters():\n",
        "  print(param)"
      ],
      "metadata": {
        "colab": {
          "base_uri": "https://localhost:8080/"
        },
        "collapsed": true,
        "id": "NuEwqRXxggLP",
        "outputId": "85be80bf-fa71-4374-a2dd-81720f116464"
      },
      "execution_count": 5,
      "outputs": [
        {
          "output_type": "stream",
          "name": "stdout",
          "text": [
            "Parameter containing:\n",
            "tensor([[ 0.0233, -0.0119,  0.0370,  ...,  0.0835, -0.0283, -0.0558],\n",
            "        [-0.0616,  0.0870,  0.0828,  ..., -0.0408,  0.0159,  0.0260],\n",
            "        [ 0.0925, -0.0795,  0.0347,  ..., -0.0378,  0.0952,  0.0779],\n",
            "        ...,\n",
            "        [-0.0258, -0.0550, -0.0217,  ...,  0.0781,  0.0673, -0.0605],\n",
            "        [-0.0084, -0.0029,  0.0138,  ...,  0.0410,  0.0745, -0.0690],\n",
            "        [ 0.0432, -0.0448, -0.0772,  ..., -0.0486, -0.0785,  0.0577]],\n",
            "       requires_grad=True)\n",
            "Parameter containing:\n",
            "tensor([-8.7652e-02, -2.0858e-02,  8.7824e-02,  7.4486e-02,  9.6734e-02,\n",
            "         3.0688e-02, -3.6214e-02,  8.6933e-02,  7.5025e-02,  1.0094e-02,\n",
            "        -6.0553e-03, -2.6720e-02, -6.3130e-02,  1.7750e-05, -5.9953e-02,\n",
            "         4.9103e-02,  6.2169e-02,  6.4504e-02, -1.6529e-02,  6.6016e-02,\n",
            "         9.8685e-02, -1.1230e-02, -6.2356e-03, -7.7069e-02, -4.2872e-03,\n",
            "         1.7814e-02, -7.3394e-02, -8.0369e-02, -3.3907e-02, -5.9664e-02,\n",
            "        -9.3133e-02,  7.8199e-02, -7.1225e-02, -7.9429e-03, -9.8038e-02,\n",
            "         2.3701e-02,  8.8323e-02,  6.3056e-02, -8.1272e-04,  6.7152e-02,\n",
            "        -1.7041e-02,  4.0735e-02, -1.0856e-03, -2.6094e-03, -9.2637e-02,\n",
            "        -1.4810e-02,  7.1046e-02,  8.5488e-02, -7.1078e-02, -8.6848e-02,\n",
            "         8.3305e-02,  4.9414e-02, -8.3292e-02,  8.2570e-02,  8.8540e-02,\n",
            "         5.1509e-02,  5.0595e-02, -1.6051e-03,  8.2187e-02,  5.9793e-02,\n",
            "         6.8244e-02, -7.3390e-02, -6.5217e-02,  5.0173e-02,  8.7226e-02,\n",
            "         5.7431e-02,  5.4620e-02, -4.1487e-02, -5.9783e-02, -1.9371e-02,\n",
            "        -9.2243e-02,  1.0406e-02,  9.3320e-02,  5.9792e-02, -8.6001e-02,\n",
            "         7.2570e-02, -8.6411e-03, -1.9736e-02,  4.4625e-02, -5.0101e-02,\n",
            "         6.2566e-02,  1.7891e-02, -1.3534e-02, -4.4191e-02,  7.6215e-02,\n",
            "        -3.1352e-02, -7.5783e-02, -7.2178e-02,  9.8390e-02, -4.8858e-02,\n",
            "         1.4366e-02, -5.7028e-02,  6.4158e-02,  7.8359e-02, -9.6855e-02,\n",
            "         8.6007e-02,  3.5846e-02,  9.4098e-02,  4.5379e-03, -8.3619e-02,\n",
            "         7.0434e-02, -6.2836e-02, -7.9021e-02,  8.7621e-02,  2.9793e-02,\n",
            "        -1.4648e-03, -3.0199e-02,  2.5004e-02, -2.8929e-02,  7.2879e-02,\n",
            "         6.6262e-03,  4.2606e-02, -6.6265e-02, -7.1349e-02, -4.2614e-02,\n",
            "        -6.3584e-02, -7.3314e-02,  3.7034e-02,  5.8223e-02, -8.6801e-02,\n",
            "        -7.9807e-02,  2.9317e-02,  7.0561e-02, -3.7349e-02,  1.7837e-02,\n",
            "         3.3818e-02,  1.9517e-02, -1.9443e-02,  4.7714e-02,  7.7883e-03,\n",
            "        -3.7082e-03, -9.5570e-02,  9.2560e-02,  5.0668e-02,  3.2016e-02,\n",
            "         4.2392e-02, -4.0134e-02, -7.9160e-02,  1.2179e-02,  4.0630e-02,\n",
            "        -7.1209e-02,  2.8431e-02, -2.2099e-02, -5.1173e-02,  1.6491e-02,\n",
            "        -6.6148e-02, -3.1695e-02, -4.7784e-02, -7.2821e-02,  7.4631e-02,\n",
            "        -8.6534e-02, -9.8314e-02, -2.4156e-02,  1.1565e-02,  5.3636e-02,\n",
            "         2.1330e-02, -6.1980e-02,  9.6043e-02,  2.3270e-02, -1.7656e-02,\n",
            "        -4.4092e-02,  4.6955e-02, -9.3352e-02, -8.1225e-02,  7.8335e-02,\n",
            "         4.2149e-02, -4.0349e-02,  7.1790e-03, -8.1932e-02, -1.1169e-03,\n",
            "         8.4089e-02, -2.1455e-02, -5.1846e-02,  3.8377e-03,  7.8494e-02,\n",
            "        -4.6150e-02, -9.0230e-02, -9.2131e-02,  7.0912e-02, -3.5254e-02,\n",
            "         3.2340e-02,  5.8657e-02,  9.8290e-02, -5.5706e-02, -7.7591e-02,\n",
            "        -1.6684e-02,  7.8457e-02,  6.9999e-02,  4.0161e-02, -1.1492e-03,\n",
            "         5.2529e-02,  1.8743e-02,  7.0496e-02, -8.7591e-02,  3.9450e-02,\n",
            "         3.0640e-02, -5.8699e-02, -9.8925e-02,  2.5401e-02,  1.4676e-02],\n",
            "       requires_grad=True)\n"
          ]
        }
      ]
    },
    {
      "cell_type": "markdown",
      "source": [
        "# Layer Types"
      ],
      "metadata": {
        "id": "9afSFvfug0py"
      }
    },
    {
      "cell_type": "code",
      "source": [
        "linear = torch.nn.Linear(3,2)\n",
        "x = torch.rand(1,3)\n",
        "print(linear.weight)"
      ],
      "metadata": {
        "colab": {
          "base_uri": "https://localhost:8080/"
        },
        "id": "HhMG2PoSgwFs",
        "outputId": "74d186d8-6c36-4235-9c7d-a53d3796ef22"
      },
      "execution_count": 13,
      "outputs": [
        {
          "output_type": "stream",
          "name": "stdout",
          "text": [
            "Parameter containing:\n",
            "tensor([[ 0.4122, -0.4587,  0.3181],\n",
            "        [ 0.2280, -0.3029,  0.5445]], requires_grad=True)\n"
          ]
        }
      ]
    },
    {
      "cell_type": "code",
      "source": [
        "for param in linear.parameters():\n",
        "  print(param)"
      ],
      "metadata": {
        "colab": {
          "base_uri": "https://localhost:8080/"
        },
        "id": "9ZM5JVJAhksa",
        "outputId": "96d5529a-6785-4776-bffa-4f0d7766fedf"
      },
      "execution_count": 11,
      "outputs": [
        {
          "output_type": "stream",
          "name": "stdout",
          "text": [
            "Parameter containing:\n",
            "tensor([[ 0.0088, -0.5499, -0.0784],\n",
            "        [ 0.1814,  0.2356, -0.0315]], requires_grad=True)\n",
            "Parameter containing:\n",
            "tensor([ 0.4821, -0.2158], requires_grad=True)\n"
          ]
        }
      ]
    },
    {
      "cell_type": "code",
      "source": [
        "output = linear(x)\n",
        "print(output)"
      ],
      "metadata": {
        "colab": {
          "base_uri": "https://localhost:8080/"
        },
        "id": "iAlhg8b1hW04",
        "outputId": "ab52058b-9572-4c88-be91-846246f2a0c8"
      },
      "execution_count": 12,
      "outputs": [
        {
          "output_type": "stream",
          "name": "stdout",
          "text": [
            "tensor([[-0.0878,  0.1370]], grad_fn=<AddmmBackward0>)\n"
          ]
        }
      ]
    },
    {
      "cell_type": "code",
      "source": [
        "class LeNet(torch.nn.Module):\n",
        "  def __init__(self):\n",
        "    super(LeNet, self).__init__()\n",
        "    self.conv1 = torch.nn.Conv2d(1,6,5)\n",
        "    self.conv2 = torch.nn.Conv2d(6,16,3)\n",
        "    self.fc1 = torch.nn.Linear(16*6*6, 120)\n",
        "    self.fc2 = torch.nn.Linear(120,84)\n",
        "    self.fc3 = torch.nn.Linear(84,10)\n",
        "\n",
        "  def forward(self, input):\n",
        "    x = F.max_pool2d(F.relu(self.conv1(input)), (2,2))\n",
        "    x = F.max_pool2d(F.relu(self.conv2(x)), 2)\n",
        "    x = x.view(-1, self.num_flat_features(x))\n",
        "    x = F.relu(self.fc1(x))\n",
        "    x = F.relu(self.fc2(x))\n",
        "    x = self.fc3(x)\n",
        "    return x\n",
        "  def num_flat_features(self, x):\n",
        "    size = x.size()[1:]\n",
        "    num_features = 1\n",
        "    for s in size:\n",
        "      num_features *= s\n",
        "    return num_features\n"
      ],
      "metadata": {
        "id": "ix0zJSKuhdTw"
      },
      "execution_count": 22,
      "outputs": []
    },
    {
      "cell_type": "code",
      "source": [
        "class LSTMTagger(torch.nn.Module):\n",
        "  def __init__(self, embedding_dim, hidden_dim, vocab_size, tagset_size):\n",
        "    super(LSTMTagger, self).__init__()\n",
        "    self.hidden_dim = hidden_dim\n",
        "    self.word_embeddings = torch.nn.Embedding(vocab_size, embedding_dim)\n",
        "    self.lstm =  torch.nn.LSTM(embedding_dim, hidden_dim)\n",
        "\n",
        "    self.hidden2tag = torch.nn.Linear(hidden_dim, tagset_size)\n",
        "\n",
        "  def forward(self, sentence):\n",
        "    embeds = self.word_embeddings(sentence)\n",
        "    lstm_out, _ = self.lstm(embeds.view(len(sentence), 1, -1))\n",
        "    tag_space = self.hidden2tag(lstm_out.view(len(sentence), -1))\n",
        "    tag_scores = F.log_softmax(tag_space, dim = 1)\n",
        "    return tag_scores\n"
      ],
      "metadata": {
        "id": "OUy1b-pLrjZJ"
      },
      "execution_count": 22,
      "outputs": []
    },
    {
      "cell_type": "code",
      "source": [],
      "metadata": {
        "id": "WRSo_F3ou5PW"
      },
      "execution_count": 22,
      "outputs": []
    },
    {
      "cell_type": "code",
      "source": [],
      "metadata": {
        "id": "GlQfW-Dqu5Rl"
      },
      "execution_count": 22,
      "outputs": []
    },
    {
      "cell_type": "code",
      "source": [],
      "metadata": {
        "id": "ZwMvrmJIu5Tq"
      },
      "execution_count": null,
      "outputs": []
    }
  ]
}